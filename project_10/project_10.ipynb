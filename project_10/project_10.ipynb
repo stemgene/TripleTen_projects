{
 "cells": [
  {
   "cell_type": "code",
   "execution_count": 49,
   "metadata": {},
   "outputs": [],
   "source": [
    "import pandas as pd\n",
    "import numpy as np\n",
    "import matplotlib.pyplot as plt\n",
    "import sklearn\n",
    "from sklearn.metrics import confusion_matrix, mean_absolute_error, recall_score, precision_score, make_scorer\n",
    "from sklearn.pipeline import Pipeline\n",
    "from sklearn.linear_model import LinearRegression\n",
    "from sklearn.ensemble import RandomForestRegressor\n",
    "from sklearn.tree import DecisionTreeRegressor\n",
    "from sklearn.preprocessing import StandardScaler\n",
    "from sklearn.model_selection import cross_val_score, train_test_split\n",
    "from sklearn.dummy import DummyRegressor\n",
    "from scipy import stats as st\n",
    "import seaborn as sns\n",
    "import xgboost as xgb"
   ]
  },
  {
   "cell_type": "code",
   "execution_count": 2,
   "metadata": {},
   "outputs": [
    {
     "data": {
      "text/html": [
       "<div>\n",
       "<style scoped>\n",
       "    .dataframe tbody tr th:only-of-type {\n",
       "        vertical-align: middle;\n",
       "    }\n",
       "\n",
       "    .dataframe tbody tr th {\n",
       "        vertical-align: top;\n",
       "    }\n",
       "\n",
       "    .dataframe thead th {\n",
       "        text-align: right;\n",
       "    }\n",
       "</style>\n",
       "<table border=\"1\" class=\"dataframe\">\n",
       "  <thead>\n",
       "    <tr style=\"text-align: right;\">\n",
       "      <th></th>\n",
       "      <th>date</th>\n",
       "      <th>final.output.concentrate_ag</th>\n",
       "      <th>final.output.concentrate_pb</th>\n",
       "      <th>final.output.concentrate_sol</th>\n",
       "      <th>final.output.concentrate_au</th>\n",
       "      <th>final.output.recovery</th>\n",
       "      <th>final.output.tail_ag</th>\n",
       "      <th>final.output.tail_pb</th>\n",
       "      <th>final.output.tail_sol</th>\n",
       "      <th>final.output.tail_au</th>\n",
       "      <th>...</th>\n",
       "      <th>secondary_cleaner.state.floatbank4_a_air</th>\n",
       "      <th>secondary_cleaner.state.floatbank4_a_level</th>\n",
       "      <th>secondary_cleaner.state.floatbank4_b_air</th>\n",
       "      <th>secondary_cleaner.state.floatbank4_b_level</th>\n",
       "      <th>secondary_cleaner.state.floatbank5_a_air</th>\n",
       "      <th>secondary_cleaner.state.floatbank5_a_level</th>\n",
       "      <th>secondary_cleaner.state.floatbank5_b_air</th>\n",
       "      <th>secondary_cleaner.state.floatbank5_b_level</th>\n",
       "      <th>secondary_cleaner.state.floatbank6_a_air</th>\n",
       "      <th>secondary_cleaner.state.floatbank6_a_level</th>\n",
       "    </tr>\n",
       "  </thead>\n",
       "  <tbody>\n",
       "    <tr>\n",
       "      <th>0</th>\n",
       "      <td>2016-01-15 00:00:00</td>\n",
       "      <td>6.055403</td>\n",
       "      <td>9.889648</td>\n",
       "      <td>5.507324</td>\n",
       "      <td>42.192020</td>\n",
       "      <td>70.541216</td>\n",
       "      <td>10.411962</td>\n",
       "      <td>0.895447</td>\n",
       "      <td>16.904297</td>\n",
       "      <td>2.143149</td>\n",
       "      <td>...</td>\n",
       "      <td>14.016835</td>\n",
       "      <td>-502.488007</td>\n",
       "      <td>12.099931</td>\n",
       "      <td>-504.715942</td>\n",
       "      <td>9.925633</td>\n",
       "      <td>-498.310211</td>\n",
       "      <td>8.079666</td>\n",
       "      <td>-500.470978</td>\n",
       "      <td>14.151341</td>\n",
       "      <td>-605.841980</td>\n",
       "    </tr>\n",
       "    <tr>\n",
       "      <th>1</th>\n",
       "      <td>2016-01-15 01:00:00</td>\n",
       "      <td>6.029369</td>\n",
       "      <td>9.968944</td>\n",
       "      <td>5.257781</td>\n",
       "      <td>42.701629</td>\n",
       "      <td>69.266198</td>\n",
       "      <td>10.462676</td>\n",
       "      <td>0.927452</td>\n",
       "      <td>16.634514</td>\n",
       "      <td>2.224930</td>\n",
       "      <td>...</td>\n",
       "      <td>13.992281</td>\n",
       "      <td>-505.503262</td>\n",
       "      <td>11.950531</td>\n",
       "      <td>-501.331529</td>\n",
       "      <td>10.039245</td>\n",
       "      <td>-500.169983</td>\n",
       "      <td>7.984757</td>\n",
       "      <td>-500.582168</td>\n",
       "      <td>13.998353</td>\n",
       "      <td>-599.787184</td>\n",
       "    </tr>\n",
       "    <tr>\n",
       "      <th>2</th>\n",
       "      <td>2016-01-15 02:00:00</td>\n",
       "      <td>6.055926</td>\n",
       "      <td>10.213995</td>\n",
       "      <td>5.383759</td>\n",
       "      <td>42.657501</td>\n",
       "      <td>68.116445</td>\n",
       "      <td>10.507046</td>\n",
       "      <td>0.953716</td>\n",
       "      <td>16.208849</td>\n",
       "      <td>2.257889</td>\n",
       "      <td>...</td>\n",
       "      <td>14.015015</td>\n",
       "      <td>-502.520901</td>\n",
       "      <td>11.912783</td>\n",
       "      <td>-501.133383</td>\n",
       "      <td>10.070913</td>\n",
       "      <td>-500.129135</td>\n",
       "      <td>8.013877</td>\n",
       "      <td>-500.517572</td>\n",
       "      <td>14.028663</td>\n",
       "      <td>-601.427363</td>\n",
       "    </tr>\n",
       "    <tr>\n",
       "      <th>3</th>\n",
       "      <td>2016-01-15 03:00:00</td>\n",
       "      <td>6.047977</td>\n",
       "      <td>9.977019</td>\n",
       "      <td>4.858634</td>\n",
       "      <td>42.689819</td>\n",
       "      <td>68.347543</td>\n",
       "      <td>10.422762</td>\n",
       "      <td>0.883763</td>\n",
       "      <td>16.532835</td>\n",
       "      <td>2.146849</td>\n",
       "      <td>...</td>\n",
       "      <td>14.036510</td>\n",
       "      <td>-500.857308</td>\n",
       "      <td>11.999550</td>\n",
       "      <td>-501.193686</td>\n",
       "      <td>9.970366</td>\n",
       "      <td>-499.201640</td>\n",
       "      <td>7.977324</td>\n",
       "      <td>-500.255908</td>\n",
       "      <td>14.005551</td>\n",
       "      <td>-599.996129</td>\n",
       "    </tr>\n",
       "    <tr>\n",
       "      <th>4</th>\n",
       "      <td>2016-01-15 04:00:00</td>\n",
       "      <td>6.148599</td>\n",
       "      <td>10.142511</td>\n",
       "      <td>4.939416</td>\n",
       "      <td>42.774141</td>\n",
       "      <td>66.927016</td>\n",
       "      <td>10.360302</td>\n",
       "      <td>0.792826</td>\n",
       "      <td>16.525686</td>\n",
       "      <td>2.055292</td>\n",
       "      <td>...</td>\n",
       "      <td>14.027298</td>\n",
       "      <td>-499.838632</td>\n",
       "      <td>11.953070</td>\n",
       "      <td>-501.053894</td>\n",
       "      <td>9.925709</td>\n",
       "      <td>-501.686727</td>\n",
       "      <td>7.894242</td>\n",
       "      <td>-500.356035</td>\n",
       "      <td>13.996647</td>\n",
       "      <td>-601.496691</td>\n",
       "    </tr>\n",
       "  </tbody>\n",
       "</table>\n",
       "<p>5 rows × 87 columns</p>\n",
       "</div>"
      ],
      "text/plain": [
       "                  date  final.output.concentrate_ag  \\\n",
       "0  2016-01-15 00:00:00                     6.055403   \n",
       "1  2016-01-15 01:00:00                     6.029369   \n",
       "2  2016-01-15 02:00:00                     6.055926   \n",
       "3  2016-01-15 03:00:00                     6.047977   \n",
       "4  2016-01-15 04:00:00                     6.148599   \n",
       "\n",
       "   final.output.concentrate_pb  final.output.concentrate_sol  \\\n",
       "0                     9.889648                      5.507324   \n",
       "1                     9.968944                      5.257781   \n",
       "2                    10.213995                      5.383759   \n",
       "3                     9.977019                      4.858634   \n",
       "4                    10.142511                      4.939416   \n",
       "\n",
       "   final.output.concentrate_au  final.output.recovery  final.output.tail_ag  \\\n",
       "0                    42.192020              70.541216             10.411962   \n",
       "1                    42.701629              69.266198             10.462676   \n",
       "2                    42.657501              68.116445             10.507046   \n",
       "3                    42.689819              68.347543             10.422762   \n",
       "4                    42.774141              66.927016             10.360302   \n",
       "\n",
       "   final.output.tail_pb  final.output.tail_sol  final.output.tail_au  ...  \\\n",
       "0              0.895447              16.904297              2.143149  ...   \n",
       "1              0.927452              16.634514              2.224930  ...   \n",
       "2              0.953716              16.208849              2.257889  ...   \n",
       "3              0.883763              16.532835              2.146849  ...   \n",
       "4              0.792826              16.525686              2.055292  ...   \n",
       "\n",
       "   secondary_cleaner.state.floatbank4_a_air  \\\n",
       "0                                 14.016835   \n",
       "1                                 13.992281   \n",
       "2                                 14.015015   \n",
       "3                                 14.036510   \n",
       "4                                 14.027298   \n",
       "\n",
       "   secondary_cleaner.state.floatbank4_a_level  \\\n",
       "0                                 -502.488007   \n",
       "1                                 -505.503262   \n",
       "2                                 -502.520901   \n",
       "3                                 -500.857308   \n",
       "4                                 -499.838632   \n",
       "\n",
       "   secondary_cleaner.state.floatbank4_b_air  \\\n",
       "0                                 12.099931   \n",
       "1                                 11.950531   \n",
       "2                                 11.912783   \n",
       "3                                 11.999550   \n",
       "4                                 11.953070   \n",
       "\n",
       "   secondary_cleaner.state.floatbank4_b_level  \\\n",
       "0                                 -504.715942   \n",
       "1                                 -501.331529   \n",
       "2                                 -501.133383   \n",
       "3                                 -501.193686   \n",
       "4                                 -501.053894   \n",
       "\n",
       "   secondary_cleaner.state.floatbank5_a_air  \\\n",
       "0                                  9.925633   \n",
       "1                                 10.039245   \n",
       "2                                 10.070913   \n",
       "3                                  9.970366   \n",
       "4                                  9.925709   \n",
       "\n",
       "   secondary_cleaner.state.floatbank5_a_level  \\\n",
       "0                                 -498.310211   \n",
       "1                                 -500.169983   \n",
       "2                                 -500.129135   \n",
       "3                                 -499.201640   \n",
       "4                                 -501.686727   \n",
       "\n",
       "   secondary_cleaner.state.floatbank5_b_air  \\\n",
       "0                                  8.079666   \n",
       "1                                  7.984757   \n",
       "2                                  8.013877   \n",
       "3                                  7.977324   \n",
       "4                                  7.894242   \n",
       "\n",
       "   secondary_cleaner.state.floatbank5_b_level  \\\n",
       "0                                 -500.470978   \n",
       "1                                 -500.582168   \n",
       "2                                 -500.517572   \n",
       "3                                 -500.255908   \n",
       "4                                 -500.356035   \n",
       "\n",
       "   secondary_cleaner.state.floatbank6_a_air  \\\n",
       "0                                 14.151341   \n",
       "1                                 13.998353   \n",
       "2                                 14.028663   \n",
       "3                                 14.005551   \n",
       "4                                 13.996647   \n",
       "\n",
       "   secondary_cleaner.state.floatbank6_a_level  \n",
       "0                                 -605.841980  \n",
       "1                                 -599.787184  \n",
       "2                                 -601.427363  \n",
       "3                                 -599.996129  \n",
       "4                                 -601.496691  \n",
       "\n",
       "[5 rows x 87 columns]"
      ]
     },
     "execution_count": 2,
     "metadata": {},
     "output_type": "execute_result"
    }
   ],
   "source": [
    "train = pd.read_csv(\"/datasets/gold_recovery_train.csv\")\n",
    "test = pd.read_csv(\"/datasets/gold_recovery_test.csv\")\n",
    "full = pd.read_csv(\"/datasets/gold_recovery_full.csv\")\n",
    "train.head()"
   ]
  },
  {
   "cell_type": "markdown",
   "metadata": {},
   "source": [
    "## Prepare the data"
   ]
  },
  {
   "cell_type": "markdown",
   "metadata": {},
   "source": [
    "### Check the `train` and `test` set"
   ]
  },
  {
   "cell_type": "code",
   "execution_count": 3,
   "metadata": {},
   "outputs": [],
   "source": [
    "train['date'] = pd.to_datetime(train['date'])\n",
    "test['date'] = pd.to_datetime(test['date'])\n",
    "full['date'] = pd.to_datetime(full['date'])"
   ]
  },
  {
   "cell_type": "code",
   "execution_count": 4,
   "metadata": {},
   "outputs": [
    {
     "data": {
      "image/png": "[encoded data removed]",
      "text/plain": [
       "<Figure size 1080x432 with 1 Axes>"
      ]
     },
     "metadata": {
      "needs_background": "light"
     },
     "output_type": "display_data"
    }
   ],
   "source": [
    "plt.figure(figsize=(15, 6))\n",
    "sns.histplot(data=train, x='date', bins=200, color='blue', alpha=0.5, label='Training Set')\n",
    "sns.histplot(data=test, x='date', bins=200, color='red', alpha=0.5, label='Test Set')\n",
    "\n",
    "plt.title('Comparison of Training Set and Test Set')\n",
    "plt.xlabel('Datetime')\n",
    "plt.ylabel('Count')\n",
    "\n",
    "plt.legend()\n",
    "plt.show()"
   ]
  },
  {
   "cell_type": "markdown",
   "metadata": {},
   "source": [
    "<div class=\"alert alert-success\">\n",
    "<b>Reviewer's comment</b>\n",
    "\n",
    "Nice visualization!\n",
    "    \n",
    "\n",
    "</div>"
   ]
  },
  {
   "cell_type": "code",
   "execution_count": 5,
   "metadata": {},
   "outputs": [
    {
     "data": {
      "text/html": [
       "<div>\n",
       "<style scoped>\n",
       "    .dataframe tbody tr th:only-of-type {\n",
       "        vertical-align: middle;\n",
       "    }\n",
       "\n",
       "    .dataframe tbody tr th {\n",
       "        vertical-align: top;\n",
       "    }\n",
       "\n",
       "    .dataframe thead th {\n",
       "        text-align: right;\n",
       "    }\n",
       "</style>\n",
       "<table border=\"1\" class=\"dataframe\">\n",
       "  <thead>\n",
       "    <tr style=\"text-align: right;\">\n",
       "      <th></th>\n",
       "      <th>date</th>\n",
       "      <th>final.output.concentrate_ag</th>\n",
       "      <th>final.output.concentrate_pb</th>\n",
       "    </tr>\n",
       "  </thead>\n",
       "  <tbody>\n",
       "    <tr>\n",
       "      <th>5518</th>\n",
       "      <td>2016-08-31 21:59:59</td>\n",
       "      <td>5.664237</td>\n",
       "      <td>10.021368</td>\n",
       "    </tr>\n",
       "    <tr>\n",
       "      <th>5519</th>\n",
       "      <td>2016-08-31 22:59:59</td>\n",
       "      <td>6.066618</td>\n",
       "      <td>9.908392</td>\n",
       "    </tr>\n",
       "    <tr>\n",
       "      <th>5520</th>\n",
       "      <td>2016-08-31 23:59:59</td>\n",
       "      <td>7.108574</td>\n",
       "      <td>10.110568</td>\n",
       "    </tr>\n",
       "    <tr>\n",
       "      <th>5521</th>\n",
       "      <td>2017-01-01 00:59:59</td>\n",
       "      <td>9.849632</td>\n",
       "      <td>8.437286</td>\n",
       "    </tr>\n",
       "    <tr>\n",
       "      <th>5522</th>\n",
       "      <td>2017-01-01 01:59:59</td>\n",
       "      <td>8.415084</td>\n",
       "      <td>8.927103</td>\n",
       "    </tr>\n",
       "  </tbody>\n",
       "</table>\n",
       "</div>"
      ],
      "text/plain": [
       "                    date  final.output.concentrate_ag  \\\n",
       "5518 2016-08-31 21:59:59                     5.664237   \n",
       "5519 2016-08-31 22:59:59                     6.066618   \n",
       "5520 2016-08-31 23:59:59                     7.108574   \n",
       "5521 2017-01-01 00:59:59                     9.849632   \n",
       "5522 2017-01-01 01:59:59                     8.415084   \n",
       "\n",
       "      final.output.concentrate_pb  \n",
       "5518                    10.021368  \n",
       "5519                     9.908392  \n",
       "5520                    10.110568  \n",
       "5521                     8.437286  \n",
       "5522                     8.927103  "
      ]
     },
     "execution_count": 5,
     "metadata": {},
     "output_type": "execute_result"
    }
   ],
   "source": [
    "train.iloc[5518:5523, 0:3]"
   ]
  },
  {
   "cell_type": "code",
   "execution_count": 6,
   "metadata": {},
   "outputs": [
    {
     "data": {
      "text/html": [
       "<div>\n",
       "<style scoped>\n",
       "    .dataframe tbody tr th:only-of-type {\n",
       "        vertical-align: middle;\n",
       "    }\n",
       "\n",
       "    .dataframe tbody tr th {\n",
       "        vertical-align: top;\n",
       "    }\n",
       "\n",
       "    .dataframe thead th {\n",
       "        text-align: right;\n",
       "    }\n",
       "</style>\n",
       "<table border=\"1\" class=\"dataframe\">\n",
       "  <thead>\n",
       "    <tr style=\"text-align: right;\">\n",
       "      <th></th>\n",
       "      <th>date</th>\n",
       "      <th>primary_cleaner.input.sulfate</th>\n",
       "      <th>primary_cleaner.input.depressant</th>\n",
       "    </tr>\n",
       "  </thead>\n",
       "  <tbody>\n",
       "    <tr>\n",
       "      <th>2925</th>\n",
       "      <td>2016-12-31 21:59:59</td>\n",
       "      <td>132.630897</td>\n",
       "      <td>8.998328</td>\n",
       "    </tr>\n",
       "    <tr>\n",
       "      <th>2926</th>\n",
       "      <td>2016-12-31 22:59:59</td>\n",
       "      <td>127.775871</td>\n",
       "      <td>8.979377</td>\n",
       "    </tr>\n",
       "    <tr>\n",
       "      <th>2927</th>\n",
       "      <td>2016-12-31 23:59:59</td>\n",
       "      <td>127.135359</td>\n",
       "      <td>8.981477</td>\n",
       "    </tr>\n",
       "    <tr>\n",
       "      <th>2928</th>\n",
       "      <td>2017-09-01 00:59:59</td>\n",
       "      <td>189.345462</td>\n",
       "      <td>5.997663</td>\n",
       "    </tr>\n",
       "    <tr>\n",
       "      <th>2929</th>\n",
       "      <td>2017-09-01 01:59:59</td>\n",
       "      <td>199.767960</td>\n",
       "      <td>5.934489</td>\n",
       "    </tr>\n",
       "  </tbody>\n",
       "</table>\n",
       "</div>"
      ],
      "text/plain": [
       "                    date  primary_cleaner.input.sulfate  \\\n",
       "2925 2016-12-31 21:59:59                     132.630897   \n",
       "2926 2016-12-31 22:59:59                     127.775871   \n",
       "2927 2016-12-31 23:59:59                     127.135359   \n",
       "2928 2017-09-01 00:59:59                     189.345462   \n",
       "2929 2017-09-01 01:59:59                     199.767960   \n",
       "\n",
       "      primary_cleaner.input.depressant  \n",
       "2925                          8.998328  \n",
       "2926                          8.979377  \n",
       "2927                          8.981477  \n",
       "2928                          5.997663  \n",
       "2929                          5.934489  "
      ]
     },
     "execution_count": 6,
     "metadata": {},
     "output_type": "execute_result"
    }
   ],
   "source": [
    "test.iloc[2925:2930, 0:3]"
   ]
  },
  {
   "cell_type": "markdown",
   "metadata": {},
   "source": [
    "The distribution below is how the training and test data been chosen. They don't have any overlaps."
   ]
  },
  {
   "cell_type": "markdown",
   "metadata": {},
   "source": [
    "### Check that recovery is calculated correctly.\n",
    "\n",
    "I'll use the training set, calculate recovery for the `rougher.output.recovery` feature.\n",
    "\n",
    "According to the formula\n",
    "\n",
    "$$Recovery = \\frac{C * (F - T)}{F*(C-T)}*100%$$\n",
    "\n",
    "* C — share of gold in the concentrate right after flotation (for finding the rougher concentrate recovery)/after purification (for finding the final concentrate recovery)\n",
    "* F — share of gold in the feed before flotation (for finding the rougher concentrate recovery)/in the concentrate right after flotation (for finding the final concentrate recovery)\n",
    "* T — share of gold in the rougher tails right after flotation (for finding the rougher concentrate recovery)/after purification (for finding the final concentrate recovery)\n",
    "\n",
    "Specificly, we can use these columns to represent C, F, and T directly.\n",
    "\n",
    "|Stage| Rougher | Purification|\n",
    "|--   |  --     |  --        |\n",
    "| C   |`rougher.output.concentrate_au`| `final.output.concentrate_au`|\n",
    "| F   |`rougher.input.feed_au` | `rougher.output.concentrate_au`|\n",
    "| T   |`rougher.output.tail_au`| `final.output.tail_au`|"
   ]
  },
  {
   "cell_type": "code",
   "execution_count": 7,
   "metadata": {},
   "outputs": [
    {
     "data": {
      "text/plain": [
       "(14287, 4)"
      ]
     },
     "execution_count": 7,
     "metadata": {},
     "output_type": "execute_result"
    }
   ],
   "source": [
    "# Make a subset to drop N/A easily\n",
    "subset_columns = ['rougher.output.recovery', 'rougher.output.concentrate_au', 'rougher.input.feed_au', 'rougher.output.tail_au']\n",
    "subset_for_calculating_recovery = train.loc[:, subset_columns].dropna(axis=0)\n",
    "subset_for_calculating_recovery.shape"
   ]
  },
  {
   "cell_type": "code",
   "execution_count": 8,
   "metadata": {},
   "outputs": [
    {
     "data": {
      "text/html": [
       "<div>\n",
       "<style scoped>\n",
       "    .dataframe tbody tr th:only-of-type {\n",
       "        vertical-align: middle;\n",
       "    }\n",
       "\n",
       "    .dataframe tbody tr th {\n",
       "        vertical-align: top;\n",
       "    }\n",
       "\n",
       "    .dataframe thead th {\n",
       "        text-align: right;\n",
       "    }\n",
       "</style>\n",
       "<table border=\"1\" class=\"dataframe\">\n",
       "  <thead>\n",
       "    <tr style=\"text-align: right;\">\n",
       "      <th></th>\n",
       "      <th>rougher.output.recovery</th>\n",
       "      <th>rougher.output.concentrate_au</th>\n",
       "      <th>rougher.input.feed_au</th>\n",
       "      <th>rougher.output.tail_au</th>\n",
       "      <th>rougher.output.recovery.manually</th>\n",
       "    </tr>\n",
       "  </thead>\n",
       "  <tbody>\n",
       "    <tr>\n",
       "      <th>0</th>\n",
       "      <td>87.107763</td>\n",
       "      <td>19.793808</td>\n",
       "      <td>6.486150</td>\n",
       "      <td>1.170244</td>\n",
       "      <td>87.107763</td>\n",
       "    </tr>\n",
       "    <tr>\n",
       "      <th>1</th>\n",
       "      <td>86.843261</td>\n",
       "      <td>20.050975</td>\n",
       "      <td>6.478583</td>\n",
       "      <td>1.184827</td>\n",
       "      <td>86.843261</td>\n",
       "    </tr>\n",
       "    <tr>\n",
       "      <th>2</th>\n",
       "      <td>86.842308</td>\n",
       "      <td>19.737170</td>\n",
       "      <td>6.362222</td>\n",
       "      <td>1.162562</td>\n",
       "      <td>86.842308</td>\n",
       "    </tr>\n",
       "    <tr>\n",
       "      <th>3</th>\n",
       "      <td>87.226430</td>\n",
       "      <td>19.320810</td>\n",
       "      <td>6.118189</td>\n",
       "      <td>1.079755</td>\n",
       "      <td>87.226430</td>\n",
       "    </tr>\n",
       "    <tr>\n",
       "      <th>4</th>\n",
       "      <td>86.688794</td>\n",
       "      <td>19.216101</td>\n",
       "      <td>5.663707</td>\n",
       "      <td>1.012642</td>\n",
       "      <td>86.688794</td>\n",
       "    </tr>\n",
       "  </tbody>\n",
       "</table>\n",
       "</div>"
      ],
      "text/plain": [
       "   rougher.output.recovery  rougher.output.concentrate_au  \\\n",
       "0                87.107763                      19.793808   \n",
       "1                86.843261                      20.050975   \n",
       "2                86.842308                      19.737170   \n",
       "3                87.226430                      19.320810   \n",
       "4                86.688794                      19.216101   \n",
       "\n",
       "   rougher.input.feed_au  rougher.output.tail_au  \\\n",
       "0               6.486150                1.170244   \n",
       "1               6.478583                1.184827   \n",
       "2               6.362222                1.162562   \n",
       "3               6.118189                1.079755   \n",
       "4               5.663707                1.012642   \n",
       "\n",
       "   rougher.output.recovery.manually  \n",
       "0                         87.107763  \n",
       "1                         86.843261  \n",
       "2                         86.842308  \n",
       "3                         87.226430  \n",
       "4                         86.688794  "
      ]
     },
     "execution_count": 8,
     "metadata": {},
     "output_type": "execute_result"
    }
   ],
   "source": [
    "C = subset_for_calculating_recovery['rougher.output.concentrate_au']\n",
    "F = subset_for_calculating_recovery['rougher.input.feed_au']\n",
    "T = subset_for_calculating_recovery['rougher.output.tail_au']\n",
    "subset_for_calculating_recovery['rougher.output.recovery.manually'] = 100 * ((C*(F-T))/(F*(C-T)))\n",
    "subset_for_calculating_recovery.head()"
   ]
  },
  {
   "cell_type": "markdown",
   "metadata": {},
   "source": [
    "Find the MAE between calculations and the feature values. "
   ]
  },
  {
   "cell_type": "code",
   "execution_count": 9,
   "metadata": {},
   "outputs": [
    {
     "name": "stdout",
     "output_type": "stream",
     "text": [
      "9.303415616264301e-15\n"
     ]
    }
   ],
   "source": [
    "recovery_mae = mean_absolute_error(subset_for_calculating_recovery['rougher.output.recovery'],subset_for_calculating_recovery['rougher.output.recovery.manually'])\n",
    "print(recovery_mae)"
   ]
  },
  {
   "cell_type": "markdown",
   "metadata": {},
   "source": [
    "The result of MAE between calculations and the original feature is extremely small, it prove that the original recovery is calculated correctly. I'll use the original feature in the next steps."
   ]
  },
  {
   "cell_type": "markdown",
   "metadata": {},
   "source": [
    "### Analyze the features not available in the test set."
   ]
  },
  {
   "cell_type": "markdown",
   "metadata": {},
   "source": [
    "The number of columns between `train` and `test` are not same. Let's see the difference."
   ]
  },
  {
   "cell_type": "code",
   "execution_count": 10,
   "metadata": {},
   "outputs": [
    {
     "name": "stdout",
     "output_type": "stream",
     "text": [
      "34 0\n"
     ]
    }
   ],
   "source": [
    "train_columns = train.columns\n",
    "test_columns = test.columns\n",
    "columns_differ1 = train_columns[~np.isin(train_columns, test_columns)]\n",
    "columns_differ2 = test_columns[~np.isin(test_columns, train_columns)]\n",
    "print(len(columns_differ1), len(columns_differ2))"
   ]
  },
  {
   "cell_type": "markdown",
   "metadata": {},
   "source": [
    "There are 34 columns in `train` file but not in `test` file."
   ]
  },
  {
   "cell_type": "markdown",
   "metadata": {},
   "source": [
    "The absent features in `test` file are type of 'output' and 'calculation'. The target columns, 'recovery', are not in the `test` file either."
   ]
  },
  {
   "cell_type": "markdown",
   "metadata": {},
   "source": [
    "## Analyze the data"
   ]
  },
  {
   "cell_type": "markdown",
   "metadata": {},
   "source": [
    "### Take note of how the concentrations of metals (Au, Ag, Pb) change depending on the purification stage"
   ]
  },
  {
   "cell_type": "code",
   "execution_count": 11,
   "metadata": {},
   "outputs": [
    {
     "data": {
      "image/png": "[encoded data removed]",
      "text/plain": [
       "<Figure size 864x432 with 4 Axes>"
      ]
     },
     "metadata": {
      "needs_background": "light"
     },
     "output_type": "display_data"
    }
   ],
   "source": [
    "stages = [\"rougher.output.\", \"primary_cleaner.output.\", \"final.output.\"]\n",
    "metals = ['concentrate_au',\"concentrate_ag\", 'concentrate_pb', 'concentrate_sol']\n",
    "\n",
    "concentrate_au_stages = [i+metals[0] for i in stages]\n",
    "concentrate_ag_stages = [i+metals[1] for i in stages]\n",
    "concentrate_pb_stages = [i+metals[2] for i in stages]\n",
    "concentrate_sol_stages = [i+metals[3] for i in stages]\n",
    "\n",
    "fig, axes = plt.subplots(nrows=2, ncols=2, figsize=(12,6))\n",
    "train[concentrate_au_stages].boxplot(ax=axes[0, 0], vert=False)\n",
    "train[concentrate_ag_stages].boxplot(ax=axes[0, 1], vert=False)\n",
    "train[concentrate_pb_stages].boxplot(ax=axes[1, 0], vert=False)\n",
    "train[concentrate_sol_stages].boxplot(ax=axes[1, 1], vert=False)\n",
    "\n",
    "axes[0, 0].set_title('Concentrate AU')\n",
    "axes[0, 1].set_title('Concentrate AG')\n",
    "axes[1, 0].set_title('Concentrate PB')\n",
    "axes[1, 1].set_title('Concentrate SOL')\n",
    "axes[0, 1].set_yticklabels([])\n",
    "axes[1, 1].set_yticklabels([])\n",
    "plt.show()"
   ]
  },
  {
   "cell_type": "markdown",
   "metadata": {},
   "source": [
    "We can obtain from the plots above that as the purification process going from 'Floatation', 'Primary Cleaner' to 'Final', the concentrate of AU is increasing and the concentrate of AG is decreasing, while the concentrate of PB stays in the same range although the box between 25% and 75% is increasing slightly.\n",
    "\n",
    "For the concentrate of SOL, there is a significant decay after primary cleaner stage. But the concentrate distribution is almost the same after the final stage except it has higher convergent."
   ]
  },
  {
   "cell_type": "markdown",
   "metadata": {},
   "source": [
    "### Compare the feed particle size distributions in the training set and in the test set. \n",
    "\n",
    "There are two feed particle processes in both `train` and `test` files, they are `rougher.input.feed_size` and `primary_cleaner.input.feed_size` "
   ]
  },
  {
   "cell_type": "code",
   "execution_count": 12,
   "metadata": {},
   "outputs": [],
   "source": [
    "rougher_feed_size = pd.DataFrame({'Train': train['rougher.input.feed_size'], 'Test': test['rougher.input.feed_size']})\n",
    "primary_feed_size = pd.DataFrame({'Train': train['primary_cleaner.input.feed_size'], 'Test': test['primary_cleaner.input.feed_size']})"
   ]
  },
  {
   "cell_type": "code",
   "execution_count": 13,
   "metadata": {},
   "outputs": [
    {
     "data": {
      "image/png": "[encoded data removed]",
      "text/plain": [
       "<Figure size 864x288 with 2 Axes>"
      ]
     },
     "metadata": {
      "needs_background": "light"
     },
     "output_type": "display_data"
    }
   ],
   "source": [
    "fig, axes = plt.subplots(nrows=1, ncols=2, figsize=(12,4))\n",
    "sns.histplot(rougher_feed_size['Train'], bins=40, label=\"Train\", color='yellow', kde=False, ax=axes[0])\n",
    "sns.histplot(rougher_feed_size['Test'], bins=40, label=\"Test\", alpha=0.5, kde=False, ax=axes[0])\n",
    "sns.histplot(primary_feed_size['Train'], bins=40, label=\"Train\", color='yellow', kde=False, ax=axes[1])\n",
    "sns.histplot(primary_feed_size['Test'], bins=40, label=\"Test\", alpha=0.5, kde=False, ax=axes[1])\n",
    "\n",
    "axes[0].set_title('rougher_feed_size')\n",
    "axes[1].set_title('primary_feed_size')\n",
    "axes[0].legend()\n",
    "axes[1].legend()\n",
    "\n",
    "plt.show()"
   ]
  },
  {
   "cell_type": "markdown",
   "metadata": {},
   "source": [
    "We can see that for `rougher_feed_size`, the train and test set have right lean distribution slightly. But the mean of train set is a little more than test set. For `primary_feed_size`, they have the same distribution.\n",
    "\n",
    "To make the measurement more reasonal, I'll introduce the hypothesis test to measure their means and the distribution. I'll choose the Kolmogorov-Smirnov test, it can test whether two samples are come from one distribution.\n",
    "\n",
    "$H_0$: The means of distributions of these two sets are the same\n",
    "\n",
    "$H_1$: The means of distributions of these two sets are not the same\n",
    "\n",
    "$\\alpha = 0.05$"
   ]
  },
  {
   "cell_type": "code",
   "execution_count": 14,
   "metadata": {},
   "outputs": [],
   "source": [
    "def ks_test(a, b):\n",
    "    alpha = 0.05\n",
    "\n",
    "    results = st.kstest(a, b)\n",
    "    #results = st.ttest_ind(a, b, equal_var=False)\n",
    "    print('p-value:', results.pvalue)\n",
    "\n",
    "    if results.pvalue < alpha:\n",
    "        print(\"We reject the null hypothesis\")\n",
    "    else:\n",
    "        print(\"We can't reject the null hypothesis\")"
   ]
  },
  {
   "cell_type": "markdown",
   "metadata": {},
   "source": [
    "Rougher"
   ]
  },
  {
   "cell_type": "code",
   "execution_count": 15,
   "metadata": {},
   "outputs": [
    {
     "name": "stdout",
     "output_type": "stream",
     "text": [
      "p-value: 5.871332318176002e-140\n",
      "We reject the null hypothesis\n"
     ]
    }
   ],
   "source": [
    "rougher_test = rougher_feed_size['Test'].dropna()\n",
    "rougher_train = rougher_feed_size['Train'].dropna()\n",
    "ks_test(rougher_test, rougher_train)"
   ]
  },
  {
   "cell_type": "markdown",
   "metadata": {},
   "source": [
    "Primary cleaner"
   ]
  },
  {
   "cell_type": "code",
   "execution_count": 16,
   "metadata": {},
   "outputs": [
    {
     "name": "stdout",
     "output_type": "stream",
     "text": [
      "p-value: 1.20224761832344e-10\n",
      "We reject the null hypothesis\n"
     ]
    }
   ],
   "source": [
    "primary_train = primary_feed_size['Train'].dropna()\n",
    "primary_test = primary_feed_size['Test'].dropna()\n",
    "ks_test(primary_train, primary_test)"
   ]
  },
  {
   "cell_type": "markdown",
   "metadata": {},
   "source": [
    "According to the results, the feed size between training and test sets are with different distribution in both Rougher and Primary Cleaner stages.\n",
    "\n",
    "#### Validate the point with dummy datasets\n",
    "To prove the KS test validity, I'll regenerate the train and test set."
   ]
  },
  {
   "cell_type": "code",
   "execution_count": 17,
   "metadata": {},
   "outputs": [
    {
     "data": {
      "image/png": "[encoded data removed]",
      "text/plain": [
       "<Figure size 864x288 with 2 Axes>"
      ]
     },
     "metadata": {
      "needs_background": "light"
     },
     "output_type": "display_data"
    }
   ],
   "source": [
    "# dummy df for trial\n",
    "trial_df = full[['date', 'rougher.input.feed_size', 'primary_cleaner.input.feed_size', 'final.output.recovery']].dropna()\n",
    "trial_X = trial_df.drop('final.output.recovery', axis=1)\n",
    "trial_y = trial_df['final.output.recovery']\n",
    "trial_X_train, trial_X_test, trial_y_train, trial_y_test = train_test_split(trial_X, trial_y, test_size=0.3, random_state=42)\n",
    "# Pick object columns\n",
    "trial_rougher_feed_size = pd.DataFrame({'Train': trial_X_train['rougher.input.feed_size'], 'Test': trial_X_test['rougher.input.feed_size']})\n",
    "trial_primary_feed_size = pd.DataFrame({'Train': trial_X_train['primary_cleaner.input.feed_size'], 'Test': trial_X_test['primary_cleaner.input.feed_size']})\n",
    "# plot the histogram\n",
    "fig, axes = plt.subplots(nrows=1, ncols=2, figsize=(12,4))\n",
    "sns.histplot(trial_rougher_feed_size['Train'], bins=40, label=\"Train\", color='yellow', kde=False, ax=axes[0])\n",
    "sns.histplot(trial_rougher_feed_size['Test'], bins=40, label=\"Test\", alpha=0.5, kde=False, ax=axes[0])\n",
    "sns.histplot(trial_primary_feed_size['Train'], bins=40, label=\"Train\", color='yellow', kde=False, ax=axes[1])\n",
    "sns.histplot(trial_primary_feed_size['Test'], bins=40, label=\"Test\", alpha=0.5, kde=False, ax=axes[1])\n",
    "\n",
    "axes[0].set_title('rougher_feed_size')\n",
    "axes[1].set_title('primary_feed_size')\n",
    "axes[0].legend()\n",
    "axes[1].legend()\n",
    "\n",
    "plt.show()\n"
   ]
  },
  {
   "cell_type": "markdown",
   "metadata": {},
   "source": [
    "It looks more reasonal."
   ]
  },
  {
   "cell_type": "code",
   "execution_count": 18,
   "metadata": {},
   "outputs": [
    {
     "name": "stdout",
     "output_type": "stream",
     "text": [
      "p-value: 0.0557964676197612\n",
      "We can't reject the null hypothesis\n"
     ]
    }
   ],
   "source": [
    "ks_test(trial_X_train['rougher.input.feed_size'], trial_X_test['rougher.input.feed_size'])"
   ]
  },
  {
   "cell_type": "code",
   "execution_count": 19,
   "metadata": {},
   "outputs": [
    {
     "name": "stdout",
     "output_type": "stream",
     "text": [
      "p-value: 0.41494799061008825\n",
      "We can't reject the null hypothesis\n"
     ]
    }
   ],
   "source": [
    "ks_test(trial_X_train['primary_cleaner.input.feed_size'], trial_X_test['primary_cleaner.input.feed_size'])"
   ]
  },
  {
   "cell_type": "markdown",
   "metadata": {},
   "source": [
    "I used the same method to check the dummy train and test sets which extracted from the full dataset. This time the hypothesis test told us that these two sets of data samples were with the same distribution. \n",
    "\n",
    "It validates the input feed size columns in original train and test sets are not with the same distribution."
   ]
  },
  {
   "cell_type": "markdown",
   "metadata": {},
   "source": [
    "### Consider the total concentrations of all substances at different stages"
   ]
  },
  {
   "cell_type": "code",
   "execution_count": 20,
   "metadata": {},
   "outputs": [
    {
     "name": "stderr",
     "output_type": "stream",
     "text": [
      "/tmp/ipykernel_91/1742437268.py:2: SettingWithCopyWarning: \n",
      "A value is trying to be set on a copy of a slice from a DataFrame.\n",
      "Try using .loc[row_indexer,col_indexer] = value instead\n",
      "\n",
      "See the caveats in the documentation: https://pandas.pydata.org/pandas-docs/stable/user_guide/indexing.html#returning-a-view-versus-a-copy\n",
      "  final_concerntrate['sum'] = full['final.output.concentrate_ag'] + full['final.output.concentrate_au'] + full['final.output.concentrate_pb']\n"
     ]
    }
   ],
   "source": [
    "final_concerntrate = full[['final.output.concentrate_ag', 'final.output.concentrate_au', 'final.output.concentrate_pb']]\n",
    "final_concerntrate['sum'] = full['final.output.concentrate_ag'] + full['final.output.concentrate_au'] + full['final.output.concentrate_pb']"
   ]
  },
  {
   "cell_type": "code",
   "execution_count": 21,
   "metadata": {},
   "outputs": [
    {
     "data": {
      "text/html": [
       "<div>\n",
       "<style scoped>\n",
       "    .dataframe tbody tr th:only-of-type {\n",
       "        vertical-align: middle;\n",
       "    }\n",
       "\n",
       "    .dataframe tbody tr th {\n",
       "        vertical-align: top;\n",
       "    }\n",
       "\n",
       "    .dataframe thead th {\n",
       "        text-align: right;\n",
       "    }\n",
       "</style>\n",
       "<table border=\"1\" class=\"dataframe\">\n",
       "  <thead>\n",
       "    <tr style=\"text-align: right;\">\n",
       "      <th></th>\n",
       "      <th>final.output.concentrate_ag</th>\n",
       "      <th>final.output.concentrate_au</th>\n",
       "      <th>final.output.concentrate_pb</th>\n",
       "      <th>sum</th>\n",
       "    </tr>\n",
       "  </thead>\n",
       "  <tbody>\n",
       "    <tr>\n",
       "      <th>99</th>\n",
       "      <td>0.0</td>\n",
       "      <td>0.0</td>\n",
       "      <td>0.0</td>\n",
       "      <td>0.0</td>\n",
       "    </tr>\n",
       "    <tr>\n",
       "      <th>100</th>\n",
       "      <td>0.0</td>\n",
       "      <td>0.0</td>\n",
       "      <td>0.0</td>\n",
       "      <td>0.0</td>\n",
       "    </tr>\n",
       "    <tr>\n",
       "      <th>101</th>\n",
       "      <td>0.0</td>\n",
       "      <td>0.0</td>\n",
       "      <td>0.0</td>\n",
       "      <td>0.0</td>\n",
       "    </tr>\n",
       "    <tr>\n",
       "      <th>102</th>\n",
       "      <td>0.0</td>\n",
       "      <td>0.0</td>\n",
       "      <td>0.0</td>\n",
       "      <td>0.0</td>\n",
       "    </tr>\n",
       "    <tr>\n",
       "      <th>103</th>\n",
       "      <td>0.0</td>\n",
       "      <td>0.0</td>\n",
       "      <td>0.0</td>\n",
       "      <td>0.0</td>\n",
       "    </tr>\n",
       "    <tr>\n",
       "      <th>...</th>\n",
       "      <td>...</td>\n",
       "      <td>...</td>\n",
       "      <td>...</td>\n",
       "      <td>...</td>\n",
       "    </tr>\n",
       "    <tr>\n",
       "      <th>17912</th>\n",
       "      <td>0.0</td>\n",
       "      <td>0.0</td>\n",
       "      <td>0.0</td>\n",
       "      <td>0.0</td>\n",
       "    </tr>\n",
       "    <tr>\n",
       "      <th>17913</th>\n",
       "      <td>0.0</td>\n",
       "      <td>0.0</td>\n",
       "      <td>0.0</td>\n",
       "      <td>0.0</td>\n",
       "    </tr>\n",
       "    <tr>\n",
       "      <th>17914</th>\n",
       "      <td>0.0</td>\n",
       "      <td>0.0</td>\n",
       "      <td>0.0</td>\n",
       "      <td>0.0</td>\n",
       "    </tr>\n",
       "    <tr>\n",
       "      <th>17915</th>\n",
       "      <td>0.0</td>\n",
       "      <td>0.0</td>\n",
       "      <td>0.0</td>\n",
       "      <td>0.0</td>\n",
       "    </tr>\n",
       "    <tr>\n",
       "      <th>17916</th>\n",
       "      <td>0.0</td>\n",
       "      <td>0.0</td>\n",
       "      <td>0.0</td>\n",
       "      <td>0.0</td>\n",
       "    </tr>\n",
       "  </tbody>\n",
       "</table>\n",
       "<p>1613 rows ￗ 4 columns</p>\n",
       "</div>"
      ],
      "text/plain": [
       "       final.output.concentrate_ag  final.output.concentrate_au  \\\n",
       "99                             0.0                          0.0   \n",
       "100                            0.0                          0.0   \n",
       "101                            0.0                          0.0   \n",
       "102                            0.0                          0.0   \n",
       "103                            0.0                          0.0   \n",
       "...                            ...                          ...   \n",
       "17912                          0.0                          0.0   \n",
       "17913                          0.0                          0.0   \n",
       "17914                          0.0                          0.0   \n",
       "17915                          0.0                          0.0   \n",
       "17916                          0.0                          0.0   \n",
       "\n",
       "       final.output.concentrate_pb  sum  \n",
       "99                             0.0  0.0  \n",
       "100                            0.0  0.0  \n",
       "101                            0.0  0.0  \n",
       "102                            0.0  0.0  \n",
       "103                            0.0  0.0  \n",
       "...                            ...  ...  \n",
       "17912                          0.0  0.0  \n",
       "17913                          0.0  0.0  \n",
       "17914                          0.0  0.0  \n",
       "17915                          0.0  0.0  \n",
       "17916                          0.0  0.0  \n",
       "\n",
       "[1613 rows x 4 columns]"
      ]
     },
     "execution_count": 21,
     "metadata": {},
     "output_type": "execute_result"
    }
   ],
   "source": [
    "final_concerntrate[final_concerntrate['final.output.concentrate_ag']==0]"
   ]
  },
  {
   "cell_type": "code",
   "execution_count": 22,
   "metadata": {},
   "outputs": [],
   "source": [
    "#Create function to get total concentration of all metals at certain stages.\n",
    "def metal_concen_sum(df, stage):\n",
    "    metal_handles = ['_ag', '_au', '_pb']\n",
    "    total_concen = df[stage+metal_handles[0]] + df[stage+metal_handles[1]] + df[stage+metal_handles[2]]\n",
    "    return total_concen"
   ]
  },
  {
   "cell_type": "code",
   "execution_count": 23,
   "metadata": {},
   "outputs": [
    {
     "data": {
      "image/png": "[encoded data removed]",
      "text/plain": [
       "<Figure size 936x360 with 1 Axes>"
      ]
     },
     "metadata": {
      "needs_background": "light"
     },
     "output_type": "display_data"
    }
   ],
   "source": [
    "#Create plot to visualize total concentration of all metals at certain stages.\n",
    "fig = plt.figure(figsize=(13, 5))\n",
    "fig.suptitle('Total Concentration of All Metals by Stage (Density)', fontsize=15, y=1)\n",
    "\n",
    "sns.kdeplot(metal_concen_sum(full, 'rougher.input.feed'), label='rougher.input.feed', fill=True)\n",
    "sns.kdeplot(metal_concen_sum(full, 'rougher.output.concentrate'), label='rougher.output.concentrate', fill=True)\n",
    "sns.kdeplot(metal_concen_sum(full, 'final.output.concentrate'), label='final.output.concentrate', fill=True)\n",
    "plt.legend(fontsize=12)\n",
    "plt.xlabel('Total Metal Concentration (%)', fontsize=12, labelpad = 15)\n",
    "plt.ylabel('Density', fontsize=12, labelpad=15)\n",
    "    \n",
    "plt.tight_layout()\n",
    "plt.show()"
   ]
  },
  {
   "cell_type": "markdown",
   "metadata": {},
   "source": [
    "We can find there are many zero values in three stages."
   ]
  },
  {
   "cell_type": "code",
   "execution_count": 24,
   "metadata": {},
   "outputs": [
    {
     "data": {
      "text/html": [
       "<div>\n",
       "<style scoped>\n",
       "    .dataframe tbody tr th:only-of-type {\n",
       "        vertical-align: middle;\n",
       "    }\n",
       "\n",
       "    .dataframe tbody tr th {\n",
       "        vertical-align: top;\n",
       "    }\n",
       "\n",
       "    .dataframe thead th {\n",
       "        text-align: right;\n",
       "    }\n",
       "</style>\n",
       "<table border=\"1\" class=\"dataframe\">\n",
       "  <thead>\n",
       "    <tr style=\"text-align: right;\">\n",
       "      <th></th>\n",
       "      <th>date</th>\n",
       "      <th>final.output.concentrate_ag</th>\n",
       "      <th>final.output.concentrate_pb</th>\n",
       "      <th>final.output.concentrate_sol</th>\n",
       "      <th>final.output.concentrate_au</th>\n",
       "      <th>final.output.recovery</th>\n",
       "      <th>final.output.tail_ag</th>\n",
       "      <th>final.output.tail_pb</th>\n",
       "      <th>final.output.tail_sol</th>\n",
       "      <th>final.output.tail_au</th>\n",
       "      <th>...</th>\n",
       "      <th>secondary_cleaner.state.floatbank4_a_air</th>\n",
       "      <th>secondary_cleaner.state.floatbank4_a_level</th>\n",
       "      <th>secondary_cleaner.state.floatbank4_b_air</th>\n",
       "      <th>secondary_cleaner.state.floatbank4_b_level</th>\n",
       "      <th>secondary_cleaner.state.floatbank5_a_air</th>\n",
       "      <th>secondary_cleaner.state.floatbank5_a_level</th>\n",
       "      <th>secondary_cleaner.state.floatbank5_b_air</th>\n",
       "      <th>secondary_cleaner.state.floatbank5_b_level</th>\n",
       "      <th>secondary_cleaner.state.floatbank6_a_air</th>\n",
       "      <th>secondary_cleaner.state.floatbank6_a_level</th>\n",
       "    </tr>\n",
       "  </thead>\n",
       "  <tbody>\n",
       "    <tr>\n",
       "      <th>99</th>\n",
       "      <td>2016-01-19 03:00:00</td>\n",
       "      <td>0.0</td>\n",
       "      <td>0.0</td>\n",
       "      <td>0.0</td>\n",
       "      <td>0.0</td>\n",
       "      <td>NaN</td>\n",
       "      <td>0.0</td>\n",
       "      <td>0.0</td>\n",
       "      <td>0.0</td>\n",
       "      <td>0.0</td>\n",
       "      <td>...</td>\n",
       "      <td>13.985160</td>\n",
       "      <td>-799.601232</td>\n",
       "      <td>12.036072</td>\n",
       "      <td>-603.234250</td>\n",
       "      <td>9.974968</td>\n",
       "      <td>-497.092974</td>\n",
       "      <td>7.953962</td>\n",
       "      <td>-499.698442</td>\n",
       "      <td>11.941642</td>\n",
       "      <td>-598.541756</td>\n",
       "    </tr>\n",
       "    <tr>\n",
       "      <th>100</th>\n",
       "      <td>2016-01-19 04:00:00</td>\n",
       "      <td>0.0</td>\n",
       "      <td>0.0</td>\n",
       "      <td>0.0</td>\n",
       "      <td>0.0</td>\n",
       "      <td>NaN</td>\n",
       "      <td>0.0</td>\n",
       "      <td>0.0</td>\n",
       "      <td>0.0</td>\n",
       "      <td>0.0</td>\n",
       "      <td>...</td>\n",
       "      <td>14.034374</td>\n",
       "      <td>-799.600946</td>\n",
       "      <td>12.040491</td>\n",
       "      <td>-623.446329</td>\n",
       "      <td>9.898782</td>\n",
       "      <td>-499.623262</td>\n",
       "      <td>7.979302</td>\n",
       "      <td>-500.283366</td>\n",
       "      <td>11.959950</td>\n",
       "      <td>-600.998301</td>\n",
       "    </tr>\n",
       "    <tr>\n",
       "      <th>101</th>\n",
       "      <td>2016-01-19 05:00:00</td>\n",
       "      <td>0.0</td>\n",
       "      <td>0.0</td>\n",
       "      <td>0.0</td>\n",
       "      <td>0.0</td>\n",
       "      <td>NaN</td>\n",
       "      <td>0.0</td>\n",
       "      <td>0.0</td>\n",
       "      <td>0.0</td>\n",
       "      <td>0.0</td>\n",
       "      <td>...</td>\n",
       "      <td>13.943929</td>\n",
       "      <td>-799.600659</td>\n",
       "      <td>12.040238</td>\n",
       "      <td>-638.103348</td>\n",
       "      <td>9.956309</td>\n",
       "      <td>-499.791870</td>\n",
       "      <td>7.978806</td>\n",
       "      <td>-500.202026</td>\n",
       "      <td>11.987839</td>\n",
       "      <td>-600.302819</td>\n",
       "    </tr>\n",
       "    <tr>\n",
       "      <th>102</th>\n",
       "      <td>2016-01-19 06:00:00</td>\n",
       "      <td>0.0</td>\n",
       "      <td>0.0</td>\n",
       "      <td>0.0</td>\n",
       "      <td>0.0</td>\n",
       "      <td>NaN</td>\n",
       "      <td>0.0</td>\n",
       "      <td>0.0</td>\n",
       "      <td>0.0</td>\n",
       "      <td>0.0</td>\n",
       "      <td>...</td>\n",
       "      <td>14.040873</td>\n",
       "      <td>-799.600372</td>\n",
       "      <td>12.030771</td>\n",
       "      <td>-641.310327</td>\n",
       "      <td>9.966952</td>\n",
       "      <td>-499.842458</td>\n",
       "      <td>8.053455</td>\n",
       "      <td>-499.588522</td>\n",
       "      <td>11.987935</td>\n",
       "      <td>-600.523057</td>\n",
       "    </tr>\n",
       "    <tr>\n",
       "      <th>103</th>\n",
       "      <td>2016-01-19 07:00:00</td>\n",
       "      <td>0.0</td>\n",
       "      <td>0.0</td>\n",
       "      <td>0.0</td>\n",
       "      <td>0.0</td>\n",
       "      <td>NaN</td>\n",
       "      <td>0.0</td>\n",
       "      <td>0.0</td>\n",
       "      <td>0.0</td>\n",
       "      <td>0.0</td>\n",
       "      <td>...</td>\n",
       "      <td>13.972371</td>\n",
       "      <td>-799.600085</td>\n",
       "      <td>12.021058</td>\n",
       "      <td>-641.457227</td>\n",
       "      <td>10.033820</td>\n",
       "      <td>-501.291438</td>\n",
       "      <td>7.985956</td>\n",
       "      <td>-499.934267</td>\n",
       "      <td>12.027556</td>\n",
       "      <td>-600.108918</td>\n",
       "    </tr>\n",
       "    <tr>\n",
       "      <th>...</th>\n",
       "      <td>...</td>\n",
       "      <td>...</td>\n",
       "      <td>...</td>\n",
       "      <td>...</td>\n",
       "      <td>...</td>\n",
       "      <td>...</td>\n",
       "      <td>...</td>\n",
       "      <td>...</td>\n",
       "      <td>...</td>\n",
       "      <td>...</td>\n",
       "      <td>...</td>\n",
       "      <td>...</td>\n",
       "      <td>...</td>\n",
       "      <td>...</td>\n",
       "      <td>...</td>\n",
       "      <td>...</td>\n",
       "      <td>...</td>\n",
       "      <td>...</td>\n",
       "      <td>...</td>\n",
       "      <td>...</td>\n",
       "      <td>...</td>\n",
       "    </tr>\n",
       "    <tr>\n",
       "      <th>17908</th>\n",
       "      <td>2018-01-30 03:59:59</td>\n",
       "      <td>0.0</td>\n",
       "      <td>0.0</td>\n",
       "      <td>0.0</td>\n",
       "      <td>0.0</td>\n",
       "      <td>NaN</td>\n",
       "      <td>0.0</td>\n",
       "      <td>0.0</td>\n",
       "      <td>0.0</td>\n",
       "      <td>0.0</td>\n",
       "      <td>...</td>\n",
       "      <td>20.005303</td>\n",
       "      <td>-500.893527</td>\n",
       "      <td>14.922286</td>\n",
       "      <td>-500.230461</td>\n",
       "      <td>10.909829</td>\n",
       "      <td>-500.314837</td>\n",
       "      <td>9.007956</td>\n",
       "      <td>-500.153163</td>\n",
       "      <td>10.988968</td>\n",
       "      <td>-500.387261</td>\n",
       "    </tr>\n",
       "    <tr>\n",
       "      <th>17909</th>\n",
       "      <td>2018-01-30 04:59:59</td>\n",
       "      <td>0.0</td>\n",
       "      <td>0.0</td>\n",
       "      <td>0.0</td>\n",
       "      <td>0.0</td>\n",
       "      <td>NaN</td>\n",
       "      <td>0.0</td>\n",
       "      <td>0.0</td>\n",
       "      <td>0.0</td>\n",
       "      <td>0.0</td>\n",
       "      <td>...</td>\n",
       "      <td>19.962859</td>\n",
       "      <td>-655.489381</td>\n",
       "      <td>14.956567</td>\n",
       "      <td>-524.758657</td>\n",
       "      <td>10.961487</td>\n",
       "      <td>-500.066426</td>\n",
       "      <td>9.004925</td>\n",
       "      <td>-500.040902</td>\n",
       "      <td>10.961121</td>\n",
       "      <td>-500.023096</td>\n",
       "    </tr>\n",
       "    <tr>\n",
       "      <th>17910</th>\n",
       "      <td>2018-01-30 05:59:59</td>\n",
       "      <td>0.0</td>\n",
       "      <td>0.0</td>\n",
       "      <td>0.0</td>\n",
       "      <td>0.0</td>\n",
       "      <td>NaN</td>\n",
       "      <td>0.0</td>\n",
       "      <td>0.0</td>\n",
       "      <td>0.0</td>\n",
       "      <td>0.0</td>\n",
       "      <td>...</td>\n",
       "      <td>20.017100</td>\n",
       "      <td>-523.801393</td>\n",
       "      <td>15.013965</td>\n",
       "      <td>-499.995375</td>\n",
       "      <td>10.991333</td>\n",
       "      <td>-499.941268</td>\n",
       "      <td>9.062215</td>\n",
       "      <td>-499.992738</td>\n",
       "      <td>10.996987</td>\n",
       "      <td>-499.871678</td>\n",
       "    </tr>\n",
       "    <tr>\n",
       "      <th>17911</th>\n",
       "      <td>2018-01-30 06:59:59</td>\n",
       "      <td>0.0</td>\n",
       "      <td>0.0</td>\n",
       "      <td>0.0</td>\n",
       "      <td>0.0</td>\n",
       "      <td>NaN</td>\n",
       "      <td>0.0</td>\n",
       "      <td>0.0</td>\n",
       "      <td>0.0</td>\n",
       "      <td>0.0</td>\n",
       "      <td>...</td>\n",
       "      <td>19.947963</td>\n",
       "      <td>-521.792599</td>\n",
       "      <td>15.041185</td>\n",
       "      <td>-500.303435</td>\n",
       "      <td>10.980523</td>\n",
       "      <td>-500.095725</td>\n",
       "      <td>9.041985</td>\n",
       "      <td>-499.916563</td>\n",
       "      <td>11.010581</td>\n",
       "      <td>-500.083532</td>\n",
       "    </tr>\n",
       "    <tr>\n",
       "      <th>17912</th>\n",
       "      <td>2018-01-30 07:59:59</td>\n",
       "      <td>0.0</td>\n",
       "      <td>0.0</td>\n",
       "      <td>0.0</td>\n",
       "      <td>0.0</td>\n",
       "      <td>NaN</td>\n",
       "      <td>0.0</td>\n",
       "      <td>0.0</td>\n",
       "      <td>0.0</td>\n",
       "      <td>0.0</td>\n",
       "      <td>...</td>\n",
       "      <td>19.979025</td>\n",
       "      <td>-569.020440</td>\n",
       "      <td>15.068404</td>\n",
       "      <td>-499.966176</td>\n",
       "      <td>10.950164</td>\n",
       "      <td>-499.910890</td>\n",
       "      <td>9.016255</td>\n",
       "      <td>-499.821464</td>\n",
       "      <td>11.006784</td>\n",
       "      <td>-499.988820</td>\n",
       "    </tr>\n",
       "  </tbody>\n",
       "</table>\n",
       "<p>1528 rows × 87 columns</p>\n",
       "</div>"
      ],
      "text/plain": [
       "                     date  final.output.concentrate_ag  \\\n",
       "99    2016-01-19 03:00:00                          0.0   \n",
       "100   2016-01-19 04:00:00                          0.0   \n",
       "101   2016-01-19 05:00:00                          0.0   \n",
       "102   2016-01-19 06:00:00                          0.0   \n",
       "103   2016-01-19 07:00:00                          0.0   \n",
       "...                   ...                          ...   \n",
       "17908 2018-01-30 03:59:59                          0.0   \n",
       "17909 2018-01-30 04:59:59                          0.0   \n",
       "17910 2018-01-30 05:59:59                          0.0   \n",
       "17911 2018-01-30 06:59:59                          0.0   \n",
       "17912 2018-01-30 07:59:59                          0.0   \n",
       "\n",
       "       final.output.concentrate_pb  final.output.concentrate_sol  \\\n",
       "99                             0.0                           0.0   \n",
       "100                            0.0                           0.0   \n",
       "101                            0.0                           0.0   \n",
       "102                            0.0                           0.0   \n",
       "103                            0.0                           0.0   \n",
       "...                            ...                           ...   \n",
       "17908                          0.0                           0.0   \n",
       "17909                          0.0                           0.0   \n",
       "17910                          0.0                           0.0   \n",
       "17911                          0.0                           0.0   \n",
       "17912                          0.0                           0.0   \n",
       "\n",
       "       final.output.concentrate_au  final.output.recovery  \\\n",
       "99                             0.0                    NaN   \n",
       "100                            0.0                    NaN   \n",
       "101                            0.0                    NaN   \n",
       "102                            0.0                    NaN   \n",
       "103                            0.0                    NaN   \n",
       "...                            ...                    ...   \n",
       "17908                          0.0                    NaN   \n",
       "17909                          0.0                    NaN   \n",
       "17910                          0.0                    NaN   \n",
       "17911                          0.0                    NaN   \n",
       "17912                          0.0                    NaN   \n",
       "\n",
       "       final.output.tail_ag  final.output.tail_pb  final.output.tail_sol  \\\n",
       "99                      0.0                   0.0                    0.0   \n",
       "100                     0.0                   0.0                    0.0   \n",
       "101                     0.0                   0.0                    0.0   \n",
       "102                     0.0                   0.0                    0.0   \n",
       "103                     0.0                   0.0                    0.0   \n",
       "...                     ...                   ...                    ...   \n",
       "17908                   0.0                   0.0                    0.0   \n",
       "17909                   0.0                   0.0                    0.0   \n",
       "17910                   0.0                   0.0                    0.0   \n",
       "17911                   0.0                   0.0                    0.0   \n",
       "17912                   0.0                   0.0                    0.0   \n",
       "\n",
       "       final.output.tail_au  ...  secondary_cleaner.state.floatbank4_a_air  \\\n",
       "99                      0.0  ...                                 13.985160   \n",
       "100                     0.0  ...                                 14.034374   \n",
       "101                     0.0  ...                                 13.943929   \n",
       "102                     0.0  ...                                 14.040873   \n",
       "103                     0.0  ...                                 13.972371   \n",
       "...                     ...  ...                                       ...   \n",
       "17908                   0.0  ...                                 20.005303   \n",
       "17909                   0.0  ...                                 19.962859   \n",
       "17910                   0.0  ...                                 20.017100   \n",
       "17911                   0.0  ...                                 19.947963   \n",
       "17912                   0.0  ...                                 19.979025   \n",
       "\n",
       "       secondary_cleaner.state.floatbank4_a_level  \\\n",
       "99                                    -799.601232   \n",
       "100                                   -799.600946   \n",
       "101                                   -799.600659   \n",
       "102                                   -799.600372   \n",
       "103                                   -799.600085   \n",
       "...                                           ...   \n",
       "17908                                 -500.893527   \n",
       "17909                                 -655.489381   \n",
       "17910                                 -523.801393   \n",
       "17911                                 -521.792599   \n",
       "17912                                 -569.020440   \n",
       "\n",
       "       secondary_cleaner.state.floatbank4_b_air  \\\n",
       "99                                    12.036072   \n",
       "100                                   12.040491   \n",
       "101                                   12.040238   \n",
       "102                                   12.030771   \n",
       "103                                   12.021058   \n",
       "...                                         ...   \n",
       "17908                                 14.922286   \n",
       "17909                                 14.956567   \n",
       "17910                                 15.013965   \n",
       "17911                                 15.041185   \n",
       "17912                                 15.068404   \n",
       "\n",
       "       secondary_cleaner.state.floatbank4_b_level  \\\n",
       "99                                    -603.234250   \n",
       "100                                   -623.446329   \n",
       "101                                   -638.103348   \n",
       "102                                   -641.310327   \n",
       "103                                   -641.457227   \n",
       "...                                           ...   \n",
       "17908                                 -500.230461   \n",
       "17909                                 -524.758657   \n",
       "17910                                 -499.995375   \n",
       "17911                                 -500.303435   \n",
       "17912                                 -499.966176   \n",
       "\n",
       "       secondary_cleaner.state.floatbank5_a_air  \\\n",
       "99                                     9.974968   \n",
       "100                                    9.898782   \n",
       "101                                    9.956309   \n",
       "102                                    9.966952   \n",
       "103                                   10.033820   \n",
       "...                                         ...   \n",
       "17908                                 10.909829   \n",
       "17909                                 10.961487   \n",
       "17910                                 10.991333   \n",
       "17911                                 10.980523   \n",
       "17912                                 10.950164   \n",
       "\n",
       "       secondary_cleaner.state.floatbank5_a_level  \\\n",
       "99                                    -497.092974   \n",
       "100                                   -499.623262   \n",
       "101                                   -499.791870   \n",
       "102                                   -499.842458   \n",
       "103                                   -501.291438   \n",
       "...                                           ...   \n",
       "17908                                 -500.314837   \n",
       "17909                                 -500.066426   \n",
       "17910                                 -499.941268   \n",
       "17911                                 -500.095725   \n",
       "17912                                 -499.910890   \n",
       "\n",
       "       secondary_cleaner.state.floatbank5_b_air  \\\n",
       "99                                     7.953962   \n",
       "100                                    7.979302   \n",
       "101                                    7.978806   \n",
       "102                                    8.053455   \n",
       "103                                    7.985956   \n",
       "...                                         ...   \n",
       "17908                                  9.007956   \n",
       "17909                                  9.004925   \n",
       "17910                                  9.062215   \n",
       "17911                                  9.041985   \n",
       "17912                                  9.016255   \n",
       "\n",
       "       secondary_cleaner.state.floatbank5_b_level  \\\n",
       "99                                    -499.698442   \n",
       "100                                   -500.283366   \n",
       "101                                   -500.202026   \n",
       "102                                   -499.588522   \n",
       "103                                   -499.934267   \n",
       "...                                           ...   \n",
       "17908                                 -500.153163   \n",
       "17909                                 -500.040902   \n",
       "17910                                 -499.992738   \n",
       "17911                                 -499.916563   \n",
       "17912                                 -499.821464   \n",
       "\n",
       "       secondary_cleaner.state.floatbank6_a_air  \\\n",
       "99                                    11.941642   \n",
       "100                                   11.959950   \n",
       "101                                   11.987839   \n",
       "102                                   11.987935   \n",
       "103                                   12.027556   \n",
       "...                                         ...   \n",
       "17908                                 10.988968   \n",
       "17909                                 10.961121   \n",
       "17910                                 10.996987   \n",
       "17911                                 11.010581   \n",
       "17912                                 11.006784   \n",
       "\n",
       "       secondary_cleaner.state.floatbank6_a_level  \n",
       "99                                    -598.541756  \n",
       "100                                   -600.998301  \n",
       "101                                   -600.302819  \n",
       "102                                   -600.523057  \n",
       "103                                   -600.108918  \n",
       "...                                           ...  \n",
       "17908                                 -500.387261  \n",
       "17909                                 -500.023096  \n",
       "17910                                 -499.871678  \n",
       "17911                                 -500.083532  \n",
       "17912                                 -499.988820  \n",
       "\n",
       "[1528 rows x 87 columns]"
      ]
     },
     "execution_count": 24,
     "metadata": {},
     "output_type": "execute_result"
    }
   ],
   "source": [
    "full[full['rougher.input.feed_au'] == 0]"
   ]
  },
  {
   "cell_type": "markdown",
   "metadata": {},
   "source": [
    "I trid to print some samples which `rougher.input.feed_au` equals to zero, and found that not only this column was zero, other concertrate columns were zero too. Additionally, zero values happens continuously in date time. \n",
    "\n",
    "The more important issue is that zero values in these columns conduct NaN values of the targets of recovery. Therefore it's necessary to address this issue."
   ]
  },
  {
   "cell_type": "markdown",
   "metadata": {},
   "source": [
    "### Addressing the NA and zero value issues"
   ]
  },
  {
   "cell_type": "markdown",
   "metadata": {},
   "source": [
    "#### Test set"
   ]
  },
  {
   "cell_type": "markdown",
   "metadata": {},
   "source": [
    "Add target columns to the test set"
   ]
  },
  {
   "cell_type": "code",
   "execution_count": 25,
   "metadata": {},
   "outputs": [
    {
     "data": {
      "text/plain": [
       "(5856, 55)"
      ]
     },
     "execution_count": 25,
     "metadata": {},
     "output_type": "execute_result"
    }
   ],
   "source": [
    "test = pd.merge(test, full[['date', 'rougher.output.recovery', 'final.output.recovery']], left_on='date', right_on='date', how='left')\n",
    "test.shape"
   ]
  },
  {
   "cell_type": "code",
   "execution_count": 26,
   "metadata": {},
   "outputs": [],
   "source": [
    "mask = (test['rougher.input.feed_ag'] == 0) | (test['rougher.input.feed_pb'] == 0) | (test['rougher.input.feed_au'] == 0)"
   ]
  },
  {
   "cell_type": "code",
   "execution_count": 27,
   "metadata": {},
   "outputs": [],
   "source": [
    "#test[mask][['date', 'rougher.input.feed_ag', 'rougher.input.feed_pb', 'rougher.input.feed_au', 'rougher.output.recovery', 'final.output.recovery']]"
   ]
  },
  {
   "cell_type": "markdown",
   "metadata": {},
   "source": [
    "Delete zero values"
   ]
  },
  {
   "cell_type": "code",
   "execution_count": 28,
   "metadata": {},
   "outputs": [
    {
     "data": {
      "text/plain": [
       "(5487, 55)"
      ]
     },
     "execution_count": 28,
     "metadata": {},
     "output_type": "execute_result"
    }
   ],
   "source": [
    "test = test[~mask]\n",
    "test.shape"
   ]
  },
  {
   "cell_type": "markdown",
   "metadata": {},
   "source": [
    "Address the NA values"
   ]
  },
  {
   "cell_type": "code",
   "execution_count": 29,
   "metadata": {},
   "outputs": [
    {
     "data": {
      "text/plain": [
       "date                                            0\n",
       "primary_cleaner.input.sulfate                  30\n",
       "primary_cleaner.input.depressant               33\n",
       "primary_cleaner.input.feed_size                 0\n",
       "primary_cleaner.input.xanthate                 30\n",
       "primary_cleaner.state.floatbank8_a_air         16\n",
       "primary_cleaner.state.floatbank8_a_level       16\n",
       "primary_cleaner.state.floatbank8_b_air         16\n",
       "primary_cleaner.state.floatbank8_b_level       16\n",
       "primary_cleaner.state.floatbank8_c_air         16\n",
       "primary_cleaner.state.floatbank8_c_level       16\n",
       "primary_cleaner.state.floatbank8_d_air         16\n",
       "primary_cleaner.state.floatbank8_d_level       16\n",
       "rougher.input.feed_ag                          16\n",
       "rougher.input.feed_pb                          16\n",
       "rougher.input.feed_rate                        23\n",
       "rougher.input.feed_size                        17\n",
       "rougher.input.feed_sol                         67\n",
       "rougher.input.feed_au                          16\n",
       "rougher.input.floatbank10_sulfate              27\n",
       "rougher.input.floatbank10_xanthate             19\n",
       "rougher.input.floatbank11_sulfate              27\n",
       "rougher.input.floatbank11_xanthate             58\n",
       "rougher.state.floatbank10_a_air                16\n",
       "rougher.state.floatbank10_a_level              16\n",
       "rougher.state.floatbank10_b_air                16\n",
       "rougher.state.floatbank10_b_level              16\n",
       "rougher.state.floatbank10_c_air                16\n",
       "rougher.state.floatbank10_c_level              16\n",
       "rougher.state.floatbank10_d_air                16\n",
       "rougher.state.floatbank10_d_level              16\n",
       "rougher.state.floatbank10_e_air                16\n",
       "rougher.state.floatbank10_e_level              16\n",
       "rougher.state.floatbank10_f_air                16\n",
       "rougher.state.floatbank10_f_level              16\n",
       "secondary_cleaner.state.floatbank2_a_air       19\n",
       "secondary_cleaner.state.floatbank2_a_level     16\n",
       "secondary_cleaner.state.floatbank2_b_air       21\n",
       "secondary_cleaner.state.floatbank2_b_level     16\n",
       "secondary_cleaner.state.floatbank3_a_air       29\n",
       "secondary_cleaner.state.floatbank3_a_level     16\n",
       "secondary_cleaner.state.floatbank3_b_air       16\n",
       "secondary_cleaner.state.floatbank3_b_level     16\n",
       "secondary_cleaner.state.floatbank4_a_air       16\n",
       "secondary_cleaner.state.floatbank4_a_level     16\n",
       "secondary_cleaner.state.floatbank4_b_air       16\n",
       "secondary_cleaner.state.floatbank4_b_level     16\n",
       "secondary_cleaner.state.floatbank5_a_air       16\n",
       "secondary_cleaner.state.floatbank5_a_level     16\n",
       "secondary_cleaner.state.floatbank5_b_air       16\n",
       "secondary_cleaner.state.floatbank5_b_level     16\n",
       "secondary_cleaner.state.floatbank6_a_air       16\n",
       "secondary_cleaner.state.floatbank6_a_level     16\n",
       "rougher.output.recovery                       177\n",
       "final.output.recovery                          73\n",
       "dtype: int64"
      ]
     },
     "execution_count": 29,
     "metadata": {},
     "output_type": "execute_result"
    }
   ],
   "source": [
    "test.isna().sum()"
   ]
  },
  {
   "cell_type": "markdown",
   "metadata": {},
   "source": [
    "Since we cann't train the model if the target is missing, so I'll drop the NA value in target columns."
   ]
  },
  {
   "cell_type": "code",
   "execution_count": 30,
   "metadata": {},
   "outputs": [],
   "source": [
    "test.dropna(subset=['rougher.output.recovery', 'final.output.recovery'], inplace=True)"
   ]
  },
  {
   "cell_type": "markdown",
   "metadata": {},
   "source": [
    "Since the whole gold recovery process is a time series workflow, all material parameters are asympotic by time, so I'll use the data from the previous moment to fill in the missing values."
   ]
  },
  {
   "cell_type": "code",
   "execution_count": 31,
   "metadata": {},
   "outputs": [],
   "source": [
    "test.fillna(method='ffill', inplace=True)"
   ]
  },
  {
   "cell_type": "markdown",
   "metadata": {},
   "source": [
    "#### Training set"
   ]
  },
  {
   "cell_type": "markdown",
   "metadata": {},
   "source": [
    "In the default setting, there are 34 columns in the training set but not in the test set. The model won't fit the test set if I keep them. So I'll delete them and keep the same features in both training and test set."
   ]
  },
  {
   "cell_type": "code",
   "execution_count": 32,
   "metadata": {},
   "outputs": [
    {
     "data": {
      "text/plain": [
       "(16860, 55)"
      ]
     },
     "execution_count": 32,
     "metadata": {},
     "output_type": "execute_result"
    }
   ],
   "source": [
    "columns = test.columns\n",
    "train = train[columns]\n",
    "train.shape"
   ]
  },
  {
   "cell_type": "markdown",
   "metadata": {
    "scrolled": true
   },
   "source": [
    "Then I'll address the zero and NA values similar to the test set "
   ]
  },
  {
   "cell_type": "code",
   "execution_count": 33,
   "metadata": {},
   "outputs": [],
   "source": [
    "# Delete the zero values in feed metal columns\n",
    "mask_train = (train['rougher.input.feed_ag'] == 0) | (train['rougher.input.feed_pb'] == 0) | (train['rougher.input.feed_au'] == 0)\n",
    "train = train[~mask_train]\n",
    "\n",
    "# Drop missing values in target columns\n",
    "train.dropna(subset=['rougher.output.recovery', 'final.output.recovery'], inplace=True)\n",
    "\n",
    "# Fill missing values in other columns\n",
    "train.fillna(method='ffill', inplace=True)"
   ]
  },
  {
   "cell_type": "code",
   "execution_count": 34,
   "metadata": {},
   "outputs": [
    {
     "name": "stdout",
     "output_type": "stream",
     "text": [
      "<class 'pandas.core.frame.DataFrame'>\n",
      "Int64Index: 14149 entries, 0 to 16859\n",
      "Data columns (total 55 columns):\n",
      " #   Column                                      Non-Null Count  Dtype         \n",
      "---  ------                                      --------------  -----         \n",
      " 0   date                                        14149 non-null  datetime64[ns]\n",
      " 1   primary_cleaner.input.sulfate               14149 non-null  float64       \n",
      " 2   primary_cleaner.input.depressant            14149 non-null  float64       \n",
      " 3   primary_cleaner.input.feed_size             14149 non-null  float64       \n",
      " 4   primary_cleaner.input.xanthate              14149 non-null  float64       \n",
      " 5   primary_cleaner.state.floatbank8_a_air      14149 non-null  float64       \n",
      " 6   primary_cleaner.state.floatbank8_a_level    14149 non-null  float64       \n",
      " 7   primary_cleaner.state.floatbank8_b_air      14149 non-null  float64       \n",
      " 8   primary_cleaner.state.floatbank8_b_level    14149 non-null  float64       \n",
      " 9   primary_cleaner.state.floatbank8_c_air      14149 non-null  float64       \n",
      " 10  primary_cleaner.state.floatbank8_c_level    14149 non-null  float64       \n",
      " 11  primary_cleaner.state.floatbank8_d_air      14149 non-null  float64       \n",
      " 12  primary_cleaner.state.floatbank8_d_level    14149 non-null  float64       \n",
      " 13  rougher.input.feed_ag                       14149 non-null  float64       \n",
      " 14  rougher.input.feed_pb                       14149 non-null  float64       \n",
      " 15  rougher.input.feed_rate                     14149 non-null  float64       \n",
      " 16  rougher.input.feed_size                     14149 non-null  float64       \n",
      " 17  rougher.input.feed_sol                      14149 non-null  float64       \n",
      " 18  rougher.input.feed_au                       14149 non-null  float64       \n",
      " 19  rougher.input.floatbank10_sulfate           14149 non-null  float64       \n",
      " 20  rougher.input.floatbank10_xanthate          14149 non-null  float64       \n",
      " 21  rougher.input.floatbank11_sulfate           14149 non-null  float64       \n",
      " 22  rougher.input.floatbank11_xanthate          14149 non-null  float64       \n",
      " 23  rougher.state.floatbank10_a_air             14149 non-null  float64       \n",
      " 24  rougher.state.floatbank10_a_level           14149 non-null  float64       \n",
      " 25  rougher.state.floatbank10_b_air             14149 non-null  float64       \n",
      " 26  rougher.state.floatbank10_b_level           14149 non-null  float64       \n",
      " 27  rougher.state.floatbank10_c_air             14149 non-null  float64       \n",
      " 28  rougher.state.floatbank10_c_level           14149 non-null  float64       \n",
      " 29  rougher.state.floatbank10_d_air             14149 non-null  float64       \n",
      " 30  rougher.state.floatbank10_d_level           14149 non-null  float64       \n",
      " 31  rougher.state.floatbank10_e_air             14149 non-null  float64       \n",
      " 32  rougher.state.floatbank10_e_level           14149 non-null  float64       \n",
      " 33  rougher.state.floatbank10_f_air             14149 non-null  float64       \n",
      " 34  rougher.state.floatbank10_f_level           14149 non-null  float64       \n",
      " 35  secondary_cleaner.state.floatbank2_a_air    14149 non-null  float64       \n",
      " 36  secondary_cleaner.state.floatbank2_a_level  14149 non-null  float64       \n",
      " 37  secondary_cleaner.state.floatbank2_b_air    14149 non-null  float64       \n",
      " 38  secondary_cleaner.state.floatbank2_b_level  14149 non-null  float64       \n",
      " 39  secondary_cleaner.state.floatbank3_a_air    14149 non-null  float64       \n",
      " 40  secondary_cleaner.state.floatbank3_a_level  14149 non-null  float64       \n",
      " 41  secondary_cleaner.state.floatbank3_b_air    14149 non-null  float64       \n",
      " 42  secondary_cleaner.state.floatbank3_b_level  14149 non-null  float64       \n",
      " 43  secondary_cleaner.state.floatbank4_a_air    14149 non-null  float64       \n",
      " 44  secondary_cleaner.state.floatbank4_a_level  14149 non-null  float64       \n",
      " 45  secondary_cleaner.state.floatbank4_b_air    14149 non-null  float64       \n",
      " 46  secondary_cleaner.state.floatbank4_b_level  14149 non-null  float64       \n",
      " 47  secondary_cleaner.state.floatbank5_a_air    14149 non-null  float64       \n",
      " 48  secondary_cleaner.state.floatbank5_a_level  14149 non-null  float64       \n",
      " 49  secondary_cleaner.state.floatbank5_b_air    14149 non-null  float64       \n",
      " 50  secondary_cleaner.state.floatbank5_b_level  14149 non-null  float64       \n",
      " 51  secondary_cleaner.state.floatbank6_a_air    14149 non-null  float64       \n",
      " 52  secondary_cleaner.state.floatbank6_a_level  14149 non-null  float64       \n",
      " 53  rougher.output.recovery                     14149 non-null  float64       \n",
      " 54  final.output.recovery                       14149 non-null  float64       \n",
      "dtypes: datetime64[ns](1), float64(54)\n",
      "memory usage: 6.0 MB\n"
     ]
    }
   ],
   "source": [
    "train.info()"
   ]
  },
  {
   "cell_type": "markdown",
   "metadata": {},
   "source": [
    "## Build the model"
   ]
  },
  {
   "cell_type": "markdown",
   "metadata": {},
   "source": [
    "### Preprocessing"
   ]
  },
  {
   "cell_type": "markdown",
   "metadata": {},
   "source": [
    "Before building the model, I'd like to discuss how to deal with two targets in this project. As we know, a normal regression model only have one target, but in this project we have two. So how to deal with it?\n",
    "\n",
    "I have mentioned before, the gold recovery process is a time-series workflow, therefore there is a temporal sequence between this two targets. Specifically, the target of `rougher.output.recovery` is right behind the process of flotation and the target of `final.output.recovery` is the end of the whole process. That means we cannot use the parameters of 'cleaner process' to predict the `rougher.output.recovery`, and we have to use the `rougher.output.recovery`, i.e. the first target, to predict the second target.\n",
    "\n",
    "![img](https://practicum-content.s3.us-west-1.amazonaws.com/resources/moved_ore_1591699963.jpg)\n",
    "\n",
    "So how to address this issue? My idea is I will separate the training and test set into two stages\n",
    "* To predict `rougher.output.recovery`: Only use the features of `rougher`\n",
    "* To predict `final.output.recovery`: Use all features and the prediction of `rougher.output.recovery`.\n",
    "\n",
    "To do so, it will be more complex than the traditional train-test split method.\n",
    "\n",
    "In the Rougher stage, I chose the features before the rougher.output.recovery was generated and train a model. Then I saved the prediction of rougher.output.recovery for the next stage.\n",
    "\n",
    "In the final stage, I used all features but replace the rougher.output.recovery with the predicted values.\n",
    "\n",
    "As the demonstration below, the predictions, blue vectors, are used to replace `rougher.output.recovery`.  \n",
    "\n",
    "![img](https://github.com/stemgene/tossprob/blob/main/img/two_targets.png?raw=true)\n",
    "\n",
    "Firstly, I will prepare two set of training and test sets."
   ]
  },
  {
   "cell_type": "code",
   "execution_count": 35,
   "metadata": {},
   "outputs": [],
   "source": [
    "train['date'] = train['date'].apply(lambda x: (x.timestamp() - 1452812400)/3600)\n",
    "test['date'] = test['date'].apply(lambda x: (x.timestamp() - 1452812400)/3600)"
   ]
  },
  {
   "cell_type": "code",
   "execution_count": 36,
   "metadata": {},
   "outputs": [],
   "source": [
    "train_cleaned = train.reset_index(drop=True)\n",
    "test_cleaned = test.reset_index(drop=True)"
   ]
  },
  {
   "cell_type": "code",
   "execution_count": 37,
   "metadata": {},
   "outputs": [
    {
     "data": {
      "text/plain": [
       "(14149, 24)"
      ]
     },
     "execution_count": 37,
     "metadata": {},
     "output_type": "execute_result"
    }
   ],
   "source": [
    "rougher = ['date','rougher.input.feed_ag','rougher.input.feed_pb', 'rougher.input.feed_rate','rougher.input.feed_size', 'rougher.input.feed_sol',\n",
    "       'rougher.input.feed_au', 'rougher.input.floatbank10_sulfate','rougher.input.floatbank10_xanthate','rougher.input.floatbank11_sulfate',\n",
    "       'rougher.input.floatbank11_xanthate', 'rougher.state.floatbank10_a_air','rougher.state.floatbank10_a_level', 'rougher.state.floatbank10_b_air',\n",
    "       'rougher.state.floatbank10_b_level', 'rougher.state.floatbank10_c_air','rougher.state.floatbank10_c_level', 'rougher.state.floatbank10_d_air',\n",
    "       'rougher.state.floatbank10_d_level', 'rougher.state.floatbank10_e_air','rougher.state.floatbank10_e_level', 'rougher.state.floatbank10_f_air',\n",
    "       'rougher.state.floatbank10_f_level', 'rougher.output.recovery']\n",
    "train_rougher = train_cleaned[rougher].copy()\n",
    "test_rougher = test_cleaned[rougher].copy()\n",
    "train_rougher.shape"
   ]
  },
  {
   "cell_type": "code",
   "execution_count": 38,
   "metadata": {},
   "outputs": [],
   "source": [
    "X_train_rougher = train_rougher.drop(['rougher.output.recovery'], axis=1)\n",
    "y_train_rougher = train_rougher['rougher.output.recovery']\n",
    "X_test_rougher = test_rougher.drop(['rougher.output.recovery'], axis=1)\n",
    "y_test_rougher = test_rougher['rougher.output.recovery']"
   ]
  },
  {
   "cell_type": "markdown",
   "metadata": {},
   "source": [
    "Scaling: If the cross validation will be applied, the scaling step should be used in each fold of cross validation. Otherwise it will cause data leak. "
   ]
  },
  {
   "cell_type": "markdown",
   "metadata": {},
   "source": [
    "To build the final stage training and test set, we have to obtain the prodiction of the first stage."
   ]
  },
  {
   "cell_type": "markdown",
   "metadata": {},
   "source": [
    "### Training"
   ]
  },
  {
   "cell_type": "markdown",
   "metadata": {},
   "source": [
    "#### Training the first stage"
   ]
  },
  {
   "cell_type": "code",
   "execution_count": 40,
   "metadata": {},
   "outputs": [],
   "source": [
    "def sMAPE_metric(y_true, y_pred):\n",
    "    n = len(y_true)\n",
    "    sum_abs = 0\n",
    "    for i in range(n):\n",
    "        differ = np.abs(y_true[i] - y_pred[i]) * 100\n",
    "        avg = (np.abs(y_true[i]) + np.abs(y_pred[i])) / 2\n",
    "        if np.isclose(avg, 0): \n",
    "            avg = 1e-8  \n",
    "        sum_abs += (differ / avg)\n",
    "    score = sum_abs / n\n",
    "    return score"
   ]
  },
  {
   "cell_type": "code",
   "execution_count": 41,
   "metadata": {},
   "outputs": [
    {
     "name": "stdout",
     "output_type": "stream",
     "text": [
      "The current working model is:  LinearRegression()\n",
      "The current working model is:  DecisionTreeRegressor()\n",
      "The current working model is:  RandomForestRegressor()\n",
      "The current working model is:  XGBRegressor(base_score=None, booster=None, colsample_bylevel=None,\n",
      "             colsample_bynode=None, colsample_bytree=None,\n",
      "             enable_categorical=False, gamma=None, gpu_id=None,\n",
      "             importance_type=None, interaction_constraints=None,\n",
      "             learning_rate=None, max_delta_step=None, max_depth=None,\n",
      "             min_child_weight=None, missing=nan, monotone_constraints=None,\n",
      "             n_estimators=100, n_jobs=None, num_parallel_tree=None,\n",
      "             predictor=None, random_state=None, reg_alpha=None, reg_lambda=None,\n",
      "             scale_pos_weight=None, subsample=None, tree_method=None,\n",
      "             validate_parameters=None, verbosity=None)\n"
     ]
    },
    {
     "data": {
      "text/html": [
       "<div>\n",
       "<style scoped>\n",
       "    .dataframe tbody tr th:only-of-type {\n",
       "        vertical-align: middle;\n",
       "    }\n",
       "\n",
       "    .dataframe tbody tr th {\n",
       "        vertical-align: top;\n",
       "    }\n",
       "\n",
       "    .dataframe thead th {\n",
       "        text-align: right;\n",
       "    }\n",
       "</style>\n",
       "<table border=\"1\" class=\"dataframe\">\n",
       "  <thead>\n",
       "    <tr style=\"text-align: right;\">\n",
       "      <th></th>\n",
       "      <th>0</th>\n",
       "      <th>1</th>\n",
       "      <th>2</th>\n",
       "      <th>3</th>\n",
       "    </tr>\n",
       "  </thead>\n",
       "  <tbody>\n",
       "    <tr>\n",
       "      <th>model</th>\n",
       "      <td>Linear Regression</td>\n",
       "      <td>Decision Tree</td>\n",
       "      <td>Random Forest</td>\n",
       "      <td>XGBoost</td>\n",
       "    </tr>\n",
       "    <tr>\n",
       "      <th>score</th>\n",
       "      <td>11.174992</td>\n",
       "      <td>33.401197</td>\n",
       "      <td>16.329216</td>\n",
       "      <td>14.166368</td>\n",
       "    </tr>\n",
       "  </tbody>\n",
       "</table>\n",
       "</div>"
      ],
      "text/plain": [
       "                       0              1              2          3\n",
       "model  Linear Regression  Decision Tree  Random Forest    XGBoost\n",
       "score          11.174992      33.401197      16.329216  14.166368"
      ]
     },
     "execution_count": 41,
     "metadata": {},
     "output_type": "execute_result"
    }
   ],
   "source": [
    "sMAPE_scorer = make_scorer(sMAPE_metric)\n",
    "scores = []\n",
    "models = [LinearRegression(), DecisionTreeRegressor(),RandomForestRegressor(), xgb.XGBRegressor()]\n",
    "model_names = ['Linear Regression', 'Decision Tree', 'Random Forest', 'XGBoost']\n",
    "for model in models:  # should use X_train_rougher.values, otherwise index error may happens\n",
    "    print(\"The current working model is: \", model)\n",
    "    # scaling\n",
    "    scaler = StandardScaler()\n",
    "    pipeline = Pipeline([('scaler', scaler), ('classifier', model)])\n",
    "    \n",
    "    score = cross_val_score(pipeline, X_train_rougher.values, y_train_rougher.values, cv=5, scoring=sMAPE_scorer, error_score='raise')\n",
    "    scores.append(np.mean(score))\n",
    "scores_df = pd.DataFrame({'model': model_names, 'score': scores})\n",
    "scores_df.T"
   ]
  },
  {
   "cell_type": "code",
   "execution_count": null,
   "metadata": {},
   "outputs": [],
   "source": [
    "# numeric_rougher = ['rougher.input.feed_ag','rougher.input.feed_pb', 'rougher.input.feed_rate','rougher.input.feed_size', 'rougher.input.feed_sol',\n",
    "#        'rougher.input.feed_au', 'rougher.input.floatbank10_sulfate','rougher.input.floatbank10_xanthate','rougher.input.floatbank11_sulfate',\n",
    "#        'rougher.input.floatbank11_xanthate', 'rougher.state.floatbank10_a_air','rougher.state.floatbank10_a_level', 'rougher.state.floatbank10_b_air',\n",
    "#        'rougher.state.floatbank10_b_level', 'rougher.state.floatbank10_c_air','rougher.state.floatbank10_c_level', 'rougher.state.floatbank10_d_air',\n",
    "#        'rougher.state.floatbank10_d_level', 'rougher.state.floatbank10_e_air','rougher.state.floatbank10_e_level', 'rougher.state.floatbank10_f_air',\n",
    "#        'rougher.state.floatbank10_f_level']\n",
    "# scaler = StandardScaler()\n",
    "# scaler.fit(X_train_rougher[numeric_rougher])\n",
    "# X_train_rougher[numeric_rougher] = scaler.transform(X_train_rougher[numeric_rougher])\n",
    "# X_test_rougher[numeric_rougher] = scaler.transform(X_test_rougher[numeric_rougher])"
   ]
  },
  {
   "cell_type": "markdown",
   "metadata": {},
   "source": [
    "We can see that based on the metric of sMAPE, the best the model in this stage is the linear regression, therefore I will use this model to generate the prodiction of the `rougher.output.recovery` and replace the original one in order to train the next model."
   ]
  },
  {
   "cell_type": "code",
   "execution_count": 42,
   "metadata": {},
   "outputs": [],
   "source": [
    "model = LinearRegression()\n",
    "model = model.fit(X_train_rougher.values, y_train_rougher.values)\n",
    "rougher_output_recovery_train_pred = model.predict(X_train_rougher.values)\n",
    "rougher_output_recovery_test_pred = model.predict(X_test_rougher.values)  # for calculating the final sMAPE"
   ]
  },
  {
   "cell_type": "markdown",
   "metadata": {},
   "source": [
    "Make a prediction by `DummyRegressor`"
   ]
  },
  {
   "cell_type": "code",
   "execution_count": 52,
   "metadata": {},
   "outputs": [],
   "source": [
    "dummy_regr = DummyRegressor(strategy=\"mean\")\n",
    "dummy_regr = dummy_regr.fit(X_train_rougher.values, y_train_rougher.values)\n",
    "dummy_rougher_test_pred = dummy_regr.predict(X_test_rougher.values)"
   ]
  },
  {
   "cell_type": "markdown",
   "metadata": {},
   "source": [
    "#### Training the final stage"
   ]
  },
  {
   "cell_type": "code",
   "execution_count": 43,
   "metadata": {},
   "outputs": [],
   "source": [
    "train_final = train_cleaned.copy()\n",
    "test_final = test_cleaned.copy()\n",
    "# replace 'rougher.output.recovery' with prediction from the first stage\n",
    "train_final['rougher.output.recovery'] = rougher_output_recovery_train_pred\n",
    "test_final['rougher.output.recovery'] = rougher_output_recovery_test_pred\n",
    "\n",
    "\n",
    "X_train_final = train_final.drop(['final.output.recovery'], axis=1)\n",
    "y_train_final = train_final['final.output.recovery']\n",
    "X_test_final = test_final.drop(['final.output.recovery'], axis=1)\n",
    "y_test_final = test_final['final.output.recovery']"
   ]
  },
  {
   "cell_type": "code",
   "execution_count": null,
   "metadata": {},
   "outputs": [],
   "source": [
    "# numeric_final = ['primary_cleaner.input.sulfate','primary_cleaner.input.depressant', 'primary_cleaner.input.feed_size',\n",
    "#        'primary_cleaner.input.xanthate','primary_cleaner.state.floatbank8_a_air','primary_cleaner.state.floatbank8_a_level',\n",
    "#        'primary_cleaner.state.floatbank8_b_air','primary_cleaner.state.floatbank8_b_level','primary_cleaner.state.floatbank8_c_air',\n",
    "#        'primary_cleaner.state.floatbank8_c_level','primary_cleaner.state.floatbank8_d_air','primary_cleaner.state.floatbank8_d_level', 'rougher.input.feed_ag',\n",
    "#        'rougher.input.feed_pb', 'rougher.input.feed_rate','rougher.input.feed_size', 'rougher.input.feed_sol','rougher.input.feed_au', 'rougher.input.floatbank10_sulfate',\n",
    "#        'rougher.input.floatbank10_xanthate','rougher.input.floatbank11_sulfate','rougher.input.floatbank11_xanthate', 'rougher.state.floatbank10_a_air',\n",
    "#        'rougher.state.floatbank10_a_level', 'rougher.state.floatbank10_b_air','rougher.state.floatbank10_b_level', 'rougher.state.floatbank10_c_air',\n",
    "#        'rougher.state.floatbank10_c_level', 'rougher.state.floatbank10_d_air','rougher.state.floatbank10_d_level', 'rougher.state.floatbank10_e_air',\n",
    "#        'rougher.state.floatbank10_e_level', 'rougher.state.floatbank10_f_air','rougher.state.floatbank10_f_level','secondary_cleaner.state.floatbank2_a_air',\n",
    "#        'secondary_cleaner.state.floatbank2_a_level','secondary_cleaner.state.floatbank2_b_air','secondary_cleaner.state.floatbank2_b_level',\n",
    "#        'secondary_cleaner.state.floatbank3_a_air','secondary_cleaner.state.floatbank3_a_level','secondary_cleaner.state.floatbank3_b_air',\n",
    "#        'secondary_cleaner.state.floatbank3_b_level','secondary_cleaner.state.floatbank4_a_air','secondary_cleaner.state.floatbank4_a_level','secondary_cleaner.state.floatbank4_b_air',\n",
    "#        'secondary_cleaner.state.floatbank4_b_level','secondary_cleaner.state.floatbank5_a_air',\n",
    "#        'secondary_cleaner.state.floatbank5_a_level','secondary_cleaner.state.floatbank5_b_air','secondary_cleaner.state.floatbank5_b_level',\n",
    "#        'secondary_cleaner.state.floatbank6_a_air','secondary_cleaner.state.floatbank6_a_level','rougher.output.recovery']\n",
    "# scaler = StandardScaler()\n",
    "# scaler.fit(X_train_final[numeric_final])\n",
    "# X_train_final[numeric_final] = scaler.transform(X_train_final[numeric_final])\n",
    "# X_test_final[numeric_final] = scaler.transform(X_test_final[numeric_final])"
   ]
  },
  {
   "cell_type": "code",
   "execution_count": 44,
   "metadata": {},
   "outputs": [
    {
     "name": "stdout",
     "output_type": "stream",
     "text": [
      "The current working model is:  LinearRegression()\n",
      "The current working model is:  DecisionTreeRegressor()\n",
      "The current working model is:  RandomForestRegressor()\n",
      "The current working model is:  XGBRegressor(base_score=None, booster=None, colsample_bylevel=None,\n",
      "             colsample_bynode=None, colsample_bytree=None,\n",
      "             enable_categorical=False, gamma=None, gpu_id=None,\n",
      "             importance_type=None, interaction_constraints=None,\n",
      "             learning_rate=None, max_delta_step=None, max_depth=None,\n",
      "             min_child_weight=None, missing=nan, monotone_constraints=None,\n",
      "             n_estimators=100, n_jobs=None, num_parallel_tree=None,\n",
      "             predictor=None, random_state=None, reg_alpha=None, reg_lambda=None,\n",
      "             scale_pos_weight=None, subsample=None, tree_method=None,\n",
      "             validate_parameters=None, verbosity=None)\n"
     ]
    },
    {
     "data": {
      "text/html": [
       "<div>\n",
       "<style scoped>\n",
       "    .dataframe tbody tr th:only-of-type {\n",
       "        vertical-align: middle;\n",
       "    }\n",
       "\n",
       "    .dataframe tbody tr th {\n",
       "        vertical-align: top;\n",
       "    }\n",
       "\n",
       "    .dataframe thead th {\n",
       "        text-align: right;\n",
       "    }\n",
       "</style>\n",
       "<table border=\"1\" class=\"dataframe\">\n",
       "  <thead>\n",
       "    <tr style=\"text-align: right;\">\n",
       "      <th></th>\n",
       "      <th>0</th>\n",
       "      <th>1</th>\n",
       "      <th>2</th>\n",
       "      <th>3</th>\n",
       "    </tr>\n",
       "  </thead>\n",
       "  <tbody>\n",
       "    <tr>\n",
       "      <th>model</th>\n",
       "      <td>Linear Regression</td>\n",
       "      <td>Decision Tree</td>\n",
       "      <td>Random Forest</td>\n",
       "      <td>XGBoost</td>\n",
       "    </tr>\n",
       "    <tr>\n",
       "      <th>score</th>\n",
       "      <td>11.11011</td>\n",
       "      <td>20.930045</td>\n",
       "      <td>11.588377</td>\n",
       "      <td>13.727861</td>\n",
       "    </tr>\n",
       "  </tbody>\n",
       "</table>\n",
       "</div>"
      ],
      "text/plain": [
       "                       0              1              2          3\n",
       "model  Linear Regression  Decision Tree  Random Forest    XGBoost\n",
       "score           11.11011      20.930045      11.588377  13.727861"
      ]
     },
     "execution_count": 44,
     "metadata": {},
     "output_type": "execute_result"
    }
   ],
   "source": [
    "scores = []\n",
    "models = [LinearRegression(), DecisionTreeRegressor(),RandomForestRegressor(), xgb.XGBRegressor()]\n",
    "model_names = ['Linear Regression', 'Decision Tree', 'Random Forest', 'XGBoost']\n",
    "for model in models:  # should use X_train_rougher.values, otherwise index error may happens\n",
    "    print(\"The current working model is: \", model)\n",
    "    scaler = StandardScaler()\n",
    "    pipeline = Pipeline([('scaler', scaler), ('classifier', model)])\n",
    "    score = cross_val_score(model, X_train_final.values, y_train_final.values, cv=5, scoring=sMAPE_scorer, error_score='raise')\n",
    "    scores.append(np.mean(score))\n",
    "scores_df = pd.DataFrame({'model': model_names, 'score': scores})\n",
    "scores_df.T"
   ]
  },
  {
   "cell_type": "markdown",
   "metadata": {},
   "source": [
    "## Calculating the final sMAPE by the test set"
   ]
  },
  {
   "cell_type": "markdown",
   "metadata": {},
   "source": [
    "### Calculating the score of 'rougher' stage"
   ]
  },
  {
   "cell_type": "markdown",
   "metadata": {},
   "source": [
    "I've generated the prediction of X_test_rougher at #3.2.1"
   ]
  },
  {
   "cell_type": "code",
   "execution_count": 45,
   "metadata": {},
   "outputs": [],
   "source": [
    "score_rougher = sMAPE_metric(y_test_rougher, rougher_output_recovery_test_pred)"
   ]
  },
  {
   "cell_type": "code",
   "execution_count": 53,
   "metadata": {},
   "outputs": [],
   "source": [
    "control_group_score_rougher = sMAPE_metric(y_test_rougher, dummy_rougher_test_pred)"
   ]
  },
  {
   "cell_type": "markdown",
   "metadata": {},
   "source": [
    "### Calculating the score of final stage"
   ]
  },
  {
   "cell_type": "code",
   "execution_count": 46,
   "metadata": {},
   "outputs": [],
   "source": [
    "model = LinearRegression()\n",
    "model = model.fit(X_train_final.values, y_train_final.values)\n",
    "y_test_pred_final = model.predict(X_test_final)\n",
    "score_final = sMAPE_metric(y_test_final, y_test_pred_final)"
   ]
  },
  {
   "cell_type": "code",
   "execution_count": 54,
   "metadata": {},
   "outputs": [],
   "source": [
    "dummy_regr = DummyRegressor(strategy=\"mean\")\n",
    "dummy_regr = dummy_regr.fit(X_train_final.values, y_train_final.values)\n",
    "dummy_final_test_pred = dummy_regr.predict(X_test_final)\n",
    "contro_group_score_final = sMAPE_metric(y_test_final, dummy_final_test_pred)"
   ]
  },
  {
   "cell_type": "markdown",
   "metadata": {},
   "source": [
    "### Calculating the combined sMAPE score"
   ]
  },
  {
   "cell_type": "code",
   "execution_count": 47,
   "metadata": {
    "scrolled": true
   },
   "outputs": [
    {
     "name": "stdout",
     "output_type": "stream",
     "text": [
      "9.627701465108698\n"
     ]
    }
   ],
   "source": [
    "combined_score = 0.25 * score_rougher + 0.75 * score_final\n",
    "print(combined_score)"
   ]
  },
  {
   "cell_type": "code",
   "execution_count": 55,
   "metadata": {},
   "outputs": [
    {
     "name": "stdout",
     "output_type": "stream",
     "text": [
      "10.28963037602106\n"
     ]
    }
   ],
   "source": [
    "control_group_combined_score = 0.25 * control_group_score_rougher + 0.75 * contro_group_score_final\n",
    "print(control_group_combined_score)"
   ]
  },
  {
   "cell_type": "code",
   "execution_count": 57,
   "metadata": {},
   "outputs": [
    {
     "data": {
      "image/png": "[encoded data removed]",
      "text/plain": [
       "<Figure size 936x360 with 1 Axes>"
      ]
     },
     "metadata": {
      "needs_background": "light"
     },
     "output_type": "display_data"
    }
   ],
   "source": [
    "fig = plt.figure(figsize=(13, 5))\n",
    "fig.suptitle('Final output recovery of true and prediction values (Density)', fontsize=15, y=1)\n",
    "sns.kdeplot(full['final.output.recovery'], label='Ture recovery values in full dataset')\n",
    "sns.kdeplot(y_test_final, label='Ture recovery values in test dataset')\n",
    "sns.kdeplot(y_test_pred_final, label='Prediction values of test dataset')\n",
    "\n",
    "sns.kdeplot()\n",
    "plt.legend(fontsize=12)\n",
    "plt.xlabel('Recovery', fontsize=12, labelpad = 15)\n",
    "plt.ylabel('Density', fontsize=12, labelpad=15)\n",
    "    \n",
    "plt.tight_layout()\n",
    "plt.show()"
   ]
  },
  {
   "cell_type": "markdown",
   "metadata": {},
   "source": [
    "It's not a good enough model, the error accounts for non-negligible proportion。\n",
    "\n",
    "I made a as a control group "
   ]
  },
  {
   "cell_type": "markdown",
   "metadata": {},
   "source": [
    "## Conclusion"
   ]
  },
  {
   "cell_type": "markdown",
   "metadata": {},
   "source": [
    "In this project, I mainly finished three tasks.\n",
    "\n",
    "* Prepare the data\n",
    "\n",
    "    Unlike previous projects which provide a single dataset, this time a train set and a test set have been given, and they are different in features. Additionally, in order to follow and answer the project instuction questions, it won't be clear if I use the traditional process of data cleaning, such as check duplicated, missing value and so on.\n",
    "    \n",
    "    Then main data validity issue are missing and zero values on important features. According to the distribution plot, I found the concentrate of metals in some stages are zero at the same time. As they are the essential raw materials, their coefficients are crutial too, if their values are zero, it's impossible to calculate their coefficients. Therefore I decide to delete those rows with zero values.\n",
    "    \n",
    "    To address the missing values, if there are missing values in the target columns, I drop them directly. Otherwise, due to the whole gold recovery process is time series, I filled the missing values with the pervious time.\n",
    "    \n",
    "\n",
    "* Analyze the data\n",
    "\n",
    "    I'm confused with the question of comparing the feed size distributions. I proposed a hypothesis and calculated they are not the same mean values or distribution. If they are not belong to the same distribution, I should generate new train and test sets from the full dataset. But it conflict with the project instruction. It will be appreciated if you could give me some advice.\n",
    "    \n",
    "\n",
    "* Build the model and calculate the sMAPE metric\n",
    "\n",
    "    The most challenge is how to deal with two targets. I designed an experiment that divide the targets into two seperate stages. \n",
    "    \n",
    "    In the Rougher stage, I chose the features before the `rougher.output.recovery` was generated and train a model. Then I saved the prediction of `rougher.output.recovery` for the next stage. \n",
    "    \n",
    "    In the final stage, I used all features but replace the `rougher.output.recovery` with the predicted values.\n",
    "    \n",
    "    I applied the cross validation approach to choose the best model from 4 regression models. Unexpectedly, the simplest one, the linear regression, was the winner.\n",
    "    \n",
    "    Finally, I calculated the combined sMAPE score. It showed the model was not good enough.\n",
    "    \n",
    "\n",
    "* Future optimization plan\n",
    "\n",
    "\n",
    "    * Fine tuning the models. Although the linear regression is the best model through the cross validation selection, it performed worse than Randome Forest and XGBoot when abandoned the cross validation. A better model selection method or fine tuning the hyperparameters might work for the metrics.\n",
    "    \n",
    "    * Time series models. I should consider the whole process as assembly line. The parameters of a certian hour should affect the target from subsequent hours rather than the same hour (row). Therefore a time series solution might be better. \n",
    "    \n",
    "    * Feature engineering. There are some optimization options on feature engineering, such as fill missing values with the mean or median, check the correlationship between features."
   ]
  }
 ],
 "metadata": {
  "kernelspec": {
   "display_name": "Python 3 (ipykernel)",
   "language": "python",
   "name": "python3"
  },
  "language_info": {
   "codemirror_mode": {
    "name": "ipython",
    "version": 3
   },
   "file_extension": ".py",
   "mimetype": "text/x-python",
   "name": "python",
   "nbconvert_exporter": "python",
   "pygments_lexer": "ipython3",
   "version": "3.9.5"
  },
  "toc": {
   "base_numbering": 1,
   "nav_menu": {},
   "number_sections": true,
   "sideBar": true,
   "skip_h1_title": true,
   "title_cell": "Table of Contents",
   "title_sidebar": "Contents",
   "toc_cell": false,
   "toc_position": {
    "height": "calc(100% - 180px)",
    "left": "10px",
    "top": "150px",
    "width": "372.594px"
   },
   "toc_section_display": true,
   "toc_window_display": true
  }
 },
 "nbformat": 4,
 "nbformat_minor": 2
}
