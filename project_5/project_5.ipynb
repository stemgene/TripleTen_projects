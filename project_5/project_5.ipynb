{
 "cells": [
  {
   "cell_type": "markdown",
   "metadata": {},
   "source": [
    "Hello Haoyuan!\n",
    "\n",
    "My name is Dmitry.  I'm glad to review your work today.\n",
    "I will mark your mistakes and give you some hints how it is possible to fix them. We are getting ready for real job, where your team leader/senior colleague will do exactly the same. Don't worry and study with pleasure! \n",
    "\n",
    "Below you will find my comments - **please do not move, modify or delete them**.\n",
    "\n",
    "You can find my comments in green, yellow or red boxes like this:\n",
    "\n",
    "<div class=\"alert alert-block alert-success\">\n",
    "<b>Reviewer's comment</b> <a class=\"tocSkip\"></a>\n",
    "\n",
    "Success. Everything is done succesfully.\n",
    "</div>\n",
    "\n",
    "<div class=\"alert alert-block alert-warning\">\n",
    "<b>Reviewer's comment</b> <a class=\"tocSkip\"></a>\n",
    "\n",
    "Remarks. Some recommendations.\n",
    "</div>\n",
    "\n",
    "<div class=\"alert alert-block alert-danger\">\n",
    "\n",
    "<b>Reviewer's comment</b> <a class=\"tocSkip\"></a>\n",
    "\n",
    "Needs fixing. The block requires some corrections. Work can't be accepted with the red comments.\n",
    "</div>\n",
    "\n",
    "You can answer me by using this:\n",
    "\n",
    "<div class=\"alert alert-block alert-info\">\n",
    "<b>Student answer.</b> <a class=\"tocSkip\"></a>\n",
    "\n",
    "Text here.\n",
    "</div>"
   ]
  },
  {
   "cell_type": "code",
   "execution_count": 1,
   "metadata": {},
   "outputs": [
    {
     "name": "stdout",
     "output_type": "stream",
     "text": [
      "Collecting plotly_express\n",
      "  Downloading plotly_express-0.4.1-py2.py3-none-any.whl (2.9 kB)\n",
      "Requirement already satisfied: statsmodels>=0.9.0 in /opt/conda/lib/python3.9/site-packages (from plotly_express) (0.13.2)\n",
      "Requirement already satisfied: pandas>=0.20.0 in /opt/conda/lib/python3.9/site-packages (from plotly_express) (1.2.4)\n",
      "Requirement already satisfied: plotly>=4.1.0 in /opt/conda/lib/python3.9/site-packages (from plotly_express) (5.4.0)\n",
      "Requirement already satisfied: numpy>=1.11 in /opt/conda/lib/python3.9/site-packages (from plotly_express) (1.21.1)\n",
      "Requirement already satisfied: patsy>=0.5 in /opt/conda/lib/python3.9/site-packages (from plotly_express) (0.5.2)\n",
      "Requirement already satisfied: scipy>=0.18 in /opt/conda/lib/python3.9/site-packages (from plotly_express) (1.8.0)\n",
      "Requirement already satisfied: python-dateutil>=2.7.3 in /opt/conda/lib/python3.9/site-packages (from pandas>=0.20.0->plotly_express) (2.8.1)\n",
      "Requirement already satisfied: pytz>=2017.3 in /opt/conda/lib/python3.9/site-packages (from pandas>=0.20.0->plotly_express) (2021.1)\n",
      "Requirement already satisfied: six in /opt/conda/lib/python3.9/site-packages (from patsy>=0.5->plotly_express) (1.16.0)\n",
      "Requirement already satisfied: tenacity>=6.2.0 in /opt/conda/lib/python3.9/site-packages (from plotly>=4.1.0->plotly_express) (8.0.1)\n",
      "Requirement already satisfied: packaging>=21.3 in /opt/conda/lib/python3.9/site-packages (from statsmodels>=0.9.0->plotly_express) (21.3)\n",
      "Requirement already satisfied: pyparsing!=3.0.5,>=2.0.2 in /opt/conda/lib/python3.9/site-packages (from packaging>=21.3->statsmodels>=0.9.0->plotly_express) (2.4.7)\n",
      "Installing collected packages: plotly-express\n",
      "Successfully installed plotly-express-0.4.1\n"
     ]
    }
   ],
   "source": [
    "!pip install plotly_express"
   ]
  },
  {
   "cell_type": "markdown",
   "metadata": {},
   "source": [
    "# Project objectives\n",
    "\n",
    "* Preprocess the data\n",
    "\n",
    "* Analyze the data\n",
    "\n",
    "* Make suggestions for the game sales next year"
   ]
  },
  {
   "cell_type": "code",
   "execution_count": 2,
   "metadata": {},
   "outputs": [],
   "source": [
    "import pandas as pd\n",
    "import numpy as np\n",
    "import matplotlib.pyplot as plt\n",
    "import seaborn as sns\n",
    "import plotly_express as px\n",
    "import requests\n",
    "from scipy import stats"
   ]
  },
  {
   "cell_type": "code",
   "execution_count": 3,
   "metadata": {},
   "outputs": [
    {
     "data": {
      "text/html": [
       "<div>\n",
       "<style scoped>\n",
       "    .dataframe tbody tr th:only-of-type {\n",
       "        vertical-align: middle;\n",
       "    }\n",
       "\n",
       "    .dataframe tbody tr th {\n",
       "        vertical-align: top;\n",
       "    }\n",
       "\n",
       "    .dataframe thead th {\n",
       "        text-align: right;\n",
       "    }\n",
       "</style>\n",
       "<table border=\"1\" class=\"dataframe\">\n",
       "  <thead>\n",
       "    <tr style=\"text-align: right;\">\n",
       "      <th></th>\n",
       "      <th>Name</th>\n",
       "      <th>Platform</th>\n",
       "      <th>Year_of_Release</th>\n",
       "      <th>Genre</th>\n",
       "      <th>NA_sales</th>\n",
       "      <th>EU_sales</th>\n",
       "      <th>JP_sales</th>\n",
       "      <th>Other_sales</th>\n",
       "      <th>Critic_Score</th>\n",
       "      <th>User_Score</th>\n",
       "      <th>Rating</th>\n",
       "    </tr>\n",
       "  </thead>\n",
       "  <tbody>\n",
       "    <tr>\n",
       "      <th>0</th>\n",
       "      <td>Wii Sports</td>\n",
       "      <td>Wii</td>\n",
       "      <td>2006.0</td>\n",
       "      <td>Sports</td>\n",
       "      <td>41.36</td>\n",
       "      <td>28.96</td>\n",
       "      <td>3.77</td>\n",
       "      <td>8.45</td>\n",
       "      <td>76.0</td>\n",
       "      <td>8</td>\n",
       "      <td>E</td>\n",
       "    </tr>\n",
       "    <tr>\n",
       "      <th>1</th>\n",
       "      <td>Super Mario Bros.</td>\n",
       "      <td>NES</td>\n",
       "      <td>1985.0</td>\n",
       "      <td>Platform</td>\n",
       "      <td>29.08</td>\n",
       "      <td>3.58</td>\n",
       "      <td>6.81</td>\n",
       "      <td>0.77</td>\n",
       "      <td>NaN</td>\n",
       "      <td>NaN</td>\n",
       "      <td>NaN</td>\n",
       "    </tr>\n",
       "    <tr>\n",
       "      <th>2</th>\n",
       "      <td>Mario Kart Wii</td>\n",
       "      <td>Wii</td>\n",
       "      <td>2008.0</td>\n",
       "      <td>Racing</td>\n",
       "      <td>15.68</td>\n",
       "      <td>12.76</td>\n",
       "      <td>3.79</td>\n",
       "      <td>3.29</td>\n",
       "      <td>82.0</td>\n",
       "      <td>8.3</td>\n",
       "      <td>E</td>\n",
       "    </tr>\n",
       "    <tr>\n",
       "      <th>3</th>\n",
       "      <td>Wii Sports Resort</td>\n",
       "      <td>Wii</td>\n",
       "      <td>2009.0</td>\n",
       "      <td>Sports</td>\n",
       "      <td>15.61</td>\n",
       "      <td>10.93</td>\n",
       "      <td>3.28</td>\n",
       "      <td>2.95</td>\n",
       "      <td>80.0</td>\n",
       "      <td>8</td>\n",
       "      <td>E</td>\n",
       "    </tr>\n",
       "    <tr>\n",
       "      <th>4</th>\n",
       "      <td>Pokemon Red/Pokemon Blue</td>\n",
       "      <td>GB</td>\n",
       "      <td>1996.0</td>\n",
       "      <td>Role-Playing</td>\n",
       "      <td>11.27</td>\n",
       "      <td>8.89</td>\n",
       "      <td>10.22</td>\n",
       "      <td>1.00</td>\n",
       "      <td>NaN</td>\n",
       "      <td>NaN</td>\n",
       "      <td>NaN</td>\n",
       "    </tr>\n",
       "  </tbody>\n",
       "</table>\n",
       "</div>"
      ],
      "text/plain": [
       "                       Name Platform  Year_of_Release         Genre  NA_sales  \\\n",
       "0                Wii Sports      Wii           2006.0        Sports     41.36   \n",
       "1         Super Mario Bros.      NES           1985.0      Platform     29.08   \n",
       "2            Mario Kart Wii      Wii           2008.0        Racing     15.68   \n",
       "3         Wii Sports Resort      Wii           2009.0        Sports     15.61   \n",
       "4  Pokemon Red/Pokemon Blue       GB           1996.0  Role-Playing     11.27   \n",
       "\n",
       "   EU_sales  JP_sales  Other_sales  Critic_Score User_Score Rating  \n",
       "0     28.96      3.77         8.45          76.0          8      E  \n",
       "1      3.58      6.81         0.77           NaN        NaN    NaN  \n",
       "2     12.76      3.79         3.29          82.0        8.3      E  \n",
       "3     10.93      3.28         2.95          80.0          8      E  \n",
       "4      8.89     10.22         1.00           NaN        NaN    NaN  "
      ]
     },
     "execution_count": 3,
     "metadata": {},
     "output_type": "execute_result"
    }
   ],
   "source": [
    "df = pd.read_csv(\"/datasets/games.csv\")\n",
    "df.head()"
   ]
  },
  {
   "cell_type": "code",
   "execution_count": 4,
   "metadata": {},
   "outputs": [
    {
     "name": "stdout",
     "output_type": "stream",
     "text": [
      "<class 'pandas.core.frame.DataFrame'>\n",
      "RangeIndex: 16715 entries, 0 to 16714\n",
      "Data columns (total 11 columns):\n",
      " #   Column           Non-Null Count  Dtype  \n",
      "---  ------           --------------  -----  \n",
      " 0   Name             16713 non-null  object \n",
      " 1   Platform         16715 non-null  object \n",
      " 2   Year_of_Release  16446 non-null  float64\n",
      " 3   Genre            16713 non-null  object \n",
      " 4   NA_sales         16715 non-null  float64\n",
      " 5   EU_sales         16715 non-null  float64\n",
      " 6   JP_sales         16715 non-null  float64\n",
      " 7   Other_sales      16715 non-null  float64\n",
      " 8   Critic_Score     8137 non-null   float64\n",
      " 9   User_Score       10014 non-null  object \n",
      " 10  Rating           9949 non-null   object \n",
      "dtypes: float64(6), object(5)\n",
      "memory usage: 1.4+ MB\n"
     ]
    }
   ],
   "source": [
    "df.info()"
   ]
  },
  {
   "cell_type": "code",
   "execution_count": 5,
   "metadata": {},
   "outputs": [
    {
     "data": {
      "text/html": [
       "<div>\n",
       "<style scoped>\n",
       "    .dataframe tbody tr th:only-of-type {\n",
       "        vertical-align: middle;\n",
       "    }\n",
       "\n",
       "    .dataframe tbody tr th {\n",
       "        vertical-align: top;\n",
       "    }\n",
       "\n",
       "    .dataframe thead th {\n",
       "        text-align: right;\n",
       "    }\n",
       "</style>\n",
       "<table border=\"1\" class=\"dataframe\">\n",
       "  <thead>\n",
       "    <tr style=\"text-align: right;\">\n",
       "      <th></th>\n",
       "      <th>Year_of_Release</th>\n",
       "      <th>NA_sales</th>\n",
       "      <th>EU_sales</th>\n",
       "      <th>JP_sales</th>\n",
       "      <th>Other_sales</th>\n",
       "      <th>Critic_Score</th>\n",
       "    </tr>\n",
       "  </thead>\n",
       "  <tbody>\n",
       "    <tr>\n",
       "      <th>count</th>\n",
       "      <td>16446.000000</td>\n",
       "      <td>16715.000000</td>\n",
       "      <td>16715.000000</td>\n",
       "      <td>16715.000000</td>\n",
       "      <td>16715.000000</td>\n",
       "      <td>8137.000000</td>\n",
       "    </tr>\n",
       "    <tr>\n",
       "      <th>mean</th>\n",
       "      <td>2006.484616</td>\n",
       "      <td>0.263377</td>\n",
       "      <td>0.145060</td>\n",
       "      <td>0.077617</td>\n",
       "      <td>0.047342</td>\n",
       "      <td>68.967679</td>\n",
       "    </tr>\n",
       "    <tr>\n",
       "      <th>std</th>\n",
       "      <td>5.877050</td>\n",
       "      <td>0.813604</td>\n",
       "      <td>0.503339</td>\n",
       "      <td>0.308853</td>\n",
       "      <td>0.186731</td>\n",
       "      <td>13.938165</td>\n",
       "    </tr>\n",
       "    <tr>\n",
       "      <th>min</th>\n",
       "      <td>1980.000000</td>\n",
       "      <td>0.000000</td>\n",
       "      <td>0.000000</td>\n",
       "      <td>0.000000</td>\n",
       "      <td>0.000000</td>\n",
       "      <td>13.000000</td>\n",
       "    </tr>\n",
       "    <tr>\n",
       "      <th>25%</th>\n",
       "      <td>2003.000000</td>\n",
       "      <td>0.000000</td>\n",
       "      <td>0.000000</td>\n",
       "      <td>0.000000</td>\n",
       "      <td>0.000000</td>\n",
       "      <td>60.000000</td>\n",
       "    </tr>\n",
       "    <tr>\n",
       "      <th>50%</th>\n",
       "      <td>2007.000000</td>\n",
       "      <td>0.080000</td>\n",
       "      <td>0.020000</td>\n",
       "      <td>0.000000</td>\n",
       "      <td>0.010000</td>\n",
       "      <td>71.000000</td>\n",
       "    </tr>\n",
       "    <tr>\n",
       "      <th>75%</th>\n",
       "      <td>2010.000000</td>\n",
       "      <td>0.240000</td>\n",
       "      <td>0.110000</td>\n",
       "      <td>0.040000</td>\n",
       "      <td>0.030000</td>\n",
       "      <td>79.000000</td>\n",
       "    </tr>\n",
       "    <tr>\n",
       "      <th>max</th>\n",
       "      <td>2016.000000</td>\n",
       "      <td>41.360000</td>\n",
       "      <td>28.960000</td>\n",
       "      <td>10.220000</td>\n",
       "      <td>10.570000</td>\n",
       "      <td>98.000000</td>\n",
       "    </tr>\n",
       "  </tbody>\n",
       "</table>\n",
       "</div>"
      ],
      "text/plain": [
       "       Year_of_Release      NA_sales      EU_sales      JP_sales  \\\n",
       "count     16446.000000  16715.000000  16715.000000  16715.000000   \n",
       "mean       2006.484616      0.263377      0.145060      0.077617   \n",
       "std           5.877050      0.813604      0.503339      0.308853   \n",
       "min        1980.000000      0.000000      0.000000      0.000000   \n",
       "25%        2003.000000      0.000000      0.000000      0.000000   \n",
       "50%        2007.000000      0.080000      0.020000      0.000000   \n",
       "75%        2010.000000      0.240000      0.110000      0.040000   \n",
       "max        2016.000000     41.360000     28.960000     10.220000   \n",
       "\n",
       "        Other_sales  Critic_Score  \n",
       "count  16715.000000   8137.000000  \n",
       "mean       0.047342     68.967679  \n",
       "std        0.186731     13.938165  \n",
       "min        0.000000     13.000000  \n",
       "25%        0.000000     60.000000  \n",
       "50%        0.010000     71.000000  \n",
       "75%        0.030000     79.000000  \n",
       "max       10.570000     98.000000  "
      ]
     },
     "execution_count": 5,
     "metadata": {},
     "output_type": "execute_result"
    }
   ],
   "source": [
    "df.describe()"
   ]
  },
  {
   "cell_type": "markdown",
   "metadata": {},
   "source": [
    "<div class=\"alert alert-block alert-success\">\n",
    "<b>Reviewer's comment</b> <a class=\"tocSkip\"></a>\n",
    "\n",
    "Pro tip: it is useful to check for duplicates also.\n",
    "</div>"
   ]
  },
  {
   "cell_type": "markdown",
   "metadata": {},
   "source": [
    "# Data Preprocessing"
   ]
  },
  {
   "cell_type": "markdown",
   "metadata": {},
   "source": [
    "## Data Preprocessing Stragedy\n",
    "\n",
    "The dataset contains 16715 entries and 11 columns.\n",
    "\n",
    "* Replace the column names (make them lowercase).\n",
    "\n",
    "* Data type:\n",
    "    * DateTime: `year_release`\n",
    "    * String: `name`, `platform`, `Genre` `Rating`\n",
    "    * Float: `NA_sales`, `EU_sales`, `JP_sales`, `Other_sales`, `Critic_Score`, `User_Score`\n",
    "\n",
    "* Missing values: `name`, `year_release`, `Genre`, `Critic_Score`, `User_Score` and `Rating`"
   ]
  },
  {
   "cell_type": "markdown",
   "metadata": {},
   "source": [
    "### Replace the column name"
   ]
  },
  {
   "cell_type": "code",
   "execution_count": 6,
   "metadata": {},
   "outputs": [],
   "source": [
    "df.rename(columns=lambda x: x.lower(), inplace=True)"
   ]
  },
  {
   "cell_type": "markdown",
   "metadata": {},
   "source": [
    "### Convert data type and fill missing values"
   ]
  },
  {
   "cell_type": "markdown",
   "metadata": {},
   "source": [
    "I'll address the missing values and convert data type together, because these two processes interact with each other."
   ]
  },
  {
   "cell_type": "markdown",
   "metadata": {},
   "source": [
    "#### `year_of_release`"
   ]
  },
  {
   "cell_type": "markdown",
   "metadata": {},
   "source": [
    "##### Missing values"
   ]
  },
  {
   "cell_type": "markdown",
   "metadata": {},
   "source": [
    "Before converting the datatype, I have to fill the missing values in advance."
   ]
  },
  {
   "cell_type": "code",
   "execution_count": 7,
   "metadata": {},
   "outputs": [
    {
     "data": {
      "text/plain": [
       "232"
      ]
     },
     "execution_count": 7,
     "metadata": {},
     "output_type": "execute_result"
    }
   ],
   "source": [
    "df[df['year_of_release'].isna()]['name'].nunique()"
   ]
  },
  {
   "cell_type": "markdown",
   "metadata": {},
   "source": [
    "The column `year_of_release` has 232 missing values. I could refill them with a certain value, but I found it's easy to find the released year on WiKipedia. Therefore I wrote a small crawler code and fetch the released year records."
   ]
  },
  {
   "cell_type": "code",
   "execution_count": 8,
   "metadata": {},
   "outputs": [
    {
     "name": "stdout",
     "output_type": "stream",
     "text": [
      "1979 video game\n"
     ]
    }
   ],
   "source": [
    "url = \"https://www.wikidata.org/w/api.php\" \n",
    "query = \"Slot Machine\"\n",
    "params = {\n",
    "    'action': \"wbsearchentities\",\n",
    "    'language': 'en',\n",
    "    'format': 'json',\n",
    "    'search': query\n",
    "}\n",
    "response = requests.get(url, params=params)\n",
    "data = response.json()['search'][3]['description']\n",
    "print(data)"
   ]
  },
  {
   "cell_type": "code",
   "execution_count": 9,
   "metadata": {},
   "outputs": [],
   "source": [
    "# Web crawler for released year\n",
    "\"\"\"\n",
    "There are 3 kinds of outputs:\n",
    "1. Perfect output (most of the outputs): \"2003 American football video game\" or \"2001 video game\". I can easily extract the released year from them even no need to use RE method.\n",
    "The first element after splitting is the result.\n",
    "2. Multiple responding results, I need to iterate all results until find the right one.\n",
    "3. None or wrong output: coundn't find any information from the Wikipedia\n",
    "\"\"\"\n",
    "def process_item(item):\n",
    "    url = \"https://www.wikidata.org/w/api.php\" \n",
    "    params = {\n",
    "        'action': \"wbsearchentities\",\n",
    "        'language': 'en',\n",
    "        'format': 'json',\n",
    "        'search': item\n",
    "    }\n",
    "\n",
    "    response = session.get(url, params=params)\n",
    "    response_length = len(response.json()['search'])\n",
    "    #print(response_length)\n",
    "    if response_length == 0:\n",
    "        not_found_list.append(item)\n",
    "        #print(f\"{item}: not found key word\")\n",
    "    else:\n",
    "        for i in range(response_length):\n",
    "            try:\n",
    "                data = response.json()['search'][i]['description']\n",
    "                #print(f\"{item} = data: {data}\")\n",
    "                year = float(data.split()[0])\n",
    "                df.loc[df['name']==item, 'year_of_release'] = year\n",
    "                #print(year)\n",
    "                break\n",
    "            except:\n",
    "                # not found in Wiki\n",
    "                if i == response_length - 1:\n",
    "                    #print(f\"{item}: not found game\")\n",
    "                    not_found_list.append(item)\n",
    "    \n",
    "\n",
    "session = requests.Session()\n",
    "\n",
    "missing_name_list = df[df['year_of_release'].isna()]['name'].unique()\n",
    "#missing_name_list = [\"Jet X20\"]\n",
    "not_found_list = []\n",
    "for missing_name in missing_name_list:\n",
    "    process_item(missing_name)\n",
    "\n",
    "session.close()"
   ]
  },
  {
   "cell_type": "markdown",
   "metadata": {},
   "source": [
    "There might be some wrong values when I drew from the web crawler. For example:"
   ]
  },
  {
   "cell_type": "code",
   "execution_count": 10,
   "metadata": {},
   "outputs": [
    {
     "data": {
      "text/html": [
       "<div>\n",
       "<style scoped>\n",
       "    .dataframe tbody tr th:only-of-type {\n",
       "        vertical-align: middle;\n",
       "    }\n",
       "\n",
       "    .dataframe tbody tr th {\n",
       "        vertical-align: top;\n",
       "    }\n",
       "\n",
       "    .dataframe thead th {\n",
       "        text-align: right;\n",
       "    }\n",
       "</style>\n",
       "<table border=\"1\" class=\"dataframe\">\n",
       "  <thead>\n",
       "    <tr style=\"text-align: right;\">\n",
       "      <th></th>\n",
       "      <th>name</th>\n",
       "      <th>platform</th>\n",
       "      <th>year_of_release</th>\n",
       "      <th>genre</th>\n",
       "      <th>na_sales</th>\n",
       "      <th>eu_sales</th>\n",
       "      <th>jp_sales</th>\n",
       "      <th>other_sales</th>\n",
       "      <th>critic_score</th>\n",
       "      <th>user_score</th>\n",
       "      <th>rating</th>\n",
       "    </tr>\n",
       "  </thead>\n",
       "  <tbody>\n",
       "    <tr>\n",
       "      <th>609</th>\n",
       "      <td>Space Invaders</td>\n",
       "      <td>2600</td>\n",
       "      <td>1978.0</td>\n",
       "      <td>Shooter</td>\n",
       "      <td>2.36</td>\n",
       "      <td>0.14</td>\n",
       "      <td>0.00</td>\n",
       "      <td>0.03</td>\n",
       "      <td>NaN</td>\n",
       "      <td>NaN</td>\n",
       "      <td>NaN</td>\n",
       "    </tr>\n",
       "    <tr>\n",
       "      <th>1506</th>\n",
       "      <td>Adventure</td>\n",
       "      <td>2600</td>\n",
       "      <td>1979.0</td>\n",
       "      <td>Adventure</td>\n",
       "      <td>1.21</td>\n",
       "      <td>0.08</td>\n",
       "      <td>0.00</td>\n",
       "      <td>0.01</td>\n",
       "      <td>NaN</td>\n",
       "      <td>NaN</td>\n",
       "      <td>NaN</td>\n",
       "    </tr>\n",
       "    <tr>\n",
       "      <th>1585</th>\n",
       "      <td>Combat</td>\n",
       "      <td>2600</td>\n",
       "      <td>1977.0</td>\n",
       "      <td>Action</td>\n",
       "      <td>1.17</td>\n",
       "      <td>0.07</td>\n",
       "      <td>0.00</td>\n",
       "      <td>0.01</td>\n",
       "      <td>NaN</td>\n",
       "      <td>NaN</td>\n",
       "      <td>NaN</td>\n",
       "    </tr>\n",
       "    <tr>\n",
       "      <th>1868</th>\n",
       "      <td>GRID</td>\n",
       "      <td>PS3</td>\n",
       "      <td>2019.0</td>\n",
       "      <td>Racing</td>\n",
       "      <td>0.31</td>\n",
       "      <td>0.56</td>\n",
       "      <td>0.03</td>\n",
       "      <td>0.20</td>\n",
       "      <td>87.0</td>\n",
       "      <td>8.1</td>\n",
       "      <td>E</td>\n",
       "    </tr>\n",
       "    <tr>\n",
       "      <th>2106</th>\n",
       "      <td>Air-Sea Battle</td>\n",
       "      <td>2600</td>\n",
       "      <td>1977.0</td>\n",
       "      <td>Shooter</td>\n",
       "      <td>0.91</td>\n",
       "      <td>0.06</td>\n",
       "      <td>0.00</td>\n",
       "      <td>0.01</td>\n",
       "      <td>NaN</td>\n",
       "      <td>NaN</td>\n",
       "      <td>NaN</td>\n",
       "    </tr>\n",
       "    <tr>\n",
       "      <th>2396</th>\n",
       "      <td>GRID</td>\n",
       "      <td>X360</td>\n",
       "      <td>2019.0</td>\n",
       "      <td>Racing</td>\n",
       "      <td>0.33</td>\n",
       "      <td>0.44</td>\n",
       "      <td>0.01</td>\n",
       "      <td>0.09</td>\n",
       "      <td>87.0</td>\n",
       "      <td>7.9</td>\n",
       "      <td>E</td>\n",
       "    </tr>\n",
       "    <tr>\n",
       "      <th>4264</th>\n",
       "      <td>Space Invaders</td>\n",
       "      <td>SNES</td>\n",
       "      <td>1978.0</td>\n",
       "      <td>Shooter</td>\n",
       "      <td>0.00</td>\n",
       "      <td>0.00</td>\n",
       "      <td>0.46</td>\n",
       "      <td>0.00</td>\n",
       "      <td>NaN</td>\n",
       "      <td>NaN</td>\n",
       "      <td>NaN</td>\n",
       "    </tr>\n",
       "    <tr>\n",
       "      <th>4437</th>\n",
       "      <td>Super Breakout</td>\n",
       "      <td>2600</td>\n",
       "      <td>1978.0</td>\n",
       "      <td>Puzzle</td>\n",
       "      <td>0.41</td>\n",
       "      <td>0.03</td>\n",
       "      <td>0.00</td>\n",
       "      <td>0.00</td>\n",
       "      <td>NaN</td>\n",
       "      <td>NaN</td>\n",
       "      <td>NaN</td>\n",
       "    </tr>\n",
       "    <tr>\n",
       "      <th>5041</th>\n",
       "      <td>Hangman</td>\n",
       "      <td>2600</td>\n",
       "      <td>2017.0</td>\n",
       "      <td>Puzzle</td>\n",
       "      <td>0.35</td>\n",
       "      <td>0.02</td>\n",
       "      <td>0.00</td>\n",
       "      <td>0.00</td>\n",
       "      <td>NaN</td>\n",
       "      <td>NaN</td>\n",
       "      <td>NaN</td>\n",
       "    </tr>\n",
       "    <tr>\n",
       "      <th>5800</th>\n",
       "      <td>Slot Machine</td>\n",
       "      <td>2600</td>\n",
       "      <td>1979.0</td>\n",
       "      <td>Action</td>\n",
       "      <td>0.29</td>\n",
       "      <td>0.02</td>\n",
       "      <td>0.00</td>\n",
       "      <td>0.00</td>\n",
       "      <td>NaN</td>\n",
       "      <td>NaN</td>\n",
       "      <td>NaN</td>\n",
       "    </tr>\n",
       "    <tr>\n",
       "      <th>6299</th>\n",
       "      <td>Flag Capture</td>\n",
       "      <td>2600</td>\n",
       "      <td>1978.0</td>\n",
       "      <td>Action</td>\n",
       "      <td>0.25</td>\n",
       "      <td>0.02</td>\n",
       "      <td>0.00</td>\n",
       "      <td>0.00</td>\n",
       "      <td>NaN</td>\n",
       "      <td>NaN</td>\n",
       "      <td>NaN</td>\n",
       "    </tr>\n",
       "    <tr>\n",
       "      <th>8580</th>\n",
       "      <td>Space Invaders</td>\n",
       "      <td>N64</td>\n",
       "      <td>1978.0</td>\n",
       "      <td>Shooter</td>\n",
       "      <td>0.13</td>\n",
       "      <td>0.03</td>\n",
       "      <td>0.00</td>\n",
       "      <td>0.00</td>\n",
       "      <td>NaN</td>\n",
       "      <td>NaN</td>\n",
       "      <td>NaN</td>\n",
       "    </tr>\n",
       "    <tr>\n",
       "      <th>8632</th>\n",
       "      <td>Vegas Party</td>\n",
       "      <td>Wii</td>\n",
       "      <td>2018.0</td>\n",
       "      <td>Misc</td>\n",
       "      <td>0.15</td>\n",
       "      <td>0.00</td>\n",
       "      <td>0.00</td>\n",
       "      <td>0.01</td>\n",
       "      <td>33.0</td>\n",
       "      <td>tbd</td>\n",
       "      <td>T</td>\n",
       "    </tr>\n",
       "    <tr>\n",
       "      <th>10383</th>\n",
       "      <td>Space Invaders</td>\n",
       "      <td>GBA</td>\n",
       "      <td>1978.0</td>\n",
       "      <td>Shooter</td>\n",
       "      <td>0.08</td>\n",
       "      <td>0.03</td>\n",
       "      <td>0.00</td>\n",
       "      <td>0.00</td>\n",
       "      <td>NaN</td>\n",
       "      <td>NaN</td>\n",
       "      <td>NaN</td>\n",
       "    </tr>\n",
       "    <tr>\n",
       "      <th>12003</th>\n",
       "      <td>Tornado</td>\n",
       "      <td>DS</td>\n",
       "      <td>1917.0</td>\n",
       "      <td>Action</td>\n",
       "      <td>0.07</td>\n",
       "      <td>0.00</td>\n",
       "      <td>0.00</td>\n",
       "      <td>0.00</td>\n",
       "      <td>44.0</td>\n",
       "      <td>tbd</td>\n",
       "      <td>E</td>\n",
       "    </tr>\n",
       "    <tr>\n",
       "      <th>13142</th>\n",
       "      <td>GRID</td>\n",
       "      <td>DS</td>\n",
       "      <td>2019.0</td>\n",
       "      <td>Racing</td>\n",
       "      <td>0.04</td>\n",
       "      <td>0.00</td>\n",
       "      <td>0.00</td>\n",
       "      <td>0.00</td>\n",
       "      <td>79.0</td>\n",
       "      <td>8.1</td>\n",
       "      <td>E</td>\n",
       "    </tr>\n",
       "    <tr>\n",
       "      <th>13781</th>\n",
       "      <td>GRID</td>\n",
       "      <td>PC</td>\n",
       "      <td>2019.0</td>\n",
       "      <td>Racing</td>\n",
       "      <td>0.00</td>\n",
       "      <td>0.03</td>\n",
       "      <td>0.00</td>\n",
       "      <td>0.01</td>\n",
       "      <td>87.0</td>\n",
       "      <td>7.9</td>\n",
       "      <td>E</td>\n",
       "    </tr>\n",
       "  </tbody>\n",
       "</table>\n",
       "</div>"
      ],
      "text/plain": [
       "                 name platform  year_of_release      genre  na_sales  \\\n",
       "609    Space Invaders     2600           1978.0    Shooter      2.36   \n",
       "1506        Adventure     2600           1979.0  Adventure      1.21   \n",
       "1585           Combat     2600           1977.0     Action      1.17   \n",
       "1868             GRID      PS3           2019.0     Racing      0.31   \n",
       "2106   Air-Sea Battle     2600           1977.0    Shooter      0.91   \n",
       "2396             GRID     X360           2019.0     Racing      0.33   \n",
       "4264   Space Invaders     SNES           1978.0    Shooter      0.00   \n",
       "4437   Super Breakout     2600           1978.0     Puzzle      0.41   \n",
       "5041          Hangman     2600           2017.0     Puzzle      0.35   \n",
       "5800     Slot Machine     2600           1979.0     Action      0.29   \n",
       "6299     Flag Capture     2600           1978.0     Action      0.25   \n",
       "8580   Space Invaders      N64           1978.0    Shooter      0.13   \n",
       "8632      Vegas Party      Wii           2018.0       Misc      0.15   \n",
       "10383  Space Invaders      GBA           1978.0    Shooter      0.08   \n",
       "12003         Tornado       DS           1917.0     Action      0.07   \n",
       "13142            GRID       DS           2019.0     Racing      0.04   \n",
       "13781            GRID       PC           2019.0     Racing      0.00   \n",
       "\n",
       "       eu_sales  jp_sales  other_sales  critic_score user_score rating  \n",
       "609        0.14      0.00         0.03           NaN        NaN    NaN  \n",
       "1506       0.08      0.00         0.01           NaN        NaN    NaN  \n",
       "1585       0.07      0.00         0.01           NaN        NaN    NaN  \n",
       "1868       0.56      0.03         0.20          87.0        8.1      E  \n",
       "2106       0.06      0.00         0.01           NaN        NaN    NaN  \n",
       "2396       0.44      0.01         0.09          87.0        7.9      E  \n",
       "4264       0.00      0.46         0.00           NaN        NaN    NaN  \n",
       "4437       0.03      0.00         0.00           NaN        NaN    NaN  \n",
       "5041       0.02      0.00         0.00           NaN        NaN    NaN  \n",
       "5800       0.02      0.00         0.00           NaN        NaN    NaN  \n",
       "6299       0.02      0.00         0.00           NaN        NaN    NaN  \n",
       "8580       0.03      0.00         0.00           NaN        NaN    NaN  \n",
       "8632       0.00      0.00         0.01          33.0        tbd      T  \n",
       "10383      0.03      0.00         0.00           NaN        NaN    NaN  \n",
       "12003      0.00      0.00         0.00          44.0        tbd      E  \n",
       "13142      0.00      0.00         0.00          79.0        8.1      E  \n",
       "13781      0.03      0.00         0.01          87.0        7.9      E  "
      ]
     },
     "execution_count": 10,
     "metadata": {},
     "output_type": "execute_result"
    }
   ],
   "source": [
    "df[(df['year_of_release'] < 1980) | (df['year_of_release'] > 2016) ]"
   ]
  },
  {
   "cell_type": "markdown",
   "metadata": {},
   "source": [
    "The `year_of_lease` of game \"Tornado\" is 1917 and \"GRID\" is 2019. Obviously these number were under the coverage of my search pattern but were wrong. I'll replace them with `nan` and process it in the next step."
   ]
  },
  {
   "cell_type": "code",
   "execution_count": 11,
   "metadata": {},
   "outputs": [],
   "source": [
    "df.loc[(df['year_of_release'] < 1950) | (df['year_of_release'] > 2016), 'year_of_release'] = np.nan"
   ]
  },
  {
   "cell_type": "code",
   "execution_count": 12,
   "metadata": {},
   "outputs": [
    {
     "data": {
      "text/plain": [
       "71"
      ]
     },
     "execution_count": 12,
     "metadata": {},
     "output_type": "execute_result"
    }
   ],
   "source": [
    "df['year_of_release'].isna().sum()"
   ]
  },
  {
   "cell_type": "markdown",
   "metadata": {},
   "source": [
    "<div class=\"alert alert-block alert-success\">\n",
    "<b>Reviewer's comment</b> <a class=\"tocSkip\"></a>\n",
    "\n",
    "Wow! Very cool approach.\n",
    "    \n",
    "But it is really overkill =) We can just drop 232/16715 < 1,4% of missing values.\n",
    "</div>"
   ]
  },
  {
   "cell_type": "markdown",
   "metadata": {},
   "source": [
    "After searching in WikiPedia, we have 71 missing values of released year left. I'd like to fill them with random year in the range."
   ]
  },
  {
   "cell_type": "code",
   "execution_count": 13,
   "metadata": {},
   "outputs": [],
   "source": [
    "df['year_of_release'].fillna(float(np.random.randint(1980, 2016)), inplace=True)"
   ]
  },
  {
   "cell_type": "markdown",
   "metadata": {},
   "source": [
    "<div class=\"alert alert-block alert-warning\">\n",
    "<b>Reviewer's comment</b> <a class=\"tocSkip\"></a>\n",
    "\n",
    "It's not a good practice to fill NaNs with random values.\n",
    "</div>"
   ]
  },
  {
   "cell_type": "markdown",
   "metadata": {},
   "source": [
    "##### Convert the data type to DateTime"
   ]
  },
  {
   "cell_type": "code",
   "execution_count": 14,
   "metadata": {},
   "outputs": [],
   "source": [
    "df['year_of_release'] = pd.to_datetime(df['year_of_release'].astype(int).astype(str)).dt.year"
   ]
  },
  {
   "cell_type": "code",
   "execution_count": 15,
   "metadata": {},
   "outputs": [
    {
     "data": {
      "text/html": [
       "<div>\n",
       "<style scoped>\n",
       "    .dataframe tbody tr th:only-of-type {\n",
       "        vertical-align: middle;\n",
       "    }\n",
       "\n",
       "    .dataframe tbody tr th {\n",
       "        vertical-align: top;\n",
       "    }\n",
       "\n",
       "    .dataframe thead th {\n",
       "        text-align: right;\n",
       "    }\n",
       "</style>\n",
       "<table border=\"1\" class=\"dataframe\">\n",
       "  <thead>\n",
       "    <tr style=\"text-align: right;\">\n",
       "      <th></th>\n",
       "      <th>name</th>\n",
       "      <th>platform</th>\n",
       "      <th>year_of_release</th>\n",
       "      <th>genre</th>\n",
       "      <th>na_sales</th>\n",
       "      <th>eu_sales</th>\n",
       "      <th>jp_sales</th>\n",
       "      <th>other_sales</th>\n",
       "      <th>critic_score</th>\n",
       "      <th>user_score</th>\n",
       "      <th>rating</th>\n",
       "    </tr>\n",
       "  </thead>\n",
       "  <tbody>\n",
       "    <tr>\n",
       "      <th>0</th>\n",
       "      <td>Wii Sports</td>\n",
       "      <td>Wii</td>\n",
       "      <td>2006</td>\n",
       "      <td>Sports</td>\n",
       "      <td>41.36</td>\n",
       "      <td>28.96</td>\n",
       "      <td>3.77</td>\n",
       "      <td>8.45</td>\n",
       "      <td>76.0</td>\n",
       "      <td>8</td>\n",
       "      <td>E</td>\n",
       "    </tr>\n",
       "    <tr>\n",
       "      <th>1</th>\n",
       "      <td>Super Mario Bros.</td>\n",
       "      <td>NES</td>\n",
       "      <td>1985</td>\n",
       "      <td>Platform</td>\n",
       "      <td>29.08</td>\n",
       "      <td>3.58</td>\n",
       "      <td>6.81</td>\n",
       "      <td>0.77</td>\n",
       "      <td>NaN</td>\n",
       "      <td>NaN</td>\n",
       "      <td>NaN</td>\n",
       "    </tr>\n",
       "    <tr>\n",
       "      <th>2</th>\n",
       "      <td>Mario Kart Wii</td>\n",
       "      <td>Wii</td>\n",
       "      <td>2008</td>\n",
       "      <td>Racing</td>\n",
       "      <td>15.68</td>\n",
       "      <td>12.76</td>\n",
       "      <td>3.79</td>\n",
       "      <td>3.29</td>\n",
       "      <td>82.0</td>\n",
       "      <td>8.3</td>\n",
       "      <td>E</td>\n",
       "    </tr>\n",
       "    <tr>\n",
       "      <th>3</th>\n",
       "      <td>Wii Sports Resort</td>\n",
       "      <td>Wii</td>\n",
       "      <td>2009</td>\n",
       "      <td>Sports</td>\n",
       "      <td>15.61</td>\n",
       "      <td>10.93</td>\n",
       "      <td>3.28</td>\n",
       "      <td>2.95</td>\n",
       "      <td>80.0</td>\n",
       "      <td>8</td>\n",
       "      <td>E</td>\n",
       "    </tr>\n",
       "    <tr>\n",
       "      <th>4</th>\n",
       "      <td>Pokemon Red/Pokemon Blue</td>\n",
       "      <td>GB</td>\n",
       "      <td>1996</td>\n",
       "      <td>Role-Playing</td>\n",
       "      <td>11.27</td>\n",
       "      <td>8.89</td>\n",
       "      <td>10.22</td>\n",
       "      <td>1.00</td>\n",
       "      <td>NaN</td>\n",
       "      <td>NaN</td>\n",
       "      <td>NaN</td>\n",
       "    </tr>\n",
       "  </tbody>\n",
       "</table>\n",
       "</div>"
      ],
      "text/plain": [
       "                       name platform  year_of_release         genre  na_sales  \\\n",
       "0                Wii Sports      Wii             2006        Sports     41.36   \n",
       "1         Super Mario Bros.      NES             1985      Platform     29.08   \n",
       "2            Mario Kart Wii      Wii             2008        Racing     15.68   \n",
       "3         Wii Sports Resort      Wii             2009        Sports     15.61   \n",
       "4  Pokemon Red/Pokemon Blue       GB             1996  Role-Playing     11.27   \n",
       "\n",
       "   eu_sales  jp_sales  other_sales  critic_score user_score rating  \n",
       "0     28.96      3.77         8.45          76.0          8      E  \n",
       "1      3.58      6.81         0.77           NaN        NaN    NaN  \n",
       "2     12.76      3.79         3.29          82.0        8.3      E  \n",
       "3     10.93      3.28         2.95          80.0          8      E  \n",
       "4      8.89     10.22         1.00           NaN        NaN    NaN  "
      ]
     },
     "execution_count": 15,
     "metadata": {},
     "output_type": "execute_result"
    }
   ],
   "source": [
    "df.head()"
   ]
  },
  {
   "cell_type": "markdown",
   "metadata": {},
   "source": [
    "#### `name`\n",
    "\n",
    "##### Missing values"
   ]
  },
  {
   "cell_type": "code",
   "execution_count": 16,
   "metadata": {},
   "outputs": [
    {
     "data": {
      "text/html": [
       "<div>\n",
       "<style scoped>\n",
       "    .dataframe tbody tr th:only-of-type {\n",
       "        vertical-align: middle;\n",
       "    }\n",
       "\n",
       "    .dataframe tbody tr th {\n",
       "        vertical-align: top;\n",
       "    }\n",
       "\n",
       "    .dataframe thead th {\n",
       "        text-align: right;\n",
       "    }\n",
       "</style>\n",
       "<table border=\"1\" class=\"dataframe\">\n",
       "  <thead>\n",
       "    <tr style=\"text-align: right;\">\n",
       "      <th></th>\n",
       "      <th>name</th>\n",
       "      <th>platform</th>\n",
       "      <th>year_of_release</th>\n",
       "      <th>genre</th>\n",
       "      <th>na_sales</th>\n",
       "      <th>eu_sales</th>\n",
       "      <th>jp_sales</th>\n",
       "      <th>other_sales</th>\n",
       "      <th>critic_score</th>\n",
       "      <th>user_score</th>\n",
       "      <th>rating</th>\n",
       "    </tr>\n",
       "  </thead>\n",
       "  <tbody>\n",
       "    <tr>\n",
       "      <th>659</th>\n",
       "      <td>NaN</td>\n",
       "      <td>GEN</td>\n",
       "      <td>1993</td>\n",
       "      <td>NaN</td>\n",
       "      <td>1.78</td>\n",
       "      <td>0.53</td>\n",
       "      <td>0.00</td>\n",
       "      <td>0.08</td>\n",
       "      <td>NaN</td>\n",
       "      <td>NaN</td>\n",
       "      <td>NaN</td>\n",
       "    </tr>\n",
       "    <tr>\n",
       "      <th>14244</th>\n",
       "      <td>NaN</td>\n",
       "      <td>GEN</td>\n",
       "      <td>1993</td>\n",
       "      <td>NaN</td>\n",
       "      <td>0.00</td>\n",
       "      <td>0.00</td>\n",
       "      <td>0.03</td>\n",
       "      <td>0.00</td>\n",
       "      <td>NaN</td>\n",
       "      <td>NaN</td>\n",
       "      <td>NaN</td>\n",
       "    </tr>\n",
       "  </tbody>\n",
       "</table>\n",
       "</div>"
      ],
      "text/plain": [
       "      name platform  year_of_release genre  na_sales  eu_sales  jp_sales  \\\n",
       "659    NaN      GEN             1993   NaN      1.78      0.53      0.00   \n",
       "14244  NaN      GEN             1993   NaN      0.00      0.00      0.03   \n",
       "\n",
       "       other_sales  critic_score user_score rating  \n",
       "659           0.08           NaN        NaN    NaN  \n",
       "14244         0.00           NaN        NaN    NaN  "
      ]
     },
     "execution_count": 16,
     "metadata": {},
     "output_type": "execute_result"
    }
   ],
   "source": [
    "df[df['name'].isna()]"
   ]
  },
  {
   "cell_type": "markdown",
   "metadata": {},
   "source": [
    "There are two missing values on the `name` column, as well as on two kinds of scores and `rating` columns. I'll drop them."
   ]
  },
  {
   "cell_type": "code",
   "execution_count": 17,
   "metadata": {},
   "outputs": [],
   "source": [
    "df = df.dropna(subset=['name'])"
   ]
  },
  {
   "cell_type": "markdown",
   "metadata": {},
   "source": [
    "<div class=\"alert alert-block alert-success\">\n",
    "<b>Reviewer's comment</b> <a class=\"tocSkip\"></a>\n",
    "\n",
    "Well done!\n",
    "</div>"
   ]
  },
  {
   "cell_type": "markdown",
   "metadata": {},
   "source": [
    "#### `critic_score`, `user_score`"
   ]
  },
  {
   "cell_type": "markdown",
   "metadata": {},
   "source": [
    "##### Replace 'tbd'"
   ]
  },
  {
   "cell_type": "markdown",
   "metadata": {},
   "source": [
    "I found there is another missing value in `user_score`, \"tbd\", as an implicit missing value. I'll replace it with 'nan'"
   ]
  },
  {
   "cell_type": "code",
   "execution_count": 18,
   "metadata": {},
   "outputs": [
    {
     "data": {
      "text/plain": [
       "2424"
      ]
     },
     "execution_count": 18,
     "metadata": {},
     "output_type": "execute_result"
    }
   ],
   "source": [
    "len(df[df['user_score'] == 'tbd'])"
   ]
  },
  {
   "cell_type": "code",
   "execution_count": 19,
   "metadata": {},
   "outputs": [],
   "source": [
    "df['user_score'] = df['user_score'].replace('tbd', np.nan)"
   ]
  },
  {
   "cell_type": "code",
   "execution_count": 20,
   "metadata": {
    "scrolled": true
   },
   "outputs": [],
   "source": [
    "df['user_score'] = df['user_score'].apply(lambda x: float(x) if x is not None else np.nan)"
   ]
  },
  {
   "cell_type": "markdown",
   "metadata": {},
   "source": [
    "##### Missing values"
   ]
  },
  {
   "cell_type": "markdown",
   "metadata": {},
   "source": [
    "There are many missing values in these two columns. \n",
    "\n",
    "* `critic_score`: 8578 (51.32%) missing values\n",
    "* `user_score`: 9125 (54.6%) missing values\n",
    "\n",
    "Let me check out whether they are missing at the same time."
   ]
  },
  {
   "cell_type": "code",
   "execution_count": 21,
   "metadata": {},
   "outputs": [
    {
     "data": {
      "text/html": [
       "<div>\n",
       "<style scoped>\n",
       "    .dataframe tbody tr th:only-of-type {\n",
       "        vertical-align: middle;\n",
       "    }\n",
       "\n",
       "    .dataframe tbody tr th {\n",
       "        vertical-align: top;\n",
       "    }\n",
       "\n",
       "    .dataframe thead th {\n",
       "        text-align: right;\n",
       "    }\n",
       "</style>\n",
       "<table border=\"1\" class=\"dataframe\">\n",
       "  <thead>\n",
       "    <tr style=\"text-align: right;\">\n",
       "      <th></th>\n",
       "      <th>name</th>\n",
       "      <th>platform</th>\n",
       "      <th>year_of_release</th>\n",
       "      <th>genre</th>\n",
       "      <th>na_sales</th>\n",
       "      <th>eu_sales</th>\n",
       "      <th>jp_sales</th>\n",
       "      <th>other_sales</th>\n",
       "      <th>critic_score</th>\n",
       "      <th>user_score</th>\n",
       "      <th>rating</th>\n",
       "    </tr>\n",
       "  </thead>\n",
       "  <tbody>\n",
       "    <tr>\n",
       "      <th>1</th>\n",
       "      <td>Super Mario Bros.</td>\n",
       "      <td>NES</td>\n",
       "      <td>1985</td>\n",
       "      <td>Platform</td>\n",
       "      <td>29.08</td>\n",
       "      <td>3.58</td>\n",
       "      <td>6.81</td>\n",
       "      <td>0.77</td>\n",
       "      <td>NaN</td>\n",
       "      <td>NaN</td>\n",
       "      <td>NaN</td>\n",
       "    </tr>\n",
       "    <tr>\n",
       "      <th>4</th>\n",
       "      <td>Pokemon Red/Pokemon Blue</td>\n",
       "      <td>GB</td>\n",
       "      <td>1996</td>\n",
       "      <td>Role-Playing</td>\n",
       "      <td>11.27</td>\n",
       "      <td>8.89</td>\n",
       "      <td>10.22</td>\n",
       "      <td>1.00</td>\n",
       "      <td>NaN</td>\n",
       "      <td>NaN</td>\n",
       "      <td>NaN</td>\n",
       "    </tr>\n",
       "    <tr>\n",
       "      <th>5</th>\n",
       "      <td>Tetris</td>\n",
       "      <td>GB</td>\n",
       "      <td>1989</td>\n",
       "      <td>Puzzle</td>\n",
       "      <td>23.20</td>\n",
       "      <td>2.26</td>\n",
       "      <td>4.22</td>\n",
       "      <td>0.58</td>\n",
       "      <td>NaN</td>\n",
       "      <td>NaN</td>\n",
       "      <td>NaN</td>\n",
       "    </tr>\n",
       "    <tr>\n",
       "      <th>9</th>\n",
       "      <td>Duck Hunt</td>\n",
       "      <td>NES</td>\n",
       "      <td>1984</td>\n",
       "      <td>Shooter</td>\n",
       "      <td>26.93</td>\n",
       "      <td>0.63</td>\n",
       "      <td>0.28</td>\n",
       "      <td>0.47</td>\n",
       "      <td>NaN</td>\n",
       "      <td>NaN</td>\n",
       "      <td>NaN</td>\n",
       "    </tr>\n",
       "    <tr>\n",
       "      <th>10</th>\n",
       "      <td>Nintendogs</td>\n",
       "      <td>DS</td>\n",
       "      <td>2005</td>\n",
       "      <td>Simulation</td>\n",
       "      <td>9.05</td>\n",
       "      <td>10.95</td>\n",
       "      <td>1.93</td>\n",
       "      <td>2.74</td>\n",
       "      <td>NaN</td>\n",
       "      <td>NaN</td>\n",
       "      <td>NaN</td>\n",
       "    </tr>\n",
       "    <tr>\n",
       "      <th>...</th>\n",
       "      <td>...</td>\n",
       "      <td>...</td>\n",
       "      <td>...</td>\n",
       "      <td>...</td>\n",
       "      <td>...</td>\n",
       "      <td>...</td>\n",
       "      <td>...</td>\n",
       "      <td>...</td>\n",
       "      <td>...</td>\n",
       "      <td>...</td>\n",
       "      <td>...</td>\n",
       "    </tr>\n",
       "    <tr>\n",
       "      <th>16710</th>\n",
       "      <td>Samurai Warriors: Sanada Maru</td>\n",
       "      <td>PS3</td>\n",
       "      <td>2016</td>\n",
       "      <td>Action</td>\n",
       "      <td>0.00</td>\n",
       "      <td>0.00</td>\n",
       "      <td>0.01</td>\n",
       "      <td>0.00</td>\n",
       "      <td>NaN</td>\n",
       "      <td>NaN</td>\n",
       "      <td>NaN</td>\n",
       "    </tr>\n",
       "    <tr>\n",
       "      <th>16711</th>\n",
       "      <td>LMA Manager 2007</td>\n",
       "      <td>X360</td>\n",
       "      <td>2006</td>\n",
       "      <td>Sports</td>\n",
       "      <td>0.00</td>\n",
       "      <td>0.01</td>\n",
       "      <td>0.00</td>\n",
       "      <td>0.00</td>\n",
       "      <td>NaN</td>\n",
       "      <td>NaN</td>\n",
       "      <td>NaN</td>\n",
       "    </tr>\n",
       "    <tr>\n",
       "      <th>16712</th>\n",
       "      <td>Haitaka no Psychedelica</td>\n",
       "      <td>PSV</td>\n",
       "      <td>2016</td>\n",
       "      <td>Adventure</td>\n",
       "      <td>0.00</td>\n",
       "      <td>0.00</td>\n",
       "      <td>0.01</td>\n",
       "      <td>0.00</td>\n",
       "      <td>NaN</td>\n",
       "      <td>NaN</td>\n",
       "      <td>NaN</td>\n",
       "    </tr>\n",
       "    <tr>\n",
       "      <th>16713</th>\n",
       "      <td>Spirits &amp; Spells</td>\n",
       "      <td>GBA</td>\n",
       "      <td>2003</td>\n",
       "      <td>Platform</td>\n",
       "      <td>0.01</td>\n",
       "      <td>0.00</td>\n",
       "      <td>0.00</td>\n",
       "      <td>0.00</td>\n",
       "      <td>NaN</td>\n",
       "      <td>NaN</td>\n",
       "      <td>NaN</td>\n",
       "    </tr>\n",
       "    <tr>\n",
       "      <th>16714</th>\n",
       "      <td>Winning Post 8 2016</td>\n",
       "      <td>PSV</td>\n",
       "      <td>2016</td>\n",
       "      <td>Simulation</td>\n",
       "      <td>0.00</td>\n",
       "      <td>0.00</td>\n",
       "      <td>0.01</td>\n",
       "      <td>0.00</td>\n",
       "      <td>NaN</td>\n",
       "      <td>NaN</td>\n",
       "      <td>NaN</td>\n",
       "    </tr>\n",
       "  </tbody>\n",
       "</table>\n",
       "<p>8003 rows × 11 columns</p>\n",
       "</div>"
      ],
      "text/plain": [
       "                                name platform  year_of_release         genre  \\\n",
       "1                  Super Mario Bros.      NES             1985      Platform   \n",
       "4           Pokemon Red/Pokemon Blue       GB             1996  Role-Playing   \n",
       "5                             Tetris       GB             1989        Puzzle   \n",
       "9                          Duck Hunt      NES             1984       Shooter   \n",
       "10                        Nintendogs       DS             2005    Simulation   \n",
       "...                              ...      ...              ...           ...   \n",
       "16710  Samurai Warriors: Sanada Maru      PS3             2016        Action   \n",
       "16711               LMA Manager 2007     X360             2006        Sports   \n",
       "16712        Haitaka no Psychedelica      PSV             2016     Adventure   \n",
       "16713               Spirits & Spells      GBA             2003      Platform   \n",
       "16714            Winning Post 8 2016      PSV             2016    Simulation   \n",
       "\n",
       "       na_sales  eu_sales  jp_sales  other_sales  critic_score  user_score  \\\n",
       "1         29.08      3.58      6.81         0.77           NaN         NaN   \n",
       "4         11.27      8.89     10.22         1.00           NaN         NaN   \n",
       "5         23.20      2.26      4.22         0.58           NaN         NaN   \n",
       "9         26.93      0.63      0.28         0.47           NaN         NaN   \n",
       "10         9.05     10.95      1.93         2.74           NaN         NaN   \n",
       "...         ...       ...       ...          ...           ...         ...   \n",
       "16710      0.00      0.00      0.01         0.00           NaN         NaN   \n",
       "16711      0.00      0.01      0.00         0.00           NaN         NaN   \n",
       "16712      0.00      0.00      0.01         0.00           NaN         NaN   \n",
       "16713      0.01      0.00      0.00         0.00           NaN         NaN   \n",
       "16714      0.00      0.00      0.01         0.00           NaN         NaN   \n",
       "\n",
       "      rating  \n",
       "1        NaN  \n",
       "4        NaN  \n",
       "5        NaN  \n",
       "9        NaN  \n",
       "10       NaN  \n",
       "...      ...  \n",
       "16710    NaN  \n",
       "16711    NaN  \n",
       "16712    NaN  \n",
       "16713    NaN  \n",
       "16714    NaN  \n",
       "\n",
       "[8003 rows x 11 columns]"
      ]
     },
     "execution_count": 21,
     "metadata": {},
     "output_type": "execute_result"
    }
   ],
   "source": [
    "df.loc[(df['critic_score'].isna()) & (df['user_score'].isna())]"
   ]
  },
  {
   "cell_type": "markdown",
   "metadata": {},
   "source": [
    "Most of `user_score` missing values are missing in `critic_score` too.\n",
    "\n",
    "**Fill missing values strategy:**\n",
    "\n",
    "|number of missing values|`critic_score`|`user_score`|\n",
    "| --                     | -- |            --        |\n",
    "|8003                    | missing    |   missing    |\n",
    "| 1122                   | have values|   missing    |\n",
    "|575                     | missing    | have values  |\n",
    "\n",
    "1. Check coefficient between `critic_score` and `user_score`, if they have positive correlation, I can use one to predict the other.\n",
    "\n",
    "2. For both scores are missing, I'll check the coefficient between scores and sales, if they have positive correlation, I can use sales to predict scores."
   ]
  },
  {
   "cell_type": "code",
   "execution_count": 22,
   "metadata": {},
   "outputs": [
    {
     "data": {
      "image/png": "[encoded data removed]",
      "text/plain": [
       "<Figure size 432x288 with 1 Axes>"
      ]
     },
     "metadata": {
      "needs_background": "light"
     },
     "output_type": "display_data"
    },
    {
     "name": "stdout",
     "output_type": "stream",
     "text": [
      "0.06031311046276153 2.945443122296556 0.5808778320767237 0.0 0.0010090961671206803\n"
     ]
    }
   ],
   "source": [
    "sub_table = df.dropna(subset=['critic_score', 'user_score'])\n",
    "sub_table.plot.scatter(x='critic_score', y='user_score')\n",
    "plt.show()\n",
    "slope, intercept, r_value, p_value, std_err = stats.linregress(sub_table['critic_score'], sub_table['user_score'])\n",
    "print(slope, intercept, r_value, p_value, std_err)"
   ]
  },
  {
   "cell_type": "markdown",
   "metadata": {},
   "source": [
    "We can find that there is positive correlation between `critic_score` and `user_score`, \n",
    "\n",
    "* Slope: 0.06\n",
    "* Intercept: 2.945\n",
    "* the Pearson coefficience is 0.58\n",
    "* the p-value is 0 < 0.05.\n",
    "* std: 0.001"
   ]
  },
  {
   "cell_type": "markdown",
   "metadata": {},
   "source": [
    "I'll complement the missing values in one column based on the given values in the other column. "
   ]
  },
  {
   "cell_type": "markdown",
   "metadata": {},
   "source": [
    "* Complement "
   ]
  },
  {
   "cell_type": "code",
   "execution_count": 23,
   "metadata": {},
   "outputs": [],
   "source": [
    "missing_in_critic_score_df = df[(df['critic_score'].isna()) & ~(df['user_score'].isna())]\n",
    "missing_in_user_score_df = df[~(df['critic_score'].isna()) & (df['user_score'].isna())]"
   ]
  },
  {
   "cell_type": "code",
   "execution_count": 24,
   "metadata": {},
   "outputs": [
    {
     "name": "stderr",
     "output_type": "stream",
     "text": [
      "/opt/conda/lib/python3.9/site-packages/pandas/core/indexing.py:1676: SettingWithCopyWarning: \n",
      "A value is trying to be set on a copy of a slice from a DataFrame.\n",
      "Try using .loc[row_indexer,col_indexer] = value instead\n",
      "\n",
      "See the caveats in the documentation: https://pandas.pydata.org/pandas-docs/stable/user_guide/indexing.html#returning-a-view-versus-a-copy\n",
      "  self._setitem_single_column(ilocs[0], value, pi)\n",
      "/opt/conda/lib/python3.9/site-packages/pandas/core/indexing.py:1676: SettingWithCopyWarning: \n",
      "A value is trying to be set on a copy of a slice from a DataFrame.\n",
      "Try using .loc[row_indexer,col_indexer] = value instead\n",
      "\n",
      "See the caveats in the documentation: https://pandas.pydata.org/pandas-docs/stable/user_guide/indexing.html#returning-a-view-versus-a-copy\n",
      "  self._setitem_single_column(ilocs[0], value, pi)\n"
     ]
    }
   ],
   "source": [
    "def complement_missing_values(df, fillered_df, x, y):\n",
    "    \"\"\"\n",
    "    This function will caculate the linear relationship between two columns, and predict the missing values in one column\n",
    "    based on given values in the other column\n",
    "    1. Get the slope and intercept from linear formula\n",
    "    2. Get the residuals and its std\n",
    "    3. fill missing values in y\n",
    "    \"\"\"\n",
    "    sub_table = df.dropna(subset=['critic_score', 'user_score'])\n",
    "    sub_table.loc[:, 'user_score'] = sub_table['user_score'].apply(lambda x: float(x))\n",
    "    fillered_df.loc[:, x] = fillered_df[x].astype('float')\n",
    "    # 1. Get the slope and intercept from linear formula\n",
    "    slope, intercept, r_value, p_value, std_err = stats.linregress(sub_table[x], sub_table[y])\n",
    "    # 2. Get the residuals and its std\n",
    "    score_residuals = sub_table[y] - (slope * sub_table[x] + intercept)\n",
    "    std_dev = np.std(score_residuals)\n",
    "    # 3. fill missing values in y\n",
    "    fillered_df.loc[:, y] = round(slope * fillered_df[x] + intercept + np.random.normal(scale=std_dev), 1)\n",
    "    return fillered_df\n",
    "\n",
    "complemented_user_score = complement_missing_values(df, missing_in_user_score_df, x='critic_score', y='user_score')\n",
    "complemented_critic_score = complement_missing_values(df, missing_in_critic_score_df, x='user_score', y='critic_score')\n",
    "#complemented_critic_score"
   ]
  },
  {
   "cell_type": "code",
   "execution_count": 25,
   "metadata": {},
   "outputs": [
    {
     "data": {
      "text/html": [
       "<div>\n",
       "<style scoped>\n",
       "    .dataframe tbody tr th:only-of-type {\n",
       "        vertical-align: middle;\n",
       "    }\n",
       "\n",
       "    .dataframe tbody tr th {\n",
       "        vertical-align: top;\n",
       "    }\n",
       "\n",
       "    .dataframe thead th {\n",
       "        text-align: right;\n",
       "    }\n",
       "</style>\n",
       "<table border=\"1\" class=\"dataframe\">\n",
       "  <thead>\n",
       "    <tr style=\"text-align: right;\">\n",
       "      <th></th>\n",
       "      <th>name</th>\n",
       "      <th>platform</th>\n",
       "      <th>year_of_release</th>\n",
       "      <th>genre</th>\n",
       "      <th>na_sales</th>\n",
       "      <th>eu_sales</th>\n",
       "      <th>jp_sales</th>\n",
       "      <th>other_sales</th>\n",
       "      <th>critic_score</th>\n",
       "      <th>user_score</th>\n",
       "      <th>rating</th>\n",
       "    </tr>\n",
       "  </thead>\n",
       "  <tbody>\n",
       "    <tr>\n",
       "      <th>255</th>\n",
       "      <td>Call of Duty: Advanced Warfare</td>\n",
       "      <td>PS3</td>\n",
       "      <td>2014</td>\n",
       "      <td>Shooter</td>\n",
       "      <td>1.56</td>\n",
       "      <td>1.93</td>\n",
       "      <td>0.19</td>\n",
       "      <td>0.68</td>\n",
       "      <td>53.9</td>\n",
       "      <td>4.8</td>\n",
       "      <td>M</td>\n",
       "    </tr>\n",
       "    <tr>\n",
       "      <th>263</th>\n",
       "      <td>Call of Duty: Advanced Warfare</td>\n",
       "      <td>X360</td>\n",
       "      <td>2014</td>\n",
       "      <td>Shooter</td>\n",
       "      <td>2.77</td>\n",
       "      <td>1.11</td>\n",
       "      <td>0.00</td>\n",
       "      <td>0.40</td>\n",
       "      <td>54.5</td>\n",
       "      <td>4.9</td>\n",
       "      <td>M</td>\n",
       "    </tr>\n",
       "    <tr>\n",
       "      <th>264</th>\n",
       "      <td>FIFA 15</td>\n",
       "      <td>PS3</td>\n",
       "      <td>2014</td>\n",
       "      <td>Sports</td>\n",
       "      <td>0.58</td>\n",
       "      <td>3.02</td>\n",
       "      <td>0.04</td>\n",
       "      <td>0.64</td>\n",
       "      <td>52.2</td>\n",
       "      <td>4.5</td>\n",
       "      <td>E</td>\n",
       "    </tr>\n",
       "    <tr>\n",
       "      <th>291</th>\n",
       "      <td>World Soccer Winning Eleven 9</td>\n",
       "      <td>PS2</td>\n",
       "      <td>2005</td>\n",
       "      <td>Sports</td>\n",
       "      <td>0.12</td>\n",
       "      <td>2.26</td>\n",
       "      <td>0.90</td>\n",
       "      <td>0.77</td>\n",
       "      <td>72.9</td>\n",
       "      <td>8.2</td>\n",
       "      <td>E</td>\n",
       "    </tr>\n",
       "    <tr>\n",
       "      <th>359</th>\n",
       "      <td>Just Dance 2014</td>\n",
       "      <td>Wii</td>\n",
       "      <td>2013</td>\n",
       "      <td>Misc</td>\n",
       "      <td>1.88</td>\n",
       "      <td>1.39</td>\n",
       "      <td>0.00</td>\n",
       "      <td>0.31</td>\n",
       "      <td>61.7</td>\n",
       "      <td>6.2</td>\n",
       "      <td>E10+</td>\n",
       "    </tr>\n",
       "  </tbody>\n",
       "</table>\n",
       "</div>"
      ],
      "text/plain": [
       "                               name platform  year_of_release    genre  \\\n",
       "255  Call of Duty: Advanced Warfare      PS3             2014  Shooter   \n",
       "263  Call of Duty: Advanced Warfare     X360             2014  Shooter   \n",
       "264                         FIFA 15      PS3             2014   Sports   \n",
       "291   World Soccer Winning Eleven 9      PS2             2005   Sports   \n",
       "359                 Just Dance 2014      Wii             2013     Misc   \n",
       "\n",
       "     na_sales  eu_sales  jp_sales  other_sales  critic_score  user_score  \\\n",
       "255      1.56      1.93      0.19         0.68          53.9         4.8   \n",
       "263      2.77      1.11      0.00         0.40          54.5         4.9   \n",
       "264      0.58      3.02      0.04         0.64          52.2         4.5   \n",
       "291      0.12      2.26      0.90         0.77          72.9         8.2   \n",
       "359      1.88      1.39      0.00         0.31          61.7         6.2   \n",
       "\n",
       "    rating  \n",
       "255      M  \n",
       "263      M  \n",
       "264      E  \n",
       "291      E  \n",
       "359   E10+  "
      ]
     },
     "execution_count": 25,
     "metadata": {},
     "output_type": "execute_result"
    }
   ],
   "source": [
    "complemented_critic_score.head()"
   ]
  },
  {
   "cell_type": "code",
   "execution_count": 26,
   "metadata": {},
   "outputs": [],
   "source": [
    "# Complement\n",
    "def complement_missing_values(df, complemented_df, column):\n",
    "    for index in complemented_df.index:\n",
    "        df.loc[index, column] = complemented_df.loc[index, column]\n",
    "\n",
    "complement_missing_values(df, complemented_critic_score, 'critic_score')\n",
    "complement_missing_values(df, complemented_user_score, 'user_score')"
   ]
  },
  {
   "cell_type": "markdown",
   "metadata": {},
   "source": [
    "Not let's address the missing values in both `critic_score` and `user_score` columns.\n",
    "\n",
    "First I will create a new column to average the `critic_score` and `user_score`."
   ]
  },
  {
   "cell_type": "code",
   "execution_count": 27,
   "metadata": {},
   "outputs": [
    {
     "data": {
      "text/html": [
       "<div>\n",
       "<style scoped>\n",
       "    .dataframe tbody tr th:only-of-type {\n",
       "        vertical-align: middle;\n",
       "    }\n",
       "\n",
       "    .dataframe tbody tr th {\n",
       "        vertical-align: top;\n",
       "    }\n",
       "\n",
       "    .dataframe thead th {\n",
       "        text-align: right;\n",
       "    }\n",
       "</style>\n",
       "<table border=\"1\" class=\"dataframe\">\n",
       "  <thead>\n",
       "    <tr style=\"text-align: right;\">\n",
       "      <th></th>\n",
       "      <th>name</th>\n",
       "      <th>platform</th>\n",
       "      <th>year_of_release</th>\n",
       "      <th>genre</th>\n",
       "      <th>na_sales</th>\n",
       "      <th>eu_sales</th>\n",
       "      <th>jp_sales</th>\n",
       "      <th>other_sales</th>\n",
       "      <th>critic_score</th>\n",
       "      <th>user_score</th>\n",
       "      <th>rating</th>\n",
       "      <th>avg_score</th>\n",
       "    </tr>\n",
       "  </thead>\n",
       "  <tbody>\n",
       "    <tr>\n",
       "      <th>0</th>\n",
       "      <td>Wii Sports</td>\n",
       "      <td>Wii</td>\n",
       "      <td>2006</td>\n",
       "      <td>Sports</td>\n",
       "      <td>41.36</td>\n",
       "      <td>28.96</td>\n",
       "      <td>3.77</td>\n",
       "      <td>8.45</td>\n",
       "      <td>76.0</td>\n",
       "      <td>8.0</td>\n",
       "      <td>E</td>\n",
       "      <td>78.0</td>\n",
       "    </tr>\n",
       "    <tr>\n",
       "      <th>1</th>\n",
       "      <td>Super Mario Bros.</td>\n",
       "      <td>NES</td>\n",
       "      <td>1985</td>\n",
       "      <td>Platform</td>\n",
       "      <td>29.08</td>\n",
       "      <td>3.58</td>\n",
       "      <td>6.81</td>\n",
       "      <td>0.77</td>\n",
       "      <td>NaN</td>\n",
       "      <td>NaN</td>\n",
       "      <td>NaN</td>\n",
       "      <td>NaN</td>\n",
       "    </tr>\n",
       "    <tr>\n",
       "      <th>2</th>\n",
       "      <td>Mario Kart Wii</td>\n",
       "      <td>Wii</td>\n",
       "      <td>2008</td>\n",
       "      <td>Racing</td>\n",
       "      <td>15.68</td>\n",
       "      <td>12.76</td>\n",
       "      <td>3.79</td>\n",
       "      <td>3.29</td>\n",
       "      <td>82.0</td>\n",
       "      <td>8.3</td>\n",
       "      <td>E</td>\n",
       "      <td>82.5</td>\n",
       "    </tr>\n",
       "    <tr>\n",
       "      <th>3</th>\n",
       "      <td>Wii Sports Resort</td>\n",
       "      <td>Wii</td>\n",
       "      <td>2009</td>\n",
       "      <td>Sports</td>\n",
       "      <td>15.61</td>\n",
       "      <td>10.93</td>\n",
       "      <td>3.28</td>\n",
       "      <td>2.95</td>\n",
       "      <td>80.0</td>\n",
       "      <td>8.0</td>\n",
       "      <td>E</td>\n",
       "      <td>80.0</td>\n",
       "    </tr>\n",
       "    <tr>\n",
       "      <th>4</th>\n",
       "      <td>Pokemon Red/Pokemon Blue</td>\n",
       "      <td>GB</td>\n",
       "      <td>1996</td>\n",
       "      <td>Role-Playing</td>\n",
       "      <td>11.27</td>\n",
       "      <td>8.89</td>\n",
       "      <td>10.22</td>\n",
       "      <td>1.00</td>\n",
       "      <td>NaN</td>\n",
       "      <td>NaN</td>\n",
       "      <td>NaN</td>\n",
       "      <td>NaN</td>\n",
       "    </tr>\n",
       "  </tbody>\n",
       "</table>\n",
       "</div>"
      ],
      "text/plain": [
       "                       name platform  year_of_release         genre  na_sales  \\\n",
       "0                Wii Sports      Wii             2006        Sports     41.36   \n",
       "1         Super Mario Bros.      NES             1985      Platform     29.08   \n",
       "2            Mario Kart Wii      Wii             2008        Racing     15.68   \n",
       "3         Wii Sports Resort      Wii             2009        Sports     15.61   \n",
       "4  Pokemon Red/Pokemon Blue       GB             1996  Role-Playing     11.27   \n",
       "\n",
       "   eu_sales  jp_sales  other_sales  critic_score  user_score rating  avg_score  \n",
       "0     28.96      3.77         8.45          76.0         8.0      E       78.0  \n",
       "1      3.58      6.81         0.77           NaN         NaN    NaN        NaN  \n",
       "2     12.76      3.79         3.29          82.0         8.3      E       82.5  \n",
       "3     10.93      3.28         2.95          80.0         8.0      E       80.0  \n",
       "4      8.89     10.22         1.00           NaN         NaN    NaN        NaN  "
      ]
     },
     "execution_count": 27,
     "metadata": {},
     "output_type": "execute_result"
    }
   ],
   "source": [
    "def avg_score(row):\n",
    "    try:\n",
    "        return (row['critic_score'] + row['user_score'] * 10) / 2\n",
    "    except:\n",
    "        return np.nan\n",
    "\n",
    "df['avg_score'] = df.apply(avg_score, axis=1)\n",
    "df.head()"
   ]
  },
  {
   "cell_type": "markdown",
   "metadata": {},
   "source": [
    "Then I will find the relationship between sales in four regions and `avg_score`"
   ]
  },
  {
   "cell_type": "code",
   "execution_count": 28,
   "metadata": {},
   "outputs": [
    {
     "data": {
      "text/plain": [
       "na_sales       0.161240\n",
       "eu_sales       0.133187\n",
       "jp_sales       0.141334\n",
       "other_sales    0.122476\n",
       "dtype: float64"
      ]
     },
     "execution_count": 28,
     "metadata": {},
     "output_type": "execute_result"
    }
   ],
   "source": [
    "df[['na_sales', 'eu_sales', 'jp_sales', 'other_sales']].corrwith(df['avg_score'])"
   ]
  },
  {
   "cell_type": "code",
   "execution_count": 29,
   "metadata": {},
   "outputs": [
    {
     "data": {
      "image/png": "[encoded data removed]",
      "text/plain": [
       "<Figure size 432x288 with 2 Axes>"
      ]
     },
     "metadata": {
      "needs_background": "light"
     },
     "output_type": "display_data"
    }
   ],
   "source": [
    "correlation_matrix = df[['na_sales', 'eu_sales', 'jp_sales', 'other_sales', 'avg_score']].corr()\n",
    "sns.heatmap(correlation_matrix, annot=True, cmap='coolwarm')\n",
    "plt.show()"
   ]
  },
  {
   "cell_type": "markdown",
   "metadata": {},
   "source": [
    "There are less relationship between `avg_score` and sales in four regions, I don't think it's a good idea to predict the `avg_score` using sales values."
   ]
  },
  {
   "cell_type": "code",
   "execution_count": 30,
   "metadata": {},
   "outputs": [
    {
     "name": "stdout",
     "output_type": "stream",
     "text": [
      "(8003, 12) (8710, 12)\n"
     ]
    }
   ],
   "source": [
    "missing_score_df = df.loc[(df['critic_score'].isna()) & (df['user_score'].isna())]\n",
    "scored_df = df.loc[~((df['critic_score'].isna()) & (df['user_score'].isna()))]\n",
    "print(missing_score_df.shape, scored_df.shape)"
   ]
  },
  {
   "cell_type": "code",
   "execution_count": 31,
   "metadata": {},
   "outputs": [
    {
     "data": {
      "image/png": "[encoded data removed]",
      "text/plain": [
       "<Figure size 1152x288 with 2 Axes>"
      ]
     },
     "metadata": {
      "needs_background": "light"
     },
     "output_type": "display_data"
    }
   ],
   "source": [
    "fig, axes = plt.subplots(1, 2, figsize=(16, 4))\n",
    "# Distribution of released year\n",
    "sns.histplot(missing_score_df['year_of_release'], bins=40, label='Missing Score', color='yellow', kde=False, ax=axes[0])\n",
    "sns.histplot(scored_df['year_of_release'], bins=40, label='Scored', alpha=0.5, kde=False, ax=axes[0])\n",
    "\n",
    "# Distribution of sales\n",
    "sns.histplot(missing_score_df['na_sales']+missing_score_df['eu_sales']+missing_score_df['jp_sales']+missing_score_df['other_sales'],\n",
    "             bins=400, label='Missing Score', color='yellow', kde=False, ax=axes[1])\n",
    "sns.histplot(scored_df['na_sales']+scored_df['eu_sales']+scored_df['jp_sales']+scored_df['other_sales'],\n",
    "             bins=400, label='Scored', alpha=0.5, kde=False, ax=axes[1])\n",
    "\n",
    "axes[0].set_title('Year of release between missing scores and scored')\n",
    "axes[1].set_title('Sum of sales between missing scores and scored')\n",
    "axes[1].set_xlim(0, 4)\n",
    "axes[0].legend()\n",
    "axes[1].legend()\n",
    "\n",
    "\n",
    "plt.show()"
   ]
  },
  {
   "cell_type": "markdown",
   "metadata": {},
   "source": [
    "I compared the tables with and without scores. We can find that most of games with scores are after 2000, whereas most of games before 2000 don't have scores. Furthermore, around 2000 was the time when the Internet became popular in the world. \n",
    "\n",
    "Therefore one of main reasons why there are so many missing scores is many games were released before 2000, and it don't have enough channels to collect user and critic scores.\n",
    "\n",
    "I thought that maybe some games are not popular enough so no players want to score them. So I tried to compare the sum of sales of games. But I found the sales of 80% of games with and without scores are less than 0.5, It's hard to tell the difference.\n",
    "\n",
    "I'll leave these missing values right now. If they affact subsequent analysis, I'll address it then."
   ]
  },
  {
   "cell_type": "markdown",
   "metadata": {},
   "source": [
    "<div class=\"alert alert-block alert-warning\">\n",
    "<b>Reviewer's comment</b> <a class=\"tocSkip\"></a>\n",
    "\n",
    "You did a great job filling the gaps. But such a significant proportion of gaps can hardly be correctly restored from the available values.\n",
    "</div>"
   ]
  },
  {
   "cell_type": "markdown",
   "metadata": {},
   "source": [
    "#### `genre`"
   ]
  },
  {
   "cell_type": "code",
   "execution_count": 32,
   "metadata": {},
   "outputs": [
    {
     "data": {
      "text/plain": [
       "array(['Sports', 'Platform', 'Racing', 'Role-Playing', 'Puzzle', 'Misc',\n",
       "       'Shooter', 'Simulation', 'Action', 'Fighting', 'Adventure',\n",
       "       'Strategy'], dtype=object)"
      ]
     },
     "execution_count": 32,
     "metadata": {},
     "output_type": "execute_result"
    }
   ],
   "source": [
    "df['genre'].unique()"
   ]
  },
  {
   "cell_type": "markdown",
   "metadata": {},
   "source": [
    "The missing values of `genre` has been deleted during clearning the `name` column."
   ]
  },
  {
   "cell_type": "markdown",
   "metadata": {},
   "source": [
    "Let's have a look at the proportion of each class."
   ]
  },
  {
   "cell_type": "code",
   "execution_count": 33,
   "metadata": {},
   "outputs": [
    {
     "data": {
      "image/png": "[encoded data removed]",
      "text/plain": [
       "<Figure size 432x288 with 1 Axes>"
      ]
     },
     "metadata": {},
     "output_type": "display_data"
    }
   ],
   "source": [
    "df.groupby('genre').count()['name'].plot(kind='pie', title='Proportion of each genre of game')\n",
    "plt.show()"
   ]
  },
  {
   "cell_type": "markdown",
   "metadata": {},
   "source": [
    "Looking at all the yearly spans in the dataframe, there are 12 kinds of genre, and they divide the share evenly except 'Action' and 'Sports' have slightly higher proportion."
   ]
  },
  {
   "cell_type": "code",
   "execution_count": 34,
   "metadata": {},
   "outputs": [
    {
     "data": {
      "text/plain": [
       "year_of_release  genre       \n",
       "1977             Action           1\n",
       "                 Shooter          1\n",
       "1978             Action           1\n",
       "                 Puzzle           1\n",
       "                 Shooter          4\n",
       "                                 ..\n",
       "2016             Role-Playing    54\n",
       "                 Shooter         47\n",
       "                 Simulation      18\n",
       "                 Sports          51\n",
       "                 Strategy        14\n",
       "Name: name, Length: 397, dtype: int64"
      ]
     },
     "execution_count": 34,
     "metadata": {},
     "output_type": "execute_result"
    }
   ],
   "source": [
    "df.groupby(['year_of_release', 'genre']).count()['name']"
   ]
  },
  {
   "cell_type": "code",
   "execution_count": 35,
   "metadata": {},
   "outputs": [],
   "source": [
    "#fig = px.histogram(df.groupby(['year_of_release', 'genre']).count()['name'], x='year_of_release', nbins=30, color='genre', barmode='overlay')"
   ]
  },
  {
   "cell_type": "markdown",
   "metadata": {},
   "source": [
    "#### `na_sales`, `eu_sales`, `jp_sales`, `other_sales`"
   ]
  },
  {
   "cell_type": "markdown",
   "metadata": {},
   "source": [
    "for calcualting with other features, I will add a column to record the sum of these four regions"
   ]
  },
  {
   "cell_type": "code",
   "execution_count": 36,
   "metadata": {},
   "outputs": [
    {
     "data": {
      "text/html": [
       "<div>\n",
       "<style scoped>\n",
       "    .dataframe tbody tr th:only-of-type {\n",
       "        vertical-align: middle;\n",
       "    }\n",
       "\n",
       "    .dataframe tbody tr th {\n",
       "        vertical-align: top;\n",
       "    }\n",
       "\n",
       "    .dataframe thead th {\n",
       "        text-align: right;\n",
       "    }\n",
       "</style>\n",
       "<table border=\"1\" class=\"dataframe\">\n",
       "  <thead>\n",
       "    <tr style=\"text-align: right;\">\n",
       "      <th></th>\n",
       "      <th>name</th>\n",
       "      <th>platform</th>\n",
       "      <th>year_of_release</th>\n",
       "      <th>genre</th>\n",
       "      <th>na_sales</th>\n",
       "      <th>eu_sales</th>\n",
       "      <th>jp_sales</th>\n",
       "      <th>other_sales</th>\n",
       "      <th>critic_score</th>\n",
       "      <th>user_score</th>\n",
       "      <th>rating</th>\n",
       "      <th>avg_score</th>\n",
       "      <th>sum_sales</th>\n",
       "    </tr>\n",
       "  </thead>\n",
       "  <tbody>\n",
       "    <tr>\n",
       "      <th>0</th>\n",
       "      <td>Wii Sports</td>\n",
       "      <td>Wii</td>\n",
       "      <td>2006</td>\n",
       "      <td>Sports</td>\n",
       "      <td>41.36</td>\n",
       "      <td>28.96</td>\n",
       "      <td>3.77</td>\n",
       "      <td>8.45</td>\n",
       "      <td>76.0</td>\n",
       "      <td>8.0</td>\n",
       "      <td>E</td>\n",
       "      <td>78.0</td>\n",
       "      <td>82.54</td>\n",
       "    </tr>\n",
       "    <tr>\n",
       "      <th>1</th>\n",
       "      <td>Super Mario Bros.</td>\n",
       "      <td>NES</td>\n",
       "      <td>1985</td>\n",
       "      <td>Platform</td>\n",
       "      <td>29.08</td>\n",
       "      <td>3.58</td>\n",
       "      <td>6.81</td>\n",
       "      <td>0.77</td>\n",
       "      <td>NaN</td>\n",
       "      <td>NaN</td>\n",
       "      <td>NaN</td>\n",
       "      <td>NaN</td>\n",
       "      <td>40.24</td>\n",
       "    </tr>\n",
       "    <tr>\n",
       "      <th>2</th>\n",
       "      <td>Mario Kart Wii</td>\n",
       "      <td>Wii</td>\n",
       "      <td>2008</td>\n",
       "      <td>Racing</td>\n",
       "      <td>15.68</td>\n",
       "      <td>12.76</td>\n",
       "      <td>3.79</td>\n",
       "      <td>3.29</td>\n",
       "      <td>82.0</td>\n",
       "      <td>8.3</td>\n",
       "      <td>E</td>\n",
       "      <td>82.5</td>\n",
       "      <td>35.52</td>\n",
       "    </tr>\n",
       "    <tr>\n",
       "      <th>3</th>\n",
       "      <td>Wii Sports Resort</td>\n",
       "      <td>Wii</td>\n",
       "      <td>2009</td>\n",
       "      <td>Sports</td>\n",
       "      <td>15.61</td>\n",
       "      <td>10.93</td>\n",
       "      <td>3.28</td>\n",
       "      <td>2.95</td>\n",
       "      <td>80.0</td>\n",
       "      <td>8.0</td>\n",
       "      <td>E</td>\n",
       "      <td>80.0</td>\n",
       "      <td>32.77</td>\n",
       "    </tr>\n",
       "    <tr>\n",
       "      <th>4</th>\n",
       "      <td>Pokemon Red/Pokemon Blue</td>\n",
       "      <td>GB</td>\n",
       "      <td>1996</td>\n",
       "      <td>Role-Playing</td>\n",
       "      <td>11.27</td>\n",
       "      <td>8.89</td>\n",
       "      <td>10.22</td>\n",
       "      <td>1.00</td>\n",
       "      <td>NaN</td>\n",
       "      <td>NaN</td>\n",
       "      <td>NaN</td>\n",
       "      <td>NaN</td>\n",
       "      <td>31.38</td>\n",
       "    </tr>\n",
       "  </tbody>\n",
       "</table>\n",
       "</div>"
      ],
      "text/plain": [
       "                       name platform  year_of_release         genre  na_sales  \\\n",
       "0                Wii Sports      Wii             2006        Sports     41.36   \n",
       "1         Super Mario Bros.      NES             1985      Platform     29.08   \n",
       "2            Mario Kart Wii      Wii             2008        Racing     15.68   \n",
       "3         Wii Sports Resort      Wii             2009        Sports     15.61   \n",
       "4  Pokemon Red/Pokemon Blue       GB             1996  Role-Playing     11.27   \n",
       "\n",
       "   eu_sales  jp_sales  other_sales  critic_score  user_score rating  \\\n",
       "0     28.96      3.77         8.45          76.0         8.0      E   \n",
       "1      3.58      6.81         0.77           NaN         NaN    NaN   \n",
       "2     12.76      3.79         3.29          82.0         8.3      E   \n",
       "3     10.93      3.28         2.95          80.0         8.0      E   \n",
       "4      8.89     10.22         1.00           NaN         NaN    NaN   \n",
       "\n",
       "   avg_score  sum_sales  \n",
       "0       78.0      82.54  \n",
       "1        NaN      40.24  \n",
       "2       82.5      35.52  \n",
       "3       80.0      32.77  \n",
       "4        NaN      31.38  "
      ]
     },
     "execution_count": 36,
     "metadata": {},
     "output_type": "execute_result"
    }
   ],
   "source": [
    "df['sum_sales'] = df['na_sales'] + df['eu_sales'] + df['jp_sales'] + df['other_sales']\n",
    "df.head()"
   ]
  },
  {
   "cell_type": "markdown",
   "metadata": {},
   "source": [
    "#### `rating`"
   ]
  },
  {
   "cell_type": "code",
   "execution_count": 37,
   "metadata": {},
   "outputs": [
    {
     "data": {
      "text/plain": [
       "array(['E', nan, 'M', 'T', 'E10+', 'K-A', 'AO', 'EC', 'RP'], dtype=object)"
      ]
     },
     "execution_count": 37,
     "metadata": {},
     "output_type": "execute_result"
    }
   ],
   "source": [
    "df['rating'].unique()"
   ]
  },
  {
   "cell_type": "markdown",
   "metadata": {},
   "source": [
    "![image](data:image/png;base64,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)\n",
    "\n",
    "* EC: Early Childhood\n",
    "* E: Everyone (E)\n",
    "* E10+: Everyone 10+ (E10+)\n",
    "* T: Teen (T)\n",
    "* M: Mature 17+\n",
    "* AO: Adults Only 18+ (AO)\n",
    "* RP: Rating Pending (RP)"
   ]
  },
  {
   "cell_type": "markdown",
   "metadata": {},
   "source": [
    "<div class=\"alert alert-block alert-success\">\n",
    "<b>Reviewer's comment</b> <a class=\"tocSkip\"></a>\n",
    "\n",
    "Thanks for the additional information =)\n",
    "</div>"
   ]
  },
  {
   "cell_type": "markdown",
   "metadata": {},
   "source": [
    "##### Missing values"
   ]
  },
  {
   "cell_type": "code",
   "execution_count": 38,
   "metadata": {},
   "outputs": [
    {
     "data": {
      "text/plain": [
       "6764"
      ]
     },
     "execution_count": 38,
     "metadata": {},
     "output_type": "execute_result"
    }
   ],
   "source": [
    "df['rating'].isna().sum()"
   ]
  },
  {
   "cell_type": "code",
   "execution_count": 39,
   "metadata": {},
   "outputs": [],
   "source": [
    "missing_rating_df = df[df['rating'].isna()]\n",
    "rating_df = df[~df['rating'].isna()]"
   ]
  },
  {
   "cell_type": "code",
   "execution_count": 40,
   "metadata": {},
   "outputs": [
    {
     "data": {
      "image/png": "[encoded data removed]",
      "text/plain": [
       "<Figure size 432x288 with 1 Axes>"
      ]
     },
     "metadata": {
      "needs_background": "light"
     },
     "output_type": "display_data"
    }
   ],
   "source": [
    "ax1 = missing_rating_df['year_of_release'].plot(kind='hist', bins=40, title='Comparation of released years between with and without rating')\n",
    "ax2 = rating_df['year_of_release'].plot(kind='hist', alpha=0.5, bins=40)"
   ]
  },
  {
   "cell_type": "markdown",
   "metadata": {},
   "source": [
    "Similar to `critic_score` and `user_score`, the ESRB rating was introduced around 1995 - 2000. The missing values of `rating` highly conincide with missing values in score columns."
   ]
  },
  {
   "cell_type": "markdown",
   "metadata": {},
   "source": [
    "I will compare sales in four regions with and without rating."
   ]
  },
  {
   "cell_type": "code",
   "execution_count": 41,
   "metadata": {
    "scrolled": false
   },
   "outputs": [
    {
     "data": {
      "image/png": "[encoded data removed]",
      "text/plain": [
       "<Figure size 720x360 with 1 Axes>"
      ]
     },
     "metadata": {
      "needs_background": "light"
     },
     "output_type": "display_data"
    }
   ],
   "source": [
    "fig, ax = plt.subplots(figsize=(10, 5))\n",
    "box1 = ax.boxplot(missing_rating_df[['na_sales', 'eu_sales', 'jp_sales', 'other_sales']], positions=[1, 2, 3, 4], widths=0.6)\n",
    "box2 = ax.boxplot(rating_df[['na_sales', 'eu_sales', 'jp_sales', 'other_sales']], positions=[7, 8, 9, 10], widths=0.6)\n",
    "\n",
    "ax.set_xticks([2.5, 8.5])\n",
    "ax.set_xticklabels(['Missing Rating', 'With Rating'])\n",
    "ax.set_ylim(0, 1)\n",
    "plt.title('Boxplot Comparison')\n",
    "plt.ylabel('Values')\n",
    "\n",
    "# add label\n",
    "labels = ['na_sales', 'eu_sales', 'jp_sales', 'other_sales']\n",
    "for i, box in enumerate([box1, box2]):\n",
    "    for j, line in enumerate(box['medians']):\n",
    "        x = box['medians'][j].get_xdata()[0]\n",
    "        y = box['medians'][j].get_ydata()[0]\n",
    "        ax.text(x, y, labels[j], ha='center', va='bottom')\n",
    "\n",
    "plt.show()\n"
   ]
  },
  {
   "cell_type": "markdown",
   "metadata": {},
   "source": [
    "There are interesting facts\n",
    "\n",
    "1. In the missing rating group, the distribution of `jp_sale` is consistent with `na_sales`, and more than `eu_sales` and `other_sales`.\n",
    "\n",
    "2. In the group with rating, the `na_sale`, `eu_sale` and `other_sales` have significantly increase, while the `jp_sales` almost drops to 0. "
   ]
  },
  {
   "cell_type": "markdown",
   "metadata": {},
   "source": [
    "At last, I'll fill missing values in `genre` column to 'Unknown'"
   ]
  },
  {
   "cell_type": "code",
   "execution_count": 42,
   "metadata": {},
   "outputs": [],
   "source": [
    "df['rating'].fillna('UNKNOWN', inplace=True)"
   ]
  },
  {
   "cell_type": "markdown",
   "metadata": {},
   "source": [
    "<div class=\"alert alert-block alert-success\">\n",
    "<b>Reviewer's comment</b> <a class=\"tocSkip\"></a>\n",
    "\n",
    "Correct.\n",
    "</div>"
   ]
  },
  {
   "cell_type": "markdown",
   "metadata": {},
   "source": [
    "## Analyze the data"
   ]
  },
  {
   "cell_type": "markdown",
   "metadata": {},
   "source": [
    "### `games` vs `year`\n",
    "\n",
    "How many games are released each year?"
   ]
  },
  {
   "cell_type": "code",
   "execution_count": 43,
   "metadata": {},
   "outputs": [
    {
     "data": {
      "text/plain": [
       "year_of_release\n",
       "1977       2\n",
       "1978       6\n",
       "1979       2\n",
       "1980      15\n",
       "1981      46\n",
       "1982      37\n",
       "1983      17\n",
       "1984      15\n",
       "1985      14\n",
       "1986      21\n",
       "1987      18\n",
       "1988      15\n",
       "1989      19\n",
       "1990      16\n",
       "1991      44\n",
       "1992      48\n",
       "1993      60\n",
       "1994     120\n",
       "1995     220\n",
       "1996     264\n",
       "1997     291\n",
       "1998     379\n",
       "1999     341\n",
       "2000     355\n",
       "2001     488\n",
       "2002     849\n",
       "2003     783\n",
       "2004     769\n",
       "2005     952\n",
       "2006    1019\n",
       "2007    1208\n",
       "2008    1445\n",
       "2009    1433\n",
       "2010    1275\n",
       "2011    1158\n",
       "2012     655\n",
       "2013     547\n",
       "2014     652\n",
       "2015     609\n",
       "2016     506\n",
       "Name: name, dtype: int64"
      ]
     },
     "execution_count": 43,
     "metadata": {},
     "output_type": "execute_result"
    }
   ],
   "source": [
    "df.groupby('year_of_release').count()['name']"
   ]
  },
  {
   "cell_type": "code",
   "execution_count": 44,
   "metadata": {},
   "outputs": [
    {
     "data": {
      "image/png": "[encoded data removed]",
      "text/plain": [
       "<Figure size 720x288 with 1 Axes>"
      ]
     },
     "metadata": {
      "needs_background": "light"
     },
     "output_type": "display_data"
    }
   ],
   "source": [
    "df['year_of_release'].plot(kind='hist', bins=40, figsize=(10,4), title='Distribution of game released by years')\n",
    "plt.show()"
   ]
  },
  {
   "cell_type": "markdown",
   "metadata": {},
   "source": [
    "We can conclude that there are four periods of games be released. \n",
    "\n",
    "1. 1978 - 1990. The dawn of games. There are 15 - 20 games every year.\n",
    "2. 1990 - 2001. The number of yearly released games is increasing from 44 in 1991 to 488 in 2001.\n",
    "3. 2002 - 2011. The Peak of games. The number of yearly released games jumps up to 700, and in the year of 2008 and 2009, the number becomes to peak which is more than 1400.\n",
    "4. 2012 - 2016. There is an obvious drop down. The yearly released games decreases to 500 - 600. I think the reason is the mobile games are more and more popular."
   ]
  },
  {
   "cell_type": "markdown",
   "metadata": {},
   "source": [
    "### Sales between platforms\n",
    "\n",
    "#### Sales by platforms\n",
    "\n",
    "Look at how sales varied from platform to platform. "
   ]
  },
  {
   "cell_type": "code",
   "execution_count": 45,
   "metadata": {},
   "outputs": [
    {
     "data": {
      "text/plain": [
       "platform\n",
       "PS2     1255.77\n",
       "X360     971.42\n",
       "PS3      939.65\n",
       "Wii      907.51\n",
       "DS       806.12\n",
       "PS       730.86\n",
       "GBA      317.85\n",
       "PS4      314.14\n",
       "PSP      294.05\n",
       "PC       259.52\n",
       "3DS      259.00\n",
       "XB       257.74\n",
       "GB       255.46\n",
       "NES      251.05\n",
       "N64      218.68\n",
       "SNES     200.04\n",
       "GC       198.93\n",
       "XOne     159.32\n",
       "2600      96.98\n",
       "WiiU      82.19\n",
       "PSV       54.07\n",
       "SAT       33.59\n",
       "GEN       28.35\n",
       "DC        15.95\n",
       "SCD        1.86\n",
       "NG         1.44\n",
       "WS         1.42\n",
       "TG16       0.16\n",
       "3DO        0.10\n",
       "GG         0.04\n",
       "PCFX       0.03\n",
       "Name: sum_sales, dtype: float64"
      ]
     },
     "execution_count": 45,
     "metadata": {},
     "output_type": "execute_result"
    }
   ],
   "source": [
    "df.groupby('platform')['sum_sales'].sum().sort_values(ascending=False)"
   ]
  },
  {
   "cell_type": "markdown",
   "metadata": {},
   "source": [
    "The top popular platforms are 'PS2', 'X360', 'PS3', 'Wii', 'DS', 'PS', but some new generation platforms such as 'PS4', 'WiiU' are not listed in due to their total sales don't accumulate so many years."
   ]
  },
  {
   "cell_type": "markdown",
   "metadata": {},
   "source": [
    "#### Top 6 platforms\n",
    "\n",
    "I pick the top 6 platforms with the greatest total sales and build a distribution based on data for each year. "
   ]
  },
  {
   "cell_type": "code",
   "execution_count": 46,
   "metadata": {},
   "outputs": [
    {
     "data": {
      "image/png": "[encoded data removed]",
      "text/plain": [
       "<Figure size 720x288 with 1 Axes>"
      ]
     },
     "metadata": {
      "needs_background": "light"
     },
     "output_type": "display_data"
    }
   ],
   "source": [
    "popular_platforms = ['PS2', 'X360', 'PS3', 'Wii', 'DS', 'PS']\n",
    "popular_platforms_df = df[df['platform'].isin(popular_platforms)]\n",
    "\n",
    "plt.figure(figsize=(10, 4))\n",
    "sns.histplot(data=popular_platforms_df, x='year_of_release', hue='platform', multiple='stack', bins=40)\n",
    "\n",
    "# 创建自定义图例\n",
    "legend_labels = ['PS2', 'X360', 'PS3', 'Wii', 'DS', 'PS']\n",
    "legend_elements = [plt.Rectangle((0, 0), 1, 1, color=sns.color_palette()[i]) for i in range(len(legend_labels))]\n",
    "plt.legend(legend_elements, legend_labels, title='Platform')\n",
    "\n",
    "plt.title('Distribution of games released on most popular platforms by years')\n",
    "plt.xlabel('Year of Release')\n",
    "plt.ylabel('Count')\n",
    "plt.show()"
   ]
  },
  {
   "cell_type": "markdown",
   "metadata": {},
   "source": [
    "We can see that nearly all most popular platforms are gone at the year of 2016 except 'Wii'. Typically, a platfrom appears and an old one fade off takes about 10 years."
   ]
  },
  {
   "cell_type": "markdown",
   "metadata": {},
   "source": [
    "#### Determine the  period\n",
    "\n",
    "To analyze and predict the sales of 2017, we only care about the platforms which still release games in recent 5 years."
   ]
  },
  {
   "cell_type": "code",
   "execution_count": 47,
   "metadata": {},
   "outputs": [],
   "source": [
    "valid_df = df[df['year_of_release'] > 2011]"
   ]
  },
  {
   "cell_type": "markdown",
   "metadata": {},
   "source": [
    "<div class=\"alert alert-block alert-warning\">\n",
    "<b>Reviewer's comment</b> <a class=\"tocSkip\"></a>\n",
    "\n",
    "It is uncommon to use data for more than 2-3 years when forecasting next year's sales, even in case of traditional businesses. And in the dynamic computer games industry, taking longer time intervals should be avoided as it will definitely lead to tracking some obsolete trends. But you shouldn't take too short a period either.\n",
    "</div>"
   ]
  },
  {
   "cell_type": "markdown",
   "metadata": {},
   "source": [
    "##### The progress of platforms\n"
   ]
  },
  {
   "cell_type": "code",
   "execution_count": 48,
   "metadata": {},
   "outputs": [
    {
     "data": {
      "text/plain": [
       "platform\n",
       "PS4     314.14\n",
       "PS3     291.63\n",
       "X360    239.55\n",
       "3DS     194.92\n",
       "XOne    159.32\n",
       "WiiU     82.19\n",
       "PC       63.96\n",
       "PSV      48.68\n",
       "Wii      36.65\n",
       "DS       13.57\n",
       "PSP      12.47\n",
       "PS2       1.49\n",
       "2600      1.17\n",
       "GBA       0.82\n",
       "PS        0.13\n",
       "XB        0.03\n",
       "Name: sum_sales, dtype: float64"
      ]
     },
     "execution_count": 48,
     "metadata": {},
     "output_type": "execute_result"
    }
   ],
   "source": [
    "valid_df.groupby(\"platform\")['sum_sales'].sum().sort_values(ascending=False)"
   ]
  },
  {
   "cell_type": "code",
   "execution_count": 49,
   "metadata": {},
   "outputs": [
    {
     "data": {
      "text/html": [
       "<div>\n",
       "<style scoped>\n",
       "    .dataframe tbody tr th:only-of-type {\n",
       "        vertical-align: middle;\n",
       "    }\n",
       "\n",
       "    .dataframe tbody tr th {\n",
       "        vertical-align: top;\n",
       "    }\n",
       "\n",
       "    .dataframe thead th {\n",
       "        text-align: right;\n",
       "    }\n",
       "</style>\n",
       "<table border=\"1\" class=\"dataframe\">\n",
       "  <thead>\n",
       "    <tr style=\"text-align: right;\">\n",
       "      <th>platform</th>\n",
       "      <th>year_of_release</th>\n",
       "      <th>2600</th>\n",
       "      <th>3DS</th>\n",
       "      <th>DS</th>\n",
       "      <th>GBA</th>\n",
       "      <th>PC</th>\n",
       "      <th>PS</th>\n",
       "      <th>PS2</th>\n",
       "      <th>PS3</th>\n",
       "      <th>PS4</th>\n",
       "      <th>PSP</th>\n",
       "      <th>PSV</th>\n",
       "      <th>Wii</th>\n",
       "      <th>WiiU</th>\n",
       "      <th>X360</th>\n",
       "      <th>XB</th>\n",
       "      <th>XOne</th>\n",
       "    </tr>\n",
       "  </thead>\n",
       "  <tbody>\n",
       "    <tr>\n",
       "      <th>0</th>\n",
       "      <td>2012</td>\n",
       "      <td>0.15</td>\n",
       "      <td>51.36</td>\n",
       "      <td>11.01</td>\n",
       "      <td>0.00</td>\n",
       "      <td>23.23</td>\n",
       "      <td>0.00</td>\n",
       "      <td>0.00</td>\n",
       "      <td>107.36</td>\n",
       "      <td>0.00</td>\n",
       "      <td>7.69</td>\n",
       "      <td>16.02</td>\n",
       "      <td>21.71</td>\n",
       "      <td>17.56</td>\n",
       "      <td>99.81</td>\n",
       "      <td>0.00</td>\n",
       "      <td>0.00</td>\n",
       "    </tr>\n",
       "    <tr>\n",
       "      <th>1</th>\n",
       "      <td>2013</td>\n",
       "      <td>0.00</td>\n",
       "      <td>56.57</td>\n",
       "      <td>1.54</td>\n",
       "      <td>0.00</td>\n",
       "      <td>12.57</td>\n",
       "      <td>0.00</td>\n",
       "      <td>0.00</td>\n",
       "      <td>114.38</td>\n",
       "      <td>25.99</td>\n",
       "      <td>3.14</td>\n",
       "      <td>10.26</td>\n",
       "      <td>8.59</td>\n",
       "      <td>21.65</td>\n",
       "      <td>89.70</td>\n",
       "      <td>0.00</td>\n",
       "      <td>18.96</td>\n",
       "    </tr>\n",
       "    <tr>\n",
       "      <th>2</th>\n",
       "      <td>2014</td>\n",
       "      <td>1.02</td>\n",
       "      <td>44.07</td>\n",
       "      <td>1.02</td>\n",
       "      <td>0.82</td>\n",
       "      <td>14.29</td>\n",
       "      <td>0.13</td>\n",
       "      <td>1.49</td>\n",
       "      <td>49.15</td>\n",
       "      <td>100.00</td>\n",
       "      <td>1.52</td>\n",
       "      <td>11.90</td>\n",
       "      <td>5.03</td>\n",
       "      <td>22.03</td>\n",
       "      <td>36.24</td>\n",
       "      <td>0.03</td>\n",
       "      <td>54.07</td>\n",
       "    </tr>\n",
       "    <tr>\n",
       "      <th>3</th>\n",
       "      <td>2015</td>\n",
       "      <td>0.00</td>\n",
       "      <td>27.78</td>\n",
       "      <td>0.00</td>\n",
       "      <td>0.00</td>\n",
       "      <td>8.53</td>\n",
       "      <td>0.00</td>\n",
       "      <td>0.00</td>\n",
       "      <td>16.89</td>\n",
       "      <td>118.90</td>\n",
       "      <td>0.12</td>\n",
       "      <td>6.25</td>\n",
       "      <td>1.14</td>\n",
       "      <td>16.35</td>\n",
       "      <td>11.97</td>\n",
       "      <td>0.00</td>\n",
       "      <td>60.14</td>\n",
       "    </tr>\n",
       "    <tr>\n",
       "      <th>4</th>\n",
       "      <td>2016</td>\n",
       "      <td>0.00</td>\n",
       "      <td>15.14</td>\n",
       "      <td>0.00</td>\n",
       "      <td>0.00</td>\n",
       "      <td>5.34</td>\n",
       "      <td>0.00</td>\n",
       "      <td>0.00</td>\n",
       "      <td>3.85</td>\n",
       "      <td>69.25</td>\n",
       "      <td>0.00</td>\n",
       "      <td>4.25</td>\n",
       "      <td>0.18</td>\n",
       "      <td>4.60</td>\n",
       "      <td>1.83</td>\n",
       "      <td>0.00</td>\n",
       "      <td>26.15</td>\n",
       "    </tr>\n",
       "  </tbody>\n",
       "</table>\n",
       "</div>"
      ],
      "text/plain": [
       "platform  year_of_release  2600    3DS     DS   GBA     PC    PS   PS2  \\\n",
       "0                    2012  0.15  51.36  11.01  0.00  23.23  0.00  0.00   \n",
       "1                    2013  0.00  56.57   1.54  0.00  12.57  0.00  0.00   \n",
       "2                    2014  1.02  44.07   1.02  0.82  14.29  0.13  1.49   \n",
       "3                    2015  0.00  27.78   0.00  0.00   8.53  0.00  0.00   \n",
       "4                    2016  0.00  15.14   0.00  0.00   5.34  0.00  0.00   \n",
       "\n",
       "platform     PS3     PS4   PSP    PSV    Wii   WiiU   X360    XB   XOne  \n",
       "0         107.36    0.00  7.69  16.02  21.71  17.56  99.81  0.00   0.00  \n",
       "1         114.38   25.99  3.14  10.26   8.59  21.65  89.70  0.00  18.96  \n",
       "2          49.15  100.00  1.52  11.90   5.03  22.03  36.24  0.03  54.07  \n",
       "3          16.89  118.90  0.12   6.25   1.14  16.35  11.97  0.00  60.14  \n",
       "4           3.85   69.25  0.00   4.25   0.18   4.60   1.83  0.00  26.15  "
      ]
     },
     "execution_count": 49,
     "metadata": {},
     "output_type": "execute_result"
    }
   ],
   "source": [
    "pd.pivot_table(valid_df, index='year_of_release', columns='platform', values='sum_sales', aggfunc='sum', fill_value=0).reset_index()"
   ]
  },
  {
   "cell_type": "code",
   "execution_count": 50,
   "metadata": {},
   "outputs": [
    {
     "data": {
      "image/png": "[encoded data removed]",
      "text/plain": [
       "<Figure size 720x360 with 1 Axes>"
      ]
     },
     "metadata": {
      "needs_background": "light"
     },
     "output_type": "display_data"
    }
   ],
   "source": [
    "sales_by_platform = pd.pivot_table(valid_df, index='year_of_release', columns='platform', values='sum_sales', aggfunc='sum', fill_value=0).reset_index()\n",
    "column_dict = sales_by_platform.iloc[:, 1:].to_dict('series')\n",
    "fig, ax = plt.subplots(figsize=(10, 5))\n",
    "ax.stackplot(sales_by_platform['year_of_release'], column_dict.values(), labels=column_dict.keys(), alpha=0.8)\n",
    "ax.legend(loc='upper right')\n",
    "ax.set_title(\"Sales by years\")\n",
    "ax.set_xticks(sales_by_platform['year_of_release'])\n",
    "ax.set_xlabel(\"Year\")\n",
    "plt.show()"
   ]
  },
  {
   "cell_type": "markdown",
   "metadata": {},
   "source": [
    "We can conclude that the platforms of 'PS3', 'PS4' and 'X360' are leading sales in 5 years.\n",
    "\n",
    "* Growing platforms: 'PS4'\n",
    "* Shrinking platforms: '3DS', 'PS3', 'X360', 'XOne'\n",
    "\n",
    "According to the stackplot, I'd like to choose '3DS', 'PS4', 'XOne' as the most important platforms. I'll choose 'PC', 'WiiU' and 'PSV' too, although the their proportions are very low, they still have stable sales throught out these years. \n",
    "\n",
    "For the platforms of 'PS3', '2600' and others, their proportions shrink very much even gone. Therefore I won't consider them."
   ]
  },
  {
   "cell_type": "code",
   "execution_count": 51,
   "metadata": {},
   "outputs": [
    {
     "data": {
      "text/plain": [
       "(2710, 13)"
      ]
     },
     "execution_count": 51,
     "metadata": {},
     "output_type": "execute_result"
    }
   ],
   "source": [
    "valid_list = [ '3DS', 'PS4', 'XOne','PC', 'WiiU', 'PSV']\n",
    "valid_df = df[df['platform'].isin(valid_list)]\n",
    "valid_df.shape"
   ]
  },
  {
   "cell_type": "markdown",
   "metadata": {},
   "source": [
    "<div class=\"alert alert-block alert-success\">\n",
    "<b>Reviewer's comment</b> <a class=\"tocSkip\"></a>\n",
    "\n",
    "Nice graph.\n",
    "</div>"
   ]
  },
  {
   "cell_type": "markdown",
   "metadata": {},
   "source": [
    "#### Global sales by platform\n"
   ]
  },
  {
   "cell_type": "code",
   "execution_count": 52,
   "metadata": {},
   "outputs": [
    {
     "data": {
      "image/png": "[encoded data removed]",
      "text/plain": [
       "<Figure size 1080x288 with 1 Axes>"
      ]
     },
     "metadata": {
      "needs_background": "light"
     },
     "output_type": "display_data"
    }
   ],
   "source": [
    "ax = valid_df.boxplot(column='sum_sales', by='platform', figsize=(15, 4))\n",
    "ax.set_ylim(0, 2)\n",
    "\n",
    "# calculate means of each platform\n",
    "platform_means = valid_df.groupby('platform')['sum_sales'].mean()\n",
    "# get position of each bpx\n",
    "positions = range(0, len(platform_means))\n",
    "\n",
    "# add hline for each box\n",
    "for platform, mean, pos in zip(platform_means.index, platform_means.values, positions):\n",
    "    plt.axhline(mean, color='red', linestyle='--', xmin=0.04+pos*0.165, xmax=0.13+pos*0.165)\n",
    "    ax.text(pos + 1, mean+0.05, f'Mean ({platform}: {mean:.2f})', ha='center', va='bottom', color='red')\n",
    "\n",
    "\n",
    "plt.show()"
   ]
  },
  {
   "cell_type": "markdown",
   "metadata": {},
   "source": [
    "All platforms have many outliers, I truncate them and limit the y-axis (sales) to 2.00. \n",
    "\n",
    "From the boxplot we can see the platform 'PS4' has the widest body. For the means of platforms, \"PS4\" has the highest mean values. The platforms of '3DS', 'WiiU' and 'XOne' have similar mean values which lower than 'PS4'."
   ]
  },
  {
   "cell_type": "markdown",
   "metadata": {},
   "source": [
    "<div class=\"alert alert-block alert-success\">\n",
    "<b>Reviewer's comment</b> <a class=\"tocSkip\"></a>\n",
    "\n",
    "Wow! Very good boxplots.\n",
    "</div>"
   ]
  },
  {
   "cell_type": "markdown",
   "metadata": {},
   "source": [
    "#### 'reviews' vs 'platforms'\n",
    "\n",
    "I'll check how user and professional reviews affect sales for 'PS4' "
   ]
  },
  {
   "cell_type": "code",
   "execution_count": 53,
   "metadata": {},
   "outputs": [
    {
     "data": {
      "image/png": "[encoded data removed]",
      "text/plain": [
       "<Figure size 1152x288 with 2 Axes>"
      ]
     },
     "metadata": {
      "needs_background": "light"
     },
     "output_type": "display_data"
    }
   ],
   "source": [
    "ps4_df = valid_df[valid_df['platform']=='PS4']\n",
    "fig, axes = plt.subplots(1, 2, figsize=(16, 4))\n",
    "\n",
    "ps4_df.plot.scatter(x='critic_score', y='sum_sales', ax=axes[0])\n",
    "ps4_df.plot.scatter(x='user_score', y='sum_sales', ax=axes[1])\n",
    "\n",
    "axes[0].set_title('sum_sales vs critic_score')\n",
    "axes[1].set_title('sum_sales vs user_score')\n",
    "\n",
    "plt.show()                  "
   ]
  },
  {
   "cell_type": "code",
   "execution_count": 54,
   "metadata": {},
   "outputs": [
    {
     "name": "stdout",
     "output_type": "stream",
     "text": [
      "The correlation between `sum_sales` and `critic_score` is 0.409,\n",
      "The correlation between `sum_sales` and `user_score` is -0.041\n"
     ]
    }
   ],
   "source": [
    "print(f\"The correlation between `sum_sales` and `critic_score` is {ps4_df['sum_sales'].corr(ps4_df['critic_score']):.3f},\\n\"\n",
    "     f\"The correlation between `sum_sales` and `user_score` is {ps4_df['sum_sales'].corr(ps4_df['user_score']):.3f}\")"
   ]
  },
  {
   "cell_type": "markdown",
   "metadata": {},
   "source": [
    "We can conclude from the scatter plots and the coorelation that \n",
    "1. `sum_sales` and `critic_score` have weak coorelationship.\n",
    "2. `sum_sales` and `user_score` don't have coorelationship."
   ]
  },
  {
   "cell_type": "markdown",
   "metadata": {},
   "source": [
    "#### Compare the sales of the same games on other platforms."
   ]
  },
  {
   "cell_type": "code",
   "execution_count": 55,
   "metadata": {
    "scrolled": true
   },
   "outputs": [
    {
     "data": {
      "image/png": "[encoded data removed]",
      "text/plain": [
       "<Figure size 1152x288 with 2 Axes>"
      ]
     },
     "metadata": {
      "needs_background": "light"
     },
     "output_type": "display_data"
    }
   ],
   "source": [
    "other_df = valid_df[~(valid_df['platform']=='PS4')]\n",
    "fig, axes = plt.subplots(1, 2, figsize=(16, 4))\n",
    "\n",
    "other_df.plot.scatter(x='critic_score', y='sum_sales', ax=axes[0])\n",
    "other_df.plot.scatter(x='user_score', y='sum_sales', ax=axes[1])\n",
    "\n",
    "axes[0].set_title('sum_sales vs critic_score')\n",
    "axes[1].set_title('sum_sales vs user_score')\n",
    "\n",
    "plt.show()   "
   ]
  },
  {
   "cell_type": "code",
   "execution_count": 56,
   "metadata": {},
   "outputs": [
    {
     "name": "stdout",
     "output_type": "stream",
     "text": [
      "The correlation between `sum_sales` and `critic_score` is 0.237,\n",
      "The correlation between `sum_sales` and `user_score` is 0.043\n"
     ]
    }
   ],
   "source": [
    "print(f\"The correlation between `sum_sales` and `critic_score` is {other_df['sum_sales'].corr(other_df['critic_score']):.3f},\\n\"\n",
    "     f\"The correlation between `sum_sales` and `user_score` is {other_df['sum_sales'].corr(other_df['user_score']):.3f}\")"
   ]
  },
  {
   "cell_type": "markdown",
   "metadata": {},
   "source": [
    "Similar to 'PS4', reviews and sales of games on other platforms don't have strong correlations.\n",
    "1. sum_sales and critic_score have weaker coorelationship than 'PS4'.\n",
    "2. sum_sales and user_score don't have coorelationship."
   ]
  },
  {
   "cell_type": "markdown",
   "metadata": {},
   "source": [
    "<div class=\"alert alert-block alert-success\">\n",
    "<b>Reviewer's comment</b> <a class=\"tocSkip\"></a>\n",
    "\n",
    "Good job.\n",
    "</div>"
   ]
  },
  {
   "cell_type": "markdown",
   "metadata": {},
   "source": [
    "#### Games by genre\n"
   ]
  },
  {
   "cell_type": "code",
   "execution_count": 57,
   "metadata": {
    "scrolled": true
   },
   "outputs": [
    {
     "data": {
      "image/png": "[encoded data removed]",
      "text/plain": [
       "<Figure size 432x288 with 1 Axes>"
      ]
     },
     "metadata": {
      "needs_background": "light"
     },
     "output_type": "display_data"
    }
   ],
   "source": [
    "valid_df.groupby('genre')['sum_sales'].sum().sort_values().plot(kind='bar', title='Sum sales by genre')\n",
    "plt.show()\n"
   ]
  },
  {
   "cell_type": "markdown",
   "metadata": {},
   "source": [
    "The most profitable genres are \"Action\", \"Shooter\", and \"Role-Playing\", they are more competitive. On the other hand, the genres of 'Puzzle', 'Adventrue' and 'Strategy' are more leisure with less pressure during playing, they have worst sales."
   ]
  },
  {
   "cell_type": "markdown",
   "metadata": {},
   "source": [
    "## Create a user profile for each region\n"
   ]
  },
  {
   "cell_type": "markdown",
   "metadata": {},
   "source": [
    "### Top five platforms for each region"
   ]
  },
  {
   "cell_type": "code",
   "execution_count": 58,
   "metadata": {},
   "outputs": [],
   "source": [
    "top5_platform_na = valid_df.groupby('platform')['na_sales'].sum().sort_values(ascending=False).reset_index()[:5]\n",
    "top5_platform_eu = valid_df.groupby('platform')['eu_sales'].sum().sort_values(ascending=False).reset_index()[:5]\n",
    "top5_platform_jp = valid_df.groupby('platform')['jp_sales'].sum().sort_values(ascending=False).reset_index()[:5]"
   ]
  },
  {
   "cell_type": "code",
   "execution_count": 59,
   "metadata": {},
   "outputs": [
    {
     "name": "stdout",
     "output_type": "stream",
     "text": [
      "\n",
      "The top 5 platforms in NA are ['PS4', 'PC', 'XOne', '3DS', 'WiiU']\n",
      "The top 5 platforms in EU are ['PC', 'PS4', '3DS', 'XOne', 'WiiU']\n",
      "The top 5 platforms in JP are ['3DS', 'PSV', 'PS4', 'WiiU', 'XOne']\n",
      "\n"
     ]
    }
   ],
   "source": [
    "print(f\"\"\"\n",
    "The top 5 platforms in NA are {top5_platform_na['platform'].tolist()}\n",
    "The top 5 platforms in EU are {top5_platform_eu['platform'].tolist()}\n",
    "The top 5 platforms in JP are {top5_platform_jp['platform'].tolist()}\n",
    "\"\"\")"
   ]
  },
  {
   "cell_type": "code",
   "execution_count": 60,
   "metadata": {},
   "outputs": [
    {
     "data": {
      "image/png": "[encoded data removed]",
      "text/plain": [
       "<Figure size 1152x288 with 3 Axes>"
      ]
     },
     "metadata": {},
     "output_type": "display_data"
    }
   ],
   "source": [
    "fig, axes = plt.subplots(1, 3, figsize=(16, 4))\n",
    "top5_platform_na.plot(kind='pie', y='na_sales', labels=top5_platform_na['platform'], autopct='%1.1f%%', legend=False, ax=axes[0])\n",
    "top5_platform_eu.plot(kind='pie', y='eu_sales', labels=top5_platform_eu['platform'], autopct='%1.1f%%', legend=False, ax=axes[1])\n",
    "top5_platform_jp.plot(kind='pie', y='jp_sales', labels=top5_platform_jp['platform'], autopct='%1.1f%%', legend=False, ax=axes[2])\n",
    "\n",
    "axes[0].set_title('NA Sales by Platform')\n",
    "axes[1].set_title('EU Sales by Platform')\n",
    "axes[2].set_title('JP Sales by Platform')\n",
    "plt.show()"
   ]
  },
  {
   "cell_type": "markdown",
   "metadata": {},
   "source": [
    "According to the pie charts above:\n",
    "* NA marketing: 'PS4' is the most popular platform with 26.0% proportion in sales. The platforms of 'PC', 'XOne' and '3DS' are similar, has a 20%-22% share each. The left 9.1% share is owned by \"WiiU\".\n",
    "* EU marketing: \"PC\" and \"PS4\" are the most popular platforms with 33% share each. \"3DS\", \"XOne\" and \"WiiU\" share the left. Additionally, NA and EU have same top 5 platforms.\n",
    "* JP marketing: \"3DS\" dominates the game marketing, it has 2/3 total sales. 'PSV', 'PS4' and 'WiiU' are less and less by one by. The smallest platform is 'XOne' which only take 0.2% share.\n",
    "\n",
    "In general, the top 5 platforms in NA and EU marketing are same. But 'PC' and \"PS4\" in EU marketing are stronger. In the other hand, in JP marketing, customers like portable games more, so '3DS' and 'PSV' dominate the game marketing."
   ]
  },
  {
   "cell_type": "markdown",
   "metadata": {},
   "source": [
    "### Top five genres for each region"
   ]
  },
  {
   "cell_type": "code",
   "execution_count": 61,
   "metadata": {},
   "outputs": [],
   "source": [
    "top5_genre_na = valid_df.groupby('genre')['na_sales'].sum().sort_values(ascending=False).reset_index()[:5]\n",
    "top5_genre_eu = valid_df.groupby('genre')['eu_sales'].sum().sort_values(ascending=False).reset_index()[:5]\n",
    "top5_genre_jp = valid_df.groupby('genre')['jp_sales'].sum().sort_values(ascending=False).reset_index()[:5]"
   ]
  },
  {
   "cell_type": "code",
   "execution_count": 62,
   "metadata": {},
   "outputs": [
    {
     "name": "stdout",
     "output_type": "stream",
     "text": [
      "\n",
      "The top 5 genre in NA are ['Action', 'Shooter', 'Role-Playing', 'Sports', 'Simulation']\n",
      "The top 5 genre in EU are ['Action', 'Shooter', 'Role-Playing', 'Sports', 'Simulation']\n",
      "The top 5 genre in JP are ['Role-Playing', 'Action', 'Platform', 'Misc', 'Simulation']\n",
      "\n"
     ]
    }
   ],
   "source": [
    "print(f\"\"\"\n",
    "The top 5 genre in NA are {top5_genre_na['genre'].tolist()}\n",
    "The top 5 genre in EU are {top5_genre_eu['genre'].tolist()}\n",
    "The top 5 genre in JP are {top5_genre_jp['genre'].tolist()}\n",
    "\"\"\")"
   ]
  },
  {
   "cell_type": "code",
   "execution_count": 63,
   "metadata": {},
   "outputs": [
    {
     "data": {
      "image/png": "[encoded data removed]",
      "text/plain": [
       "<Figure size 1152x288 with 3 Axes>"
      ]
     },
     "metadata": {},
     "output_type": "display_data"
    }
   ],
   "source": [
    "fig, axes = plt.subplots(1, 3, figsize=(16, 4))\n",
    "top5_genre_na.plot(kind='pie', y='na_sales', labels=top5_genre_na['genre'], autopct='%1.1f%%', legend=False, ax=axes[0])\n",
    "top5_genre_eu.plot(kind='pie', y='eu_sales', labels=top5_genre_eu['genre'], autopct='%1.1f%%', legend=False, ax=axes[1])\n",
    "top5_genre_jp.plot(kind='pie', y='jp_sales', labels=top5_genre_jp['genre'], autopct='%1.1f%%', legend=False, ax=axes[2])\n",
    "\n",
    "axes[0].set_title('NA Sales by genre')\n",
    "axes[1].set_title('EU Sales by genre')\n",
    "axes[2].set_title('JP Sales by genre')\n",
    "plt.show()"
   ]
  },
  {
   "cell_type": "markdown",
   "metadata": {},
   "source": [
    "The top 5 genres in both NA and EU marketing are same even proportions, they are 'Action', 'Shooter', 'Role-Playing', 'Sports' and 'Simulation'. The sum of 'Action' and 'Shooter' are more than half, and the other 3 genres share the left marketing.\n",
    "\n",
    "In JP marketing, 'Role-Playing' takes 44.2%, 'Action' takes 29.7%. The other 3 genres, 'Simulation', 'Misc', and 'Platform' take 8.7% each."
   ]
  },
  {
   "cell_type": "markdown",
   "metadata": {},
   "source": [
    "### Do ESRB ratings affect sales in individual regions?"
   ]
  },
  {
   "cell_type": "code",
   "execution_count": 64,
   "metadata": {},
   "outputs": [
    {
     "name": "stdout",
     "output_type": "stream",
     "text": [
      "\n",
      "The top 5 rating in NA are ['M', 'UNKNOWN', 'E', 'T', 'E10+']\n",
      "The top 5 rating in EU are ['M', 'UNKNOWN', 'E', 'T', 'E10+']\n",
      "The top 5 rating in JP are ['UNKNOWN', 'E', 'T', 'M', 'E10+']\n",
      "\n"
     ]
    }
   ],
   "source": [
    "top5_rating_na = valid_df.groupby('rating')['na_sales'].sum().sort_values(ascending=False).reset_index()[:5]\n",
    "top5_rating_eu = valid_df.groupby('rating')['eu_sales'].sum().sort_values(ascending=False).reset_index()[:5]\n",
    "top5_rating_jp = valid_df.groupby('rating')['jp_sales'].sum().sort_values(ascending=False).reset_index()[:5]\n",
    "print(f\"\"\"\n",
    "The top 5 rating in NA are {top5_rating_na['rating'].tolist()}\n",
    "The top 5 rating in EU are {top5_rating_eu['rating'].tolist()}\n",
    "The top 5 rating in JP are {top5_rating_jp['rating'].tolist()}\n",
    "\"\"\")"
   ]
  },
  {
   "cell_type": "code",
   "execution_count": 65,
   "metadata": {},
   "outputs": [
    {
     "data": {
      "image/png": "[encoded data removed]",
      "text/plain": [
       "<Figure size 1152x288 with 3 Axes>"
      ]
     },
     "metadata": {},
     "output_type": "display_data"
    }
   ],
   "source": [
    "fig, axes = plt.subplots(1, 3, figsize=(16, 4))\n",
    "top5_rating_na.plot(kind='pie', y='na_sales', labels=top5_rating_na['rating'], autopct='%1.1f%%', legend=False, ax=axes[0])\n",
    "top5_rating_eu.plot(kind='pie', y='eu_sales', labels=top5_rating_eu['rating'], autopct='%1.1f%%', legend=False, ax=axes[1])\n",
    "top5_rating_jp.plot(kind='pie', y='jp_sales', labels=top5_rating_jp['rating'], autopct='%1.1f%%', legend=False, ax=axes[2])\n",
    "\n",
    "axes[0].set_title('NA Sales by rating')\n",
    "axes[1].set_title('EU Sales by rating')\n",
    "axes[2].set_title('JP Sales by rating')\n",
    "plt.show()"
   ]
  },
  {
   "cell_type": "markdown",
   "metadata": {},
   "source": [
    "Similar to `genre` column, the NA and EU sales by rating are same. The top 5 ratings are 'M', 'UNKNOWN', 'E', 'T', and 'E10+'. \n",
    "\n",
    "In JP market, the sales with 'UNKNOWN' rating takes 57.8%, the 'E' rating taks 19.6%, and others are equal or less than 10% each. \n",
    "\n",
    "Sales of those without ratings are less likely affected in JP market."
   ]
  },
  {
   "cell_type": "markdown",
   "metadata": {},
   "source": [
    "<div class=\"alert alert-block alert-success\">\n",
    "<b>Reviewer's comment</b> <a class=\"tocSkip\"></a>\n",
    "\n",
    "Very good and clear graphs! Thank you for comparison and intresting facts!\n",
    "</div>"
   ]
  },
  {
   "cell_type": "markdown",
   "metadata": {},
   "source": [
    "## Test the following hypotheses:"
   ]
  },
  {
   "cell_type": "markdown",
   "metadata": {},
   "source": [
    "### Average user ratings of the Xbox One and PC platforms are the same.\n"
   ]
  },
  {
   "cell_type": "markdown",
   "metadata": {},
   "source": [
    "* Null Hypothesis $H_0$: The average user ratings of Xbox One and PC platforms are the same.\n",
    "* Alternative Hypothesis $H_1$: The average user ratings of Xbox One and PC platforms are different.\n",
    "* $\\alpha = 0.05%$: The reason I chose the significant level $\\alpha = 0.05%$ is not only it has been widely used to prove the significant difference in test between two groups, but also it can make a balance between Type I and II errors."
   ]
  },
  {
   "cell_type": "code",
   "execution_count": 66,
   "metadata": {},
   "outputs": [
    {
     "name": "stdout",
     "output_type": "stream",
     "text": [
      "p-value: 7.758336736189492e-06\n",
      "We reject the null hypothesis\n"
     ]
    }
   ],
   "source": [
    "user_score_XOne = valid_df[valid_df['platform'] == 'XOne']\n",
    "user_score_PC = valid_df[valid_df['platform'] == 'PC']\n",
    "alpha = 0.05\n",
    "results = stats.ttest_ind(user_score_XOne['user_score'].dropna(), user_score_PC['user_score'].dropna(), equal_var=False)\n",
    "print('p-value:', results.pvalue)\n",
    "\n",
    "if results.pvalue < alpha:\n",
    "    print(\"We reject the null hypothesis\")\n",
    "else:\n",
    "    print(\"We can't reject the null hypothesis\")\n"
   ]
  },
  {
   "cell_type": "markdown",
   "metadata": {},
   "source": [
    "### Average user ratings for the Action and Sports genres are different."
   ]
  },
  {
   "cell_type": "markdown",
   "metadata": {},
   "source": [
    "* Null Hypothesis $𝐻0$: The average user ratings of Xbox One and PC platforms are the same.\n",
    "* Alternative Hypothesis $𝐻1$: The average user ratings of Xbox One and PC platforms are different.\n",
    "* $\\alpha = 0.05$"
   ]
  },
  {
   "cell_type": "code",
   "execution_count": 69,
   "metadata": {},
   "outputs": [
    {
     "name": "stdout",
     "output_type": "stream",
     "text": [
      "p-value: 1.430331786680468e-08\n",
      "We reject the null hypothesis\n"
     ]
    }
   ],
   "source": [
    "user_score_Action = valid_df[valid_df['genre'] == 'Action']['user_score'].dropna()\n",
    "user_score_Sports = valid_df[valid_df['genre'] == 'Sports']['user_score'].dropna()\n",
    "alpha = 0.05\n",
    "results = stats.ttest_ind(user_score_Action, user_score_Sports, equal_var=False)\n",
    "print('p-value:', results.pvalue)\n",
    "\n",
    "if results.pvalue < alpha:\n",
    "    print(\"We reject the null hypothesis\")\n",
    "else:\n",
    "    print(\"We can't reject the null hypothesis\")"
   ]
  },
  {
   "cell_type": "markdown",
   "metadata": {},
   "source": [
    "<div class=\"alert alert-block alert-success\">\n",
    "<b>Reviewer's comment</b> <a class=\"tocSkip\"></a>\n",
    "\n",
    "Correct.\n",
    "</div>"
   ]
  },
  {
   "cell_type": "markdown",
   "metadata": {},
   "source": [
    "## Conclusion"
   ]
  },
  {
   "cell_type": "markdown",
   "metadata": {},
   "source": [
    "During preprocessing, the biggest problem is there are many missing values in `name` and two scores. I extracted some missing names from WikiPedia by a web crawler script. Then I found `user_score` and `critic_score` had positive correlation, so I predicted partial missing values for each other. But the missing values still happen in `user_score`, `critic_score` and `rating` columns at the same time. I couldn't fill them rationally, therefore I left them with 'NA' or 'Unknown'.\n",
    "\n",
    "Then I tried to analyze the relationship between columns.\n",
    "\n",
    "* **Years of release:** There are three stages throughout the numbers of video games: beginning, peak stage and slump stage. The same situation happened in game platforms, the life period of them is about 10 years. To analyze and predict sales in 2017, I only need to care about the top 6 platforms which still release games in recent 5 years.\n",
    "\n",
    "* **Platforms:** Among these 6 platforms, The 'PS4' has the greatest sale profits. For the means of platforms, \"PS4\" has the highest mean values. The platforms of '3DS', 'WiiU' and 'XOne' have similar mean values but less sales than 'PS4'.\n",
    "\n",
    "* **Reviews:** Perfessional reviews make weak positive effect to sales, but user reviews don't affect sales.\n",
    "\n",
    "* **Genres:** The most profitable genres are \"Action\", \"Shooter\", and \"Role-Playing\", they are more competitive. On the other hand, the genres of 'Puzzle', 'Adventrue' and 'Strategy' are more leisure with less pressure during playing, they have worst sales.\n",
    "\n",
    "* **Regions:** Game sales in North America and Europe are homogeneous, they have same top 5 platforms, genres and ESRB rating. However, popular platforms, genres and rating are different in Japan market. Players like portable platforms and less competitive games.\n",
    "\n",
    "At last I made two statistical inferences and proved the average user ratings of two platforms and two genres are different.\n",
    "\n",
    "**Suggestions for games sales in 2017:**\n",
    "\n",
    "In order to pursue potential profit, our stores should use different sale strategy in seperate marketing regions. \n",
    "\n",
    "In NA and EU regions, we need to give more marketing resources to \"PC\", \"PS4\", \"3DS\" and \"XOne\" platforms as well as 'Action', 'Shooter', 'Role-Playing', 'Sports' and 'Simulation' games.\n",
    "\n",
    "On the other hand, in JP market, we need to pay more attention on \"3DS\", 'PSV', 'PS4' and 'WiiU', as well as 'Role-Playing' and 'Action' games. Additionally, the ESRB rating doesn't make siginifant effect on JP market, we can sale games without ESRB rating.\n",
    "\n",
    "We still need to invite more professional reviews, since the critic scores will be helpful for game sales."
   ]
  },
  {
   "cell_type": "markdown",
   "metadata": {},
   "source": [
    "<div class=\"alert alert-block alert-success\">\n",
    "<b>Reviewer's comment</b> <a class=\"tocSkip\"></a>\n",
    "\n",
    "Great final conclusion!\n",
    "</div>"
   ]
  },
  {
   "cell_type": "markdown",
   "metadata": {},
   "source": [
    "<div class=\"alert alert-block alert-success\">\n",
    "<b>Overall reviewer's comment</b> <a class=\"tocSkip\"></a>\n",
    "\n",
    "Haoyuan, thank you for sending your project. You've done a really good job on it!\n",
    "    \n",
    "Especially impressed:\n",
    "\n",
    "- cool additional approaches/analysis\n",
    "    \n",
    "- deep detailed conclusions\n",
    "    \n",
    "- good graphs\n",
    "    \n",
    "- high code level\n",
    "\n",
    "- good project structure\n",
    "    \n",
    "    \n",
    "Thank you for in-depth analysis and logical conclusions!\n",
    "    \n",
    "I'm glad to say that your project has been accepted. Keep up the good work, and good luck on the next sprint!\n",
    "</div>"
   ]
  },
  {
   "cell_type": "code",
   "execution_count": null,
   "metadata": {},
   "outputs": [],
   "source": []
  }
 ],
 "metadata": {
  "kernelspec": {
   "display_name": "Python 3 (ipykernel)",
   "language": "python",
   "name": "python3"
  },
  "language_info": {
   "codemirror_mode": {
    "name": "ipython",
    "version": 3
   },
   "file_extension": ".py",
   "mimetype": "text/x-python",
   "name": "python",
   "nbconvert_exporter": "python",
   "pygments_lexer": "ipython3",
   "version": "3.9.5"
  },
  "toc": {
   "base_numbering": 1,
   "nav_menu": {},
   "number_sections": true,
   "sideBar": true,
   "skip_h1_title": true,
   "title_cell": "Table of Contents",
   "title_sidebar": "Contents",
   "toc_cell": false,
   "toc_position": {
    "height": "calc(100% - 180px)",
    "left": "10px",
    "top": "150px",
    "width": "349.398px"
   },
   "toc_section_display": true,
   "toc_window_display": false
  }
 },
 "nbformat": 4,
 "nbformat_minor": 2
}
